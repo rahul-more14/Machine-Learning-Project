{
 "cells": [
  {
   "cell_type": "markdown",
   "id": "cc82d969",
   "metadata": {},
   "source": [
    "# Problem Statement"
   ]
  },
  {
   "cell_type": "raw",
   "id": "0bc181c1",
   "metadata": {},
   "source": [
    "This case is about a bank (Thera Bank)\n",
    "\n",
    "Majority of these customers are liability customers (depositors) with varying size of deposits.\n",
    "\n",
    "The number of customers who are also borrowers (asset customers) is quite small, and the bank is interested in expanding \n",
    "this base rapidly to bring in more loan business and in the process, earn more through the interest on loans.\n",
    "\n",
    "In particular, the management wants to explore ways of converting its liability customers to personal loan customers \n",
    "(while retaining them as depositors)."
   ]
  },
  {
   "cell_type": "markdown",
   "id": "76a98508",
   "metadata": {},
   "source": [
    "# DATA DISCRIPTION"
   ]
  },
  {
   "cell_type": "raw",
   "id": "337c42e8",
   "metadata": {},
   "source": [
    "1. ID: Customer ID\n",
    "2. Age: Customer's age in completed years\n",
    "3. Experience: #years of professional experience\n",
    "4. Income: Annual income of the customer ($000)\n",
    "5. ZIPCode: Home Address ZIP code.\n",
    "6. Family: Family size of the customer\n",
    "7. CCAvg: Avg. spending on credit cards per month ($000) \n",
    "8. Education: Education Level. 1: Undergrad; 2: Graduate; 3: Advanced/Professional\n",
    "9. Mortgage: Value of house mortgage if any.($000) \n",
    "10.Personal Loan: Did this customer accept the personal loan offered in the last campaign? \n",
    "11.Securities Account: Does the customer have a securities account with the bank?\n",
    "12.CD Account: Does the customer have a certificate of deposit (CD) account with the bank?\n",
    "13.Online: Does the customer use internet banking facilities? \n",
    "14.CreditCard: Does the customer uses a credit card issued by UniversalBank?"
   ]
  },
  {
   "cell_type": "markdown",
   "id": "3e4063c9",
   "metadata": {},
   "source": [
    "# Problem Objective"
   ]
  },
  {
   "cell_type": "raw",
   "id": "b55313b7",
   "metadata": {
    "collapsed": true
   },
   "source": [
    "We will build a model which will idetify the potential customers amongst the existing liability customers who has higher\n",
    "chances of taking the loan."
   ]
  },
  {
   "cell_type": "markdown",
   "id": "e9e9e57d",
   "metadata": {},
   "source": [
    "# Data Exploration and Validation"
   ]
  },
  {
   "cell_type": "code",
   "execution_count": 1,
   "id": "99049191",
   "metadata": {},
   "outputs": [],
   "source": [
    "# Importing the packages required\n",
    "import pandas as pd\n",
    "import numpy as np\n",
    "import matplotlib.pyplot as plt\n",
    "import seaborn as sns"
   ]
  },
  {
   "cell_type": "code",
   "execution_count": 2,
   "id": "a1676c44",
   "metadata": {},
   "outputs": [
    {
     "data": {
      "text/html": [
       "<div>\n",
       "<style scoped>\n",
       "    .dataframe tbody tr th:only-of-type {\n",
       "        vertical-align: middle;\n",
       "    }\n",
       "\n",
       "    .dataframe tbody tr th {\n",
       "        vertical-align: top;\n",
       "    }\n",
       "\n",
       "    .dataframe thead th {\n",
       "        text-align: right;\n",
       "    }\n",
       "</style>\n",
       "<table border=\"1\" class=\"dataframe\">\n",
       "  <thead>\n",
       "    <tr style=\"text-align: right;\">\n",
       "      <th></th>\n",
       "      <th>ID</th>\n",
       "      <th>Age</th>\n",
       "      <th>Experience</th>\n",
       "      <th>Income</th>\n",
       "      <th>ZIP Code</th>\n",
       "      <th>Family</th>\n",
       "      <th>CCAvg</th>\n",
       "      <th>Education</th>\n",
       "      <th>Mortgage</th>\n",
       "      <th>Personal Loan</th>\n",
       "      <th>Securities Account</th>\n",
       "      <th>CD Account</th>\n",
       "      <th>Online</th>\n",
       "      <th>CreditCard</th>\n",
       "    </tr>\n",
       "  </thead>\n",
       "  <tbody>\n",
       "    <tr>\n",
       "      <th>0</th>\n",
       "      <td>1</td>\n",
       "      <td>25</td>\n",
       "      <td>1</td>\n",
       "      <td>49</td>\n",
       "      <td>91107</td>\n",
       "      <td>4</td>\n",
       "      <td>1.6</td>\n",
       "      <td>1</td>\n",
       "      <td>0</td>\n",
       "      <td>0</td>\n",
       "      <td>1</td>\n",
       "      <td>0</td>\n",
       "      <td>0</td>\n",
       "      <td>0</td>\n",
       "    </tr>\n",
       "    <tr>\n",
       "      <th>1</th>\n",
       "      <td>2</td>\n",
       "      <td>45</td>\n",
       "      <td>19</td>\n",
       "      <td>34</td>\n",
       "      <td>90089</td>\n",
       "      <td>3</td>\n",
       "      <td>1.5</td>\n",
       "      <td>1</td>\n",
       "      <td>0</td>\n",
       "      <td>0</td>\n",
       "      <td>1</td>\n",
       "      <td>0</td>\n",
       "      <td>0</td>\n",
       "      <td>0</td>\n",
       "    </tr>\n",
       "    <tr>\n",
       "      <th>2</th>\n",
       "      <td>3</td>\n",
       "      <td>39</td>\n",
       "      <td>15</td>\n",
       "      <td>11</td>\n",
       "      <td>94720</td>\n",
       "      <td>1</td>\n",
       "      <td>1.0</td>\n",
       "      <td>1</td>\n",
       "      <td>0</td>\n",
       "      <td>0</td>\n",
       "      <td>0</td>\n",
       "      <td>0</td>\n",
       "      <td>0</td>\n",
       "      <td>0</td>\n",
       "    </tr>\n",
       "    <tr>\n",
       "      <th>3</th>\n",
       "      <td>4</td>\n",
       "      <td>35</td>\n",
       "      <td>9</td>\n",
       "      <td>100</td>\n",
       "      <td>94112</td>\n",
       "      <td>1</td>\n",
       "      <td>2.7</td>\n",
       "      <td>2</td>\n",
       "      <td>0</td>\n",
       "      <td>0</td>\n",
       "      <td>0</td>\n",
       "      <td>0</td>\n",
       "      <td>0</td>\n",
       "      <td>0</td>\n",
       "    </tr>\n",
       "    <tr>\n",
       "      <th>4</th>\n",
       "      <td>5</td>\n",
       "      <td>35</td>\n",
       "      <td>8</td>\n",
       "      <td>45</td>\n",
       "      <td>91330</td>\n",
       "      <td>4</td>\n",
       "      <td>1.0</td>\n",
       "      <td>2</td>\n",
       "      <td>0</td>\n",
       "      <td>0</td>\n",
       "      <td>0</td>\n",
       "      <td>0</td>\n",
       "      <td>0</td>\n",
       "      <td>1</td>\n",
       "    </tr>\n",
       "    <tr>\n",
       "      <th>...</th>\n",
       "      <td>...</td>\n",
       "      <td>...</td>\n",
       "      <td>...</td>\n",
       "      <td>...</td>\n",
       "      <td>...</td>\n",
       "      <td>...</td>\n",
       "      <td>...</td>\n",
       "      <td>...</td>\n",
       "      <td>...</td>\n",
       "      <td>...</td>\n",
       "      <td>...</td>\n",
       "      <td>...</td>\n",
       "      <td>...</td>\n",
       "      <td>...</td>\n",
       "    </tr>\n",
       "    <tr>\n",
       "      <th>4995</th>\n",
       "      <td>4996</td>\n",
       "      <td>29</td>\n",
       "      <td>3</td>\n",
       "      <td>40</td>\n",
       "      <td>92697</td>\n",
       "      <td>1</td>\n",
       "      <td>1.9</td>\n",
       "      <td>3</td>\n",
       "      <td>0</td>\n",
       "      <td>0</td>\n",
       "      <td>0</td>\n",
       "      <td>0</td>\n",
       "      <td>1</td>\n",
       "      <td>0</td>\n",
       "    </tr>\n",
       "    <tr>\n",
       "      <th>4996</th>\n",
       "      <td>4997</td>\n",
       "      <td>30</td>\n",
       "      <td>4</td>\n",
       "      <td>15</td>\n",
       "      <td>92037</td>\n",
       "      <td>4</td>\n",
       "      <td>0.4</td>\n",
       "      <td>1</td>\n",
       "      <td>85</td>\n",
       "      <td>0</td>\n",
       "      <td>0</td>\n",
       "      <td>0</td>\n",
       "      <td>1</td>\n",
       "      <td>0</td>\n",
       "    </tr>\n",
       "    <tr>\n",
       "      <th>4997</th>\n",
       "      <td>4998</td>\n",
       "      <td>63</td>\n",
       "      <td>39</td>\n",
       "      <td>24</td>\n",
       "      <td>93023</td>\n",
       "      <td>2</td>\n",
       "      <td>0.3</td>\n",
       "      <td>3</td>\n",
       "      <td>0</td>\n",
       "      <td>0</td>\n",
       "      <td>0</td>\n",
       "      <td>0</td>\n",
       "      <td>0</td>\n",
       "      <td>0</td>\n",
       "    </tr>\n",
       "    <tr>\n",
       "      <th>4998</th>\n",
       "      <td>4999</td>\n",
       "      <td>65</td>\n",
       "      <td>40</td>\n",
       "      <td>49</td>\n",
       "      <td>90034</td>\n",
       "      <td>3</td>\n",
       "      <td>0.5</td>\n",
       "      <td>2</td>\n",
       "      <td>0</td>\n",
       "      <td>0</td>\n",
       "      <td>0</td>\n",
       "      <td>0</td>\n",
       "      <td>1</td>\n",
       "      <td>0</td>\n",
       "    </tr>\n",
       "    <tr>\n",
       "      <th>4999</th>\n",
       "      <td>5000</td>\n",
       "      <td>28</td>\n",
       "      <td>4</td>\n",
       "      <td>83</td>\n",
       "      <td>92612</td>\n",
       "      <td>3</td>\n",
       "      <td>0.8</td>\n",
       "      <td>1</td>\n",
       "      <td>0</td>\n",
       "      <td>0</td>\n",
       "      <td>0</td>\n",
       "      <td>0</td>\n",
       "      <td>1</td>\n",
       "      <td>1</td>\n",
       "    </tr>\n",
       "  </tbody>\n",
       "</table>\n",
       "<p>5000 rows × 14 columns</p>\n",
       "</div>"
      ],
      "text/plain": [
       "        ID  Age  Experience  Income  ZIP Code  Family  CCAvg  Education  \\\n",
       "0        1   25           1      49     91107       4    1.6          1   \n",
       "1        2   45          19      34     90089       3    1.5          1   \n",
       "2        3   39          15      11     94720       1    1.0          1   \n",
       "3        4   35           9     100     94112       1    2.7          2   \n",
       "4        5   35           8      45     91330       4    1.0          2   \n",
       "...    ...  ...         ...     ...       ...     ...    ...        ...   \n",
       "4995  4996   29           3      40     92697       1    1.9          3   \n",
       "4996  4997   30           4      15     92037       4    0.4          1   \n",
       "4997  4998   63          39      24     93023       2    0.3          3   \n",
       "4998  4999   65          40      49     90034       3    0.5          2   \n",
       "4999  5000   28           4      83     92612       3    0.8          1   \n",
       "\n",
       "      Mortgage  Personal Loan  Securities Account  CD Account  Online  \\\n",
       "0            0              0                   1           0       0   \n",
       "1            0              0                   1           0       0   \n",
       "2            0              0                   0           0       0   \n",
       "3            0              0                   0           0       0   \n",
       "4            0              0                   0           0       0   \n",
       "...        ...            ...                 ...         ...     ...   \n",
       "4995         0              0                   0           0       1   \n",
       "4996        85              0                   0           0       1   \n",
       "4997         0              0                   0           0       0   \n",
       "4998         0              0                   0           0       1   \n",
       "4999         0              0                   0           0       1   \n",
       "\n",
       "      CreditCard  \n",
       "0              0  \n",
       "1              0  \n",
       "2              0  \n",
       "3              0  \n",
       "4              1  \n",
       "...          ...  \n",
       "4995           0  \n",
       "4996           0  \n",
       "4997           0  \n",
       "4998           0  \n",
       "4999           1  \n",
       "\n",
       "[5000 rows x 14 columns]"
      ]
     },
     "execution_count": 2,
     "metadata": {},
     "output_type": "execute_result"
    }
   ],
   "source": [
    "# Data Source\n",
    "url = \"https://github.com/rahul-more14/Machine-Learning-Project/blob/main/Bank_Personal_Loan_Modelling.xlsx?raw=True\"\n",
    "\n",
    "# Importing Data\n",
    "data1=pd.read_excel(url, sheet_name=\"Data\")\n",
    "\n",
    "# Printing Data\n",
    "data1"
   ]
  },
  {
   "cell_type": "markdown",
   "id": "385df8b7",
   "metadata": {},
   "source": [
    "# NOTE"
   ]
  },
  {
   "cell_type": "raw",
   "id": "4bf1c5c6",
   "metadata": {},
   "source": [
    "Personal Loan is the Target Variable."
   ]
  },
  {
   "cell_type": "code",
   "execution_count": 3,
   "id": "c9b4cd99",
   "metadata": {},
   "outputs": [
    {
     "name": "stdout",
     "output_type": "stream",
     "text": [
      "<class 'pandas.core.frame.DataFrame'>\n",
      "RangeIndex: 5000 entries, 0 to 4999\n",
      "Data columns (total 14 columns):\n",
      " #   Column              Non-Null Count  Dtype  \n",
      "---  ------              --------------  -----  \n",
      " 0   ID                  5000 non-null   int64  \n",
      " 1   Age                 5000 non-null   int64  \n",
      " 2   Experience          5000 non-null   int64  \n",
      " 3   Income              5000 non-null   int64  \n",
      " 4   ZIP Code            5000 non-null   int64  \n",
      " 5   Family              5000 non-null   int64  \n",
      " 6   CCAvg               5000 non-null   float64\n",
      " 7   Education           5000 non-null   int64  \n",
      " 8   Mortgage            5000 non-null   int64  \n",
      " 9   Personal Loan       5000 non-null   int64  \n",
      " 10  Securities Account  5000 non-null   int64  \n",
      " 11  CD Account          5000 non-null   int64  \n",
      " 12  Online              5000 non-null   int64  \n",
      " 13  CreditCard          5000 non-null   int64  \n",
      "dtypes: float64(1), int64(13)\n",
      "memory usage: 547.0 KB\n"
     ]
    }
   ],
   "source": [
    "# Getting General Infomation of the Data\n",
    "data1.info()"
   ]
  },
  {
   "cell_type": "code",
   "execution_count": 4,
   "id": "5a3be8bf",
   "metadata": {},
   "outputs": [
    {
     "data": {
      "text/plain": [
       "(5000, 14)"
      ]
     },
     "execution_count": 4,
     "metadata": {},
     "output_type": "execute_result"
    }
   ],
   "source": [
    "# Number of rows and Columns\n",
    "data1.shape"
   ]
  },
  {
   "cell_type": "code",
   "execution_count": 5,
   "id": "7ab92d80",
   "metadata": {},
   "outputs": [
    {
     "data": {
      "text/plain": [
       "array(['ID', 'Age', 'Experience', 'Income', 'ZIP Code', 'Family', 'CCAvg',\n",
       "       'Education', 'Mortgage', 'Personal Loan', 'Securities Account',\n",
       "       'CD Account', 'Online', 'CreditCard'], dtype=object)"
      ]
     },
     "execution_count": 5,
     "metadata": {},
     "output_type": "execute_result"
    }
   ],
   "source": [
    "# Columns Values\n",
    "data1.columns.values"
   ]
  },
  {
   "cell_type": "code",
   "execution_count": 6,
   "id": "b39924d2",
   "metadata": {},
   "outputs": [
    {
     "data": {
      "text/plain": [
       "ID                      int64\n",
       "Age                     int64\n",
       "Experience              int64\n",
       "Income                  int64\n",
       "ZIP Code                int64\n",
       "Family                  int64\n",
       "CCAvg                 float64\n",
       "Education               int64\n",
       "Mortgage                int64\n",
       "Personal Loan           int64\n",
       "Securities Account      int64\n",
       "CD Account              int64\n",
       "Online                  int64\n",
       "CreditCard              int64\n",
       "dtype: object"
      ]
     },
     "execution_count": 6,
     "metadata": {},
     "output_type": "execute_result"
    }
   ],
   "source": [
    "#Variable format\n",
    "data1.dtypes"
   ]
  },
  {
   "cell_type": "markdown",
   "id": "752cd3a7",
   "metadata": {},
   "source": [
    "# Observations:"
   ]
  },
  {
   "cell_type": "raw",
   "id": "987a9126",
   "metadata": {},
   "source": [
    "1. Data has 13 Variables and 5000 observations.\n",
    "\n",
    "2. There is no null value.\n",
    "\n",
    "3. There is only one variable with Folat values and the rest are integers."
   ]
  },
  {
   "cell_type": "code",
   "execution_count": 7,
   "id": "c1bc2a2e",
   "metadata": {},
   "outputs": [
    {
     "data": {
      "text/html": [
       "<div>\n",
       "<style scoped>\n",
       "    .dataframe tbody tr th:only-of-type {\n",
       "        vertical-align: middle;\n",
       "    }\n",
       "\n",
       "    .dataframe tbody tr th {\n",
       "        vertical-align: top;\n",
       "    }\n",
       "\n",
       "    .dataframe thead th {\n",
       "        text-align: right;\n",
       "    }\n",
       "</style>\n",
       "<table border=\"1\" class=\"dataframe\">\n",
       "  <thead>\n",
       "    <tr style=\"text-align: right;\">\n",
       "      <th></th>\n",
       "      <th>ID</th>\n",
       "      <th>Age</th>\n",
       "      <th>Experience</th>\n",
       "      <th>Income</th>\n",
       "      <th>ZIP Code</th>\n",
       "      <th>Family</th>\n",
       "      <th>CCAvg</th>\n",
       "      <th>Education</th>\n",
       "      <th>Mortgage</th>\n",
       "      <th>Personal Loan</th>\n",
       "      <th>Securities Account</th>\n",
       "      <th>CD Account</th>\n",
       "      <th>Online</th>\n",
       "      <th>CreditCard</th>\n",
       "    </tr>\n",
       "  </thead>\n",
       "  <tbody>\n",
       "    <tr>\n",
       "      <th>0</th>\n",
       "      <td>1</td>\n",
       "      <td>25</td>\n",
       "      <td>1</td>\n",
       "      <td>49</td>\n",
       "      <td>91107</td>\n",
       "      <td>4</td>\n",
       "      <td>1.6</td>\n",
       "      <td>1</td>\n",
       "      <td>0</td>\n",
       "      <td>0</td>\n",
       "      <td>1</td>\n",
       "      <td>0</td>\n",
       "      <td>0</td>\n",
       "      <td>0</td>\n",
       "    </tr>\n",
       "    <tr>\n",
       "      <th>1</th>\n",
       "      <td>2</td>\n",
       "      <td>45</td>\n",
       "      <td>19</td>\n",
       "      <td>34</td>\n",
       "      <td>90089</td>\n",
       "      <td>3</td>\n",
       "      <td>1.5</td>\n",
       "      <td>1</td>\n",
       "      <td>0</td>\n",
       "      <td>0</td>\n",
       "      <td>1</td>\n",
       "      <td>0</td>\n",
       "      <td>0</td>\n",
       "      <td>0</td>\n",
       "    </tr>\n",
       "    <tr>\n",
       "      <th>2</th>\n",
       "      <td>3</td>\n",
       "      <td>39</td>\n",
       "      <td>15</td>\n",
       "      <td>11</td>\n",
       "      <td>94720</td>\n",
       "      <td>1</td>\n",
       "      <td>1.0</td>\n",
       "      <td>1</td>\n",
       "      <td>0</td>\n",
       "      <td>0</td>\n",
       "      <td>0</td>\n",
       "      <td>0</td>\n",
       "      <td>0</td>\n",
       "      <td>0</td>\n",
       "    </tr>\n",
       "    <tr>\n",
       "      <th>3</th>\n",
       "      <td>4</td>\n",
       "      <td>35</td>\n",
       "      <td>9</td>\n",
       "      <td>100</td>\n",
       "      <td>94112</td>\n",
       "      <td>1</td>\n",
       "      <td>2.7</td>\n",
       "      <td>2</td>\n",
       "      <td>0</td>\n",
       "      <td>0</td>\n",
       "      <td>0</td>\n",
       "      <td>0</td>\n",
       "      <td>0</td>\n",
       "      <td>0</td>\n",
       "    </tr>\n",
       "    <tr>\n",
       "      <th>4</th>\n",
       "      <td>5</td>\n",
       "      <td>35</td>\n",
       "      <td>8</td>\n",
       "      <td>45</td>\n",
       "      <td>91330</td>\n",
       "      <td>4</td>\n",
       "      <td>1.0</td>\n",
       "      <td>2</td>\n",
       "      <td>0</td>\n",
       "      <td>0</td>\n",
       "      <td>0</td>\n",
       "      <td>0</td>\n",
       "      <td>0</td>\n",
       "      <td>1</td>\n",
       "    </tr>\n",
       "    <tr>\n",
       "      <th>5</th>\n",
       "      <td>6</td>\n",
       "      <td>37</td>\n",
       "      <td>13</td>\n",
       "      <td>29</td>\n",
       "      <td>92121</td>\n",
       "      <td>4</td>\n",
       "      <td>0.4</td>\n",
       "      <td>2</td>\n",
       "      <td>155</td>\n",
       "      <td>0</td>\n",
       "      <td>0</td>\n",
       "      <td>0</td>\n",
       "      <td>1</td>\n",
       "      <td>0</td>\n",
       "    </tr>\n",
       "    <tr>\n",
       "      <th>6</th>\n",
       "      <td>7</td>\n",
       "      <td>53</td>\n",
       "      <td>27</td>\n",
       "      <td>72</td>\n",
       "      <td>91711</td>\n",
       "      <td>2</td>\n",
       "      <td>1.5</td>\n",
       "      <td>2</td>\n",
       "      <td>0</td>\n",
       "      <td>0</td>\n",
       "      <td>0</td>\n",
       "      <td>0</td>\n",
       "      <td>1</td>\n",
       "      <td>0</td>\n",
       "    </tr>\n",
       "    <tr>\n",
       "      <th>7</th>\n",
       "      <td>8</td>\n",
       "      <td>50</td>\n",
       "      <td>24</td>\n",
       "      <td>22</td>\n",
       "      <td>93943</td>\n",
       "      <td>1</td>\n",
       "      <td>0.3</td>\n",
       "      <td>3</td>\n",
       "      <td>0</td>\n",
       "      <td>0</td>\n",
       "      <td>0</td>\n",
       "      <td>0</td>\n",
       "      <td>0</td>\n",
       "      <td>1</td>\n",
       "    </tr>\n",
       "    <tr>\n",
       "      <th>8</th>\n",
       "      <td>9</td>\n",
       "      <td>35</td>\n",
       "      <td>10</td>\n",
       "      <td>81</td>\n",
       "      <td>90089</td>\n",
       "      <td>3</td>\n",
       "      <td>0.6</td>\n",
       "      <td>2</td>\n",
       "      <td>104</td>\n",
       "      <td>0</td>\n",
       "      <td>0</td>\n",
       "      <td>0</td>\n",
       "      <td>1</td>\n",
       "      <td>0</td>\n",
       "    </tr>\n",
       "    <tr>\n",
       "      <th>9</th>\n",
       "      <td>10</td>\n",
       "      <td>34</td>\n",
       "      <td>9</td>\n",
       "      <td>180</td>\n",
       "      <td>93023</td>\n",
       "      <td>1</td>\n",
       "      <td>8.9</td>\n",
       "      <td>3</td>\n",
       "      <td>0</td>\n",
       "      <td>1</td>\n",
       "      <td>0</td>\n",
       "      <td>0</td>\n",
       "      <td>0</td>\n",
       "      <td>0</td>\n",
       "    </tr>\n",
       "  </tbody>\n",
       "</table>\n",
       "</div>"
      ],
      "text/plain": [
       "   ID  Age  Experience  Income  ZIP Code  Family  CCAvg  Education  Mortgage  \\\n",
       "0   1   25           1      49     91107       4    1.6          1         0   \n",
       "1   2   45          19      34     90089       3    1.5          1         0   \n",
       "2   3   39          15      11     94720       1    1.0          1         0   \n",
       "3   4   35           9     100     94112       1    2.7          2         0   \n",
       "4   5   35           8      45     91330       4    1.0          2         0   \n",
       "5   6   37          13      29     92121       4    0.4          2       155   \n",
       "6   7   53          27      72     91711       2    1.5          2         0   \n",
       "7   8   50          24      22     93943       1    0.3          3         0   \n",
       "8   9   35          10      81     90089       3    0.6          2       104   \n",
       "9  10   34           9     180     93023       1    8.9          3         0   \n",
       "\n",
       "   Personal Loan  Securities Account  CD Account  Online  CreditCard  \n",
       "0              0                   1           0       0           0  \n",
       "1              0                   1           0       0           0  \n",
       "2              0                   0           0       0           0  \n",
       "3              0                   0           0       0           0  \n",
       "4              0                   0           0       0           1  \n",
       "5              0                   0           0       1           0  \n",
       "6              0                   0           0       1           0  \n",
       "7              0                   0           0       0           1  \n",
       "8              0                   0           0       1           0  \n",
       "9              1                   0           0       0           0  "
      ]
     },
     "execution_count": 7,
     "metadata": {},
     "output_type": "execute_result"
    }
   ],
   "source": [
    "# Observing first 10 observations\n",
    "data1.head(10)"
   ]
  },
  {
   "cell_type": "code",
   "execution_count": 8,
   "id": "e1fdc643",
   "metadata": {},
   "outputs": [
    {
     "data": {
      "text/plain": [
       "array(['ID', 'Age', 'Experience', 'Income', 'ZIP Code', 'Family', 'CCAvg',\n",
       "       'Education', 'Mortgage', 'Personal Loan', 'Securities Account',\n",
       "       'CD Account', 'Online', 'CreditCard'], dtype=object)"
      ]
     },
     "execution_count": 8,
     "metadata": {},
     "output_type": "execute_result"
    }
   ],
   "source": [
    "#Idetifying any unique Identifier\n",
    "data1.columns.values"
   ]
  },
  {
   "cell_type": "raw",
   "id": "89a0414f",
   "metadata": {},
   "source": [
    " Here ID is the unique Identifier"
   ]
  },
  {
   "cell_type": "code",
   "execution_count": 9,
   "id": "cb48481c",
   "metadata": {},
   "outputs": [
    {
     "name": "stdout",
     "output_type": "stream",
     "text": [
      "ID                      int64\n",
      "Age                     int64\n",
      "Experience              int64\n",
      "Income                  int64\n",
      "ZIP Code                int64\n",
      "Family                  int64\n",
      "CCAvg                 float64\n",
      "Education               int64\n",
      "Mortgage                int64\n",
      "Personal Loan           int64\n",
      "Securities Account      int64\n",
      "CD Account              int64\n",
      "Online                  int64\n",
      "CreditCard              int64\n",
      "dtype: object\n"
     ]
    },
    {
     "data": {
      "text/html": [
       "<div>\n",
       "<style scoped>\n",
       "    .dataframe tbody tr th:only-of-type {\n",
       "        vertical-align: middle;\n",
       "    }\n",
       "\n",
       "    .dataframe tbody tr th {\n",
       "        vertical-align: top;\n",
       "    }\n",
       "\n",
       "    .dataframe thead th {\n",
       "        text-align: right;\n",
       "    }\n",
       "</style>\n",
       "<table border=\"1\" class=\"dataframe\">\n",
       "  <thead>\n",
       "    <tr style=\"text-align: right;\">\n",
       "      <th></th>\n",
       "      <th>ID</th>\n",
       "      <th>Age</th>\n",
       "      <th>Experience</th>\n",
       "      <th>Income</th>\n",
       "      <th>ZIP Code</th>\n",
       "      <th>Family</th>\n",
       "      <th>CCAvg</th>\n",
       "      <th>Education</th>\n",
       "      <th>Mortgage</th>\n",
       "      <th>Personal Loan</th>\n",
       "      <th>Securities Account</th>\n",
       "      <th>CD Account</th>\n",
       "      <th>Online</th>\n",
       "      <th>CreditCard</th>\n",
       "    </tr>\n",
       "  </thead>\n",
       "  <tbody>\n",
       "    <tr>\n",
       "      <th>0</th>\n",
       "      <td>1</td>\n",
       "      <td>25</td>\n",
       "      <td>1</td>\n",
       "      <td>49</td>\n",
       "      <td>91107</td>\n",
       "      <td>4</td>\n",
       "      <td>1.6</td>\n",
       "      <td>1</td>\n",
       "      <td>0</td>\n",
       "      <td>0</td>\n",
       "      <td>1</td>\n",
       "      <td>0</td>\n",
       "      <td>0</td>\n",
       "      <td>0</td>\n",
       "    </tr>\n",
       "    <tr>\n",
       "      <th>1</th>\n",
       "      <td>2</td>\n",
       "      <td>45</td>\n",
       "      <td>19</td>\n",
       "      <td>34</td>\n",
       "      <td>90089</td>\n",
       "      <td>3</td>\n",
       "      <td>1.5</td>\n",
       "      <td>1</td>\n",
       "      <td>0</td>\n",
       "      <td>0</td>\n",
       "      <td>1</td>\n",
       "      <td>0</td>\n",
       "      <td>0</td>\n",
       "      <td>0</td>\n",
       "    </tr>\n",
       "    <tr>\n",
       "      <th>2</th>\n",
       "      <td>3</td>\n",
       "      <td>39</td>\n",
       "      <td>15</td>\n",
       "      <td>11</td>\n",
       "      <td>94720</td>\n",
       "      <td>1</td>\n",
       "      <td>1.0</td>\n",
       "      <td>1</td>\n",
       "      <td>0</td>\n",
       "      <td>0</td>\n",
       "      <td>0</td>\n",
       "      <td>0</td>\n",
       "      <td>0</td>\n",
       "      <td>0</td>\n",
       "    </tr>\n",
       "    <tr>\n",
       "      <th>3</th>\n",
       "      <td>4</td>\n",
       "      <td>35</td>\n",
       "      <td>9</td>\n",
       "      <td>100</td>\n",
       "      <td>94112</td>\n",
       "      <td>1</td>\n",
       "      <td>2.7</td>\n",
       "      <td>2</td>\n",
       "      <td>0</td>\n",
       "      <td>0</td>\n",
       "      <td>0</td>\n",
       "      <td>0</td>\n",
       "      <td>0</td>\n",
       "      <td>0</td>\n",
       "    </tr>\n",
       "    <tr>\n",
       "      <th>4</th>\n",
       "      <td>5</td>\n",
       "      <td>35</td>\n",
       "      <td>8</td>\n",
       "      <td>45</td>\n",
       "      <td>91330</td>\n",
       "      <td>4</td>\n",
       "      <td>1.0</td>\n",
       "      <td>2</td>\n",
       "      <td>0</td>\n",
       "      <td>0</td>\n",
       "      <td>0</td>\n",
       "      <td>0</td>\n",
       "      <td>0</td>\n",
       "      <td>1</td>\n",
       "    </tr>\n",
       "  </tbody>\n",
       "</table>\n",
       "</div>"
      ],
      "text/plain": [
       "   ID  Age  Experience  Income  ZIP Code  Family  CCAvg  Education  Mortgage  \\\n",
       "0   1   25           1      49     91107       4    1.6          1         0   \n",
       "1   2   45          19      34     90089       3    1.5          1         0   \n",
       "2   3   39          15      11     94720       1    1.0          1         0   \n",
       "3   4   35           9     100     94112       1    2.7          2         0   \n",
       "4   5   35           8      45     91330       4    1.0          2         0   \n",
       "\n",
       "   Personal Loan  Securities Account  CD Account  Online  CreditCard  \n",
       "0              0                   1           0       0           0  \n",
       "1              0                   1           0       0           0  \n",
       "2              0                   0           0       0           0  \n",
       "3              0                   0           0       0           0  \n",
       "4              0                   0           0       0           1  "
      ]
     },
     "execution_count": 9,
     "metadata": {},
     "output_type": "execute_result"
    }
   ],
   "source": [
    "# What are the categorical and discrete variables?\n",
    "print(data1.dtypes)\n",
    "data1.head()"
   ]
  },
  {
   "cell_type": "raw",
   "id": "546816c7",
   "metadata": {},
   "source": [
    "Categorical Variables:\n",
    "\n",
    "1.ZIP Code\n",
    "2.Family\n",
    "3.Education\n",
    "4.Personal Loan\n",
    "5.Securities Account\n",
    "6.CD Account\n",
    "7.Online\n",
    "8.CreditCard\n",
    "\n",
    "Continuous Variables:\n",
    "\n",
    "1.Age\n",
    "2.Experience\n",
    "3.Income\n",
    "4.CCAvg\n",
    "5.Mortgage"
   ]
  },
  {
   "cell_type": "markdown",
   "id": "24f004c4",
   "metadata": {},
   "source": [
    "# Categorical Variable Exploration"
   ]
  },
  {
   "cell_type": "markdown",
   "id": "8d042d9c",
   "metadata": {},
   "source": [
    "# 1. Zip Code"
   ]
  },
  {
   "cell_type": "raw",
   "id": "38864898",
   "metadata": {},
   "source": [
    "NOTE: This Variable is not useful in buildinf the model. and hence variable exploration is not necessary."
   ]
  },
  {
   "cell_type": "markdown",
   "id": "69f71674",
   "metadata": {},
   "source": [
    "# 2. Family"
   ]
  },
  {
   "cell_type": "code",
   "execution_count": 10,
   "id": "354bf60c",
   "metadata": {},
   "outputs": [
    {
     "name": "stdout",
     "output_type": "stream",
     "text": [
      "1    1472\n",
      "2    1296\n",
      "4    1222\n",
      "3    1010\n",
      "Name: Family, dtype: int64\n"
     ]
    },
    {
     "data": {
      "text/plain": [
       "<Axes: xlabel='count', ylabel='Family'>"
      ]
     },
     "execution_count": 10,
     "metadata": {},
     "output_type": "execute_result"
    },
    {
     "data": {
      "image/png": "[encoded data removed]",
      "text/plain": [
       "<Figure size 640x480 with 1 Axes>"
      ]
     },
     "metadata": {},
     "output_type": "display_data"
    }
   ],
   "source": [
    "# counting the value's in the family variable.\n",
    "print(data1['Family'].value_counts())\n",
    "\n",
    "# Plotting the count plot\n",
    "sns.countplot(y=\"Family\" , data=data1)"
   ]
  },
  {
   "cell_type": "raw",
   "id": "94a8b3b6",
   "metadata": {},
   "source": [
    "Observation:\n",
    "1. The variable Family is the number of dependent members in the customers Family.\n",
    "2. This variable takes values 1,2,3 and 4.\n",
    "3. No outlier detection.\n",
    "4. No null value\n",
    "5. customer with only one Family member is maximum.\n",
    "6. The variable is clean."
   ]
  },
  {
   "cell_type": "markdown",
   "id": "a6606648",
   "metadata": {},
   "source": [
    "# 3. Education"
   ]
  },
  {
   "cell_type": "code",
   "execution_count": 11,
   "id": "a7578108",
   "metadata": {},
   "outputs": [
    {
     "name": "stdout",
     "output_type": "stream",
     "text": [
      "1    2096\n",
      "3    1501\n",
      "2    1403\n",
      "Name: Education, dtype: int64\n"
     ]
    },
    {
     "data": {
      "text/plain": [
       "<Axes: xlabel='count', ylabel='Education'>"
      ]
     },
     "execution_count": 11,
     "metadata": {},
     "output_type": "execute_result"
    },
    {
     "data": {
      "image/png": "[encoded data removed]",
      "text/plain": [
       "<Figure size 640x480 with 1 Axes>"
      ]
     },
     "metadata": {},
     "output_type": "display_data"
    }
   ],
   "source": [
    "# counting the value's in the Education variable.\n",
    "print(data1['Education'].value_counts())\n",
    "\n",
    "# Plotting the count plot\n",
    "sns.countplot(y=\"Education\" , data=data1)"
   ]
  },
  {
   "cell_type": "raw",
   "id": "917755a0",
   "metadata": {},
   "source": [
    "Observation:\n",
    "1. Education take values of 1,2 or 3.\n",
    "2. 1 for under Graduate, 2 for Graduate and 3 for Post Graduate.\n",
    "3. All the values in the data takes one of these three possible value.\n",
    "4. No outlier detection.\n",
    "5. No Null Value.\n",
    "6. Customers who are under graduate is more in number.\n",
    "7. This Variable is clean"
   ]
  },
  {
   "cell_type": "markdown",
   "id": "afe1a7b9",
   "metadata": {},
   "source": [
    "# 4. Personal Loan"
   ]
  },
  {
   "cell_type": "code",
   "execution_count": 12,
   "id": "b3e13b58",
   "metadata": {},
   "outputs": [
    {
     "name": "stdout",
     "output_type": "stream",
     "text": [
      "0    4520\n",
      "1     480\n",
      "Name: Personal Loan, dtype: int64\n"
     ]
    },
    {
     "data": {
      "text/plain": [
       "<Axes: xlabel='count', ylabel='Personal Loan'>"
      ]
     },
     "execution_count": 12,
     "metadata": {},
     "output_type": "execute_result"
    },
    {
     "data": {
      "image/png": "[encoded data removed]",
      "text/plain": [
       "<Figure size 640x480 with 1 Axes>"
      ]
     },
     "metadata": {},
     "output_type": "display_data"
    }
   ],
   "source": [
    "# counting the value's in the Personal Loan variable.\n",
    "print(data1['Personal Loan'].value_counts())\n",
    "\n",
    "# Plotting the count plot\n",
    "sns.countplot(y=\"Personal Loan\" , data=data1)"
   ]
  },
  {
   "cell_type": "raw",
   "id": "026cbfea",
   "metadata": {},
   "source": [
    "Observation:\n",
    "1. This Variable personal loan take two values 0 and 1\n",
    "2. 0 indicating that customer did not accept the personal loan offered in the last campaign and 1 indicates that the \n",
    "    customer accepted the personal loan offered in the last campaign.\n",
    "3. There is no null value.\n",
    "4. No outlier detection.\n",
    "5. This variable is clean.\n",
    "6.The varible is highly imbalance. That is the class 0 values dominates over class 1 values"
   ]
  },
  {
   "cell_type": "code",
   "execution_count": 13,
   "id": "5a67ab7f",
   "metadata": {},
   "outputs": [],
   "source": [
    "#  Creating a copy of the dataframe so that the original data is not lost\n",
    "data = data1 \n",
    "\n",
    "# NOTE: data1 is the original dataset. "
   ]
  },
  {
   "cell_type": "code",
   "execution_count": 14,
   "id": "2aa785b0",
   "metadata": {},
   "outputs": [
    {
     "data": {
      "text/html": [
       "<div>\n",
       "<style scoped>\n",
       "    .dataframe tbody tr th:only-of-type {\n",
       "        vertical-align: middle;\n",
       "    }\n",
       "\n",
       "    .dataframe tbody tr th {\n",
       "        vertical-align: top;\n",
       "    }\n",
       "\n",
       "    .dataframe thead th {\n",
       "        text-align: right;\n",
       "    }\n",
       "</style>\n",
       "<table border=\"1\" class=\"dataframe\">\n",
       "  <thead>\n",
       "    <tr style=\"text-align: right;\">\n",
       "      <th></th>\n",
       "      <th>ID</th>\n",
       "      <th>Age</th>\n",
       "      <th>Experience</th>\n",
       "      <th>Income</th>\n",
       "      <th>ZIP Code</th>\n",
       "      <th>Family</th>\n",
       "      <th>CCAvg</th>\n",
       "      <th>Education</th>\n",
       "      <th>Mortgage</th>\n",
       "      <th>Personal Loan</th>\n",
       "      <th>Securities Account</th>\n",
       "      <th>CD Account</th>\n",
       "      <th>Online</th>\n",
       "      <th>CreditCard</th>\n",
       "    </tr>\n",
       "  </thead>\n",
       "  <tbody>\n",
       "    <tr>\n",
       "      <th>0</th>\n",
       "      <td>1</td>\n",
       "      <td>25</td>\n",
       "      <td>1</td>\n",
       "      <td>49</td>\n",
       "      <td>91107</td>\n",
       "      <td>4</td>\n",
       "      <td>1.6</td>\n",
       "      <td>1</td>\n",
       "      <td>0</td>\n",
       "      <td>0</td>\n",
       "      <td>1</td>\n",
       "      <td>0</td>\n",
       "      <td>0</td>\n",
       "      <td>0</td>\n",
       "    </tr>\n",
       "    <tr>\n",
       "      <th>1</th>\n",
       "      <td>2</td>\n",
       "      <td>45</td>\n",
       "      <td>19</td>\n",
       "      <td>34</td>\n",
       "      <td>90089</td>\n",
       "      <td>3</td>\n",
       "      <td>1.5</td>\n",
       "      <td>1</td>\n",
       "      <td>0</td>\n",
       "      <td>0</td>\n",
       "      <td>1</td>\n",
       "      <td>0</td>\n",
       "      <td>0</td>\n",
       "      <td>0</td>\n",
       "    </tr>\n",
       "    <tr>\n",
       "      <th>2</th>\n",
       "      <td>3</td>\n",
       "      <td>39</td>\n",
       "      <td>15</td>\n",
       "      <td>11</td>\n",
       "      <td>94720</td>\n",
       "      <td>1</td>\n",
       "      <td>1.0</td>\n",
       "      <td>1</td>\n",
       "      <td>0</td>\n",
       "      <td>0</td>\n",
       "      <td>0</td>\n",
       "      <td>0</td>\n",
       "      <td>0</td>\n",
       "      <td>0</td>\n",
       "    </tr>\n",
       "    <tr>\n",
       "      <th>3</th>\n",
       "      <td>4</td>\n",
       "      <td>35</td>\n",
       "      <td>9</td>\n",
       "      <td>100</td>\n",
       "      <td>94112</td>\n",
       "      <td>1</td>\n",
       "      <td>2.7</td>\n",
       "      <td>2</td>\n",
       "      <td>0</td>\n",
       "      <td>0</td>\n",
       "      <td>0</td>\n",
       "      <td>0</td>\n",
       "      <td>0</td>\n",
       "      <td>0</td>\n",
       "    </tr>\n",
       "    <tr>\n",
       "      <th>4</th>\n",
       "      <td>5</td>\n",
       "      <td>35</td>\n",
       "      <td>8</td>\n",
       "      <td>45</td>\n",
       "      <td>91330</td>\n",
       "      <td>4</td>\n",
       "      <td>1.0</td>\n",
       "      <td>2</td>\n",
       "      <td>0</td>\n",
       "      <td>0</td>\n",
       "      <td>0</td>\n",
       "      <td>0</td>\n",
       "      <td>0</td>\n",
       "      <td>1</td>\n",
       "    </tr>\n",
       "    <tr>\n",
       "      <th>...</th>\n",
       "      <td>...</td>\n",
       "      <td>...</td>\n",
       "      <td>...</td>\n",
       "      <td>...</td>\n",
       "      <td>...</td>\n",
       "      <td>...</td>\n",
       "      <td>...</td>\n",
       "      <td>...</td>\n",
       "      <td>...</td>\n",
       "      <td>...</td>\n",
       "      <td>...</td>\n",
       "      <td>...</td>\n",
       "      <td>...</td>\n",
       "      <td>...</td>\n",
       "    </tr>\n",
       "    <tr>\n",
       "      <th>4995</th>\n",
       "      <td>4996</td>\n",
       "      <td>29</td>\n",
       "      <td>3</td>\n",
       "      <td>40</td>\n",
       "      <td>92697</td>\n",
       "      <td>1</td>\n",
       "      <td>1.9</td>\n",
       "      <td>3</td>\n",
       "      <td>0</td>\n",
       "      <td>0</td>\n",
       "      <td>0</td>\n",
       "      <td>0</td>\n",
       "      <td>1</td>\n",
       "      <td>0</td>\n",
       "    </tr>\n",
       "    <tr>\n",
       "      <th>4996</th>\n",
       "      <td>4997</td>\n",
       "      <td>30</td>\n",
       "      <td>4</td>\n",
       "      <td>15</td>\n",
       "      <td>92037</td>\n",
       "      <td>4</td>\n",
       "      <td>0.4</td>\n",
       "      <td>1</td>\n",
       "      <td>85</td>\n",
       "      <td>0</td>\n",
       "      <td>0</td>\n",
       "      <td>0</td>\n",
       "      <td>1</td>\n",
       "      <td>0</td>\n",
       "    </tr>\n",
       "    <tr>\n",
       "      <th>4997</th>\n",
       "      <td>4998</td>\n",
       "      <td>63</td>\n",
       "      <td>39</td>\n",
       "      <td>24</td>\n",
       "      <td>93023</td>\n",
       "      <td>2</td>\n",
       "      <td>0.3</td>\n",
       "      <td>3</td>\n",
       "      <td>0</td>\n",
       "      <td>0</td>\n",
       "      <td>0</td>\n",
       "      <td>0</td>\n",
       "      <td>0</td>\n",
       "      <td>0</td>\n",
       "    </tr>\n",
       "    <tr>\n",
       "      <th>4998</th>\n",
       "      <td>4999</td>\n",
       "      <td>65</td>\n",
       "      <td>40</td>\n",
       "      <td>49</td>\n",
       "      <td>90034</td>\n",
       "      <td>3</td>\n",
       "      <td>0.5</td>\n",
       "      <td>2</td>\n",
       "      <td>0</td>\n",
       "      <td>0</td>\n",
       "      <td>0</td>\n",
       "      <td>0</td>\n",
       "      <td>1</td>\n",
       "      <td>0</td>\n",
       "    </tr>\n",
       "    <tr>\n",
       "      <th>4999</th>\n",
       "      <td>5000</td>\n",
       "      <td>28</td>\n",
       "      <td>4</td>\n",
       "      <td>83</td>\n",
       "      <td>92612</td>\n",
       "      <td>3</td>\n",
       "      <td>0.8</td>\n",
       "      <td>1</td>\n",
       "      <td>0</td>\n",
       "      <td>0</td>\n",
       "      <td>0</td>\n",
       "      <td>0</td>\n",
       "      <td>1</td>\n",
       "      <td>1</td>\n",
       "    </tr>\n",
       "  </tbody>\n",
       "</table>\n",
       "<p>5000 rows × 14 columns</p>\n",
       "</div>"
      ],
      "text/plain": [
       "        ID  Age  Experience  Income  ZIP Code  Family  CCAvg  Education  \\\n",
       "0        1   25           1      49     91107       4    1.6          1   \n",
       "1        2   45          19      34     90089       3    1.5          1   \n",
       "2        3   39          15      11     94720       1    1.0          1   \n",
       "3        4   35           9     100     94112       1    2.7          2   \n",
       "4        5   35           8      45     91330       4    1.0          2   \n",
       "...    ...  ...         ...     ...       ...     ...    ...        ...   \n",
       "4995  4996   29           3      40     92697       1    1.9          3   \n",
       "4996  4997   30           4      15     92037       4    0.4          1   \n",
       "4997  4998   63          39      24     93023       2    0.3          3   \n",
       "4998  4999   65          40      49     90034       3    0.5          2   \n",
       "4999  5000   28           4      83     92612       3    0.8          1   \n",
       "\n",
       "      Mortgage  Personal Loan  Securities Account  CD Account  Online  \\\n",
       "0            0              0                   1           0       0   \n",
       "1            0              0                   1           0       0   \n",
       "2            0              0                   0           0       0   \n",
       "3            0              0                   0           0       0   \n",
       "4            0              0                   0           0       0   \n",
       "...        ...            ...                 ...         ...     ...   \n",
       "4995         0              0                   0           0       1   \n",
       "4996        85              0                   0           0       1   \n",
       "4997         0              0                   0           0       0   \n",
       "4998         0              0                   0           0       1   \n",
       "4999         0              0                   0           0       1   \n",
       "\n",
       "      CreditCard  \n",
       "0              0  \n",
       "1              0  \n",
       "2              0  \n",
       "3              0  \n",
       "4              1  \n",
       "...          ...  \n",
       "4995           0  \n",
       "4996           0  \n",
       "4997           0  \n",
       "4998           0  \n",
       "4999           1  \n",
       "\n",
       "[5000 rows x 14 columns]"
      ]
     },
     "execution_count": 14,
     "metadata": {},
     "output_type": "execute_result"
    }
   ],
   "source": [
    "data"
   ]
  },
  {
   "cell_type": "code",
   "execution_count": 15,
   "id": "551157f3",
   "metadata": {},
   "outputs": [],
   "source": [
    "# Renaming Personal Loan column\n",
    "data.rename(columns={\"Personal Loan\":\"Personal_Loan\"}, inplace=True)"
   ]
  },
  {
   "cell_type": "code",
   "execution_count": 16,
   "id": "0ec77798",
   "metadata": {},
   "outputs": [
    {
     "data": {
      "text/html": [
       "<div>\n",
       "<style scoped>\n",
       "    .dataframe tbody tr th:only-of-type {\n",
       "        vertical-align: middle;\n",
       "    }\n",
       "\n",
       "    .dataframe tbody tr th {\n",
       "        vertical-align: top;\n",
       "    }\n",
       "\n",
       "    .dataframe thead th {\n",
       "        text-align: right;\n",
       "    }\n",
       "</style>\n",
       "<table border=\"1\" class=\"dataframe\">\n",
       "  <thead>\n",
       "    <tr style=\"text-align: right;\">\n",
       "      <th></th>\n",
       "      <th>ID</th>\n",
       "      <th>Age</th>\n",
       "      <th>Experience</th>\n",
       "      <th>Income</th>\n",
       "      <th>ZIP Code</th>\n",
       "      <th>Family</th>\n",
       "      <th>CCAvg</th>\n",
       "      <th>Education</th>\n",
       "      <th>Mortgage</th>\n",
       "      <th>Personal_Loan</th>\n",
       "      <th>Securities Account</th>\n",
       "      <th>CD Account</th>\n",
       "      <th>Online</th>\n",
       "      <th>CreditCard</th>\n",
       "    </tr>\n",
       "  </thead>\n",
       "  <tbody>\n",
       "    <tr>\n",
       "      <th>0</th>\n",
       "      <td>1</td>\n",
       "      <td>25</td>\n",
       "      <td>1</td>\n",
       "      <td>49</td>\n",
       "      <td>91107</td>\n",
       "      <td>4</td>\n",
       "      <td>1.6</td>\n",
       "      <td>1</td>\n",
       "      <td>0</td>\n",
       "      <td>0</td>\n",
       "      <td>1</td>\n",
       "      <td>0</td>\n",
       "      <td>0</td>\n",
       "      <td>0</td>\n",
       "    </tr>\n",
       "    <tr>\n",
       "      <th>1</th>\n",
       "      <td>2</td>\n",
       "      <td>45</td>\n",
       "      <td>19</td>\n",
       "      <td>34</td>\n",
       "      <td>90089</td>\n",
       "      <td>3</td>\n",
       "      <td>1.5</td>\n",
       "      <td>1</td>\n",
       "      <td>0</td>\n",
       "      <td>0</td>\n",
       "      <td>1</td>\n",
       "      <td>0</td>\n",
       "      <td>0</td>\n",
       "      <td>0</td>\n",
       "    </tr>\n",
       "    <tr>\n",
       "      <th>2</th>\n",
       "      <td>3</td>\n",
       "      <td>39</td>\n",
       "      <td>15</td>\n",
       "      <td>11</td>\n",
       "      <td>94720</td>\n",
       "      <td>1</td>\n",
       "      <td>1.0</td>\n",
       "      <td>1</td>\n",
       "      <td>0</td>\n",
       "      <td>0</td>\n",
       "      <td>0</td>\n",
       "      <td>0</td>\n",
       "      <td>0</td>\n",
       "      <td>0</td>\n",
       "    </tr>\n",
       "    <tr>\n",
       "      <th>3</th>\n",
       "      <td>4</td>\n",
       "      <td>35</td>\n",
       "      <td>9</td>\n",
       "      <td>100</td>\n",
       "      <td>94112</td>\n",
       "      <td>1</td>\n",
       "      <td>2.7</td>\n",
       "      <td>2</td>\n",
       "      <td>0</td>\n",
       "      <td>0</td>\n",
       "      <td>0</td>\n",
       "      <td>0</td>\n",
       "      <td>0</td>\n",
       "      <td>0</td>\n",
       "    </tr>\n",
       "    <tr>\n",
       "      <th>4</th>\n",
       "      <td>5</td>\n",
       "      <td>35</td>\n",
       "      <td>8</td>\n",
       "      <td>45</td>\n",
       "      <td>91330</td>\n",
       "      <td>4</td>\n",
       "      <td>1.0</td>\n",
       "      <td>2</td>\n",
       "      <td>0</td>\n",
       "      <td>0</td>\n",
       "      <td>0</td>\n",
       "      <td>0</td>\n",
       "      <td>0</td>\n",
       "      <td>1</td>\n",
       "    </tr>\n",
       "    <tr>\n",
       "      <th>...</th>\n",
       "      <td>...</td>\n",
       "      <td>...</td>\n",
       "      <td>...</td>\n",
       "      <td>...</td>\n",
       "      <td>...</td>\n",
       "      <td>...</td>\n",
       "      <td>...</td>\n",
       "      <td>...</td>\n",
       "      <td>...</td>\n",
       "      <td>...</td>\n",
       "      <td>...</td>\n",
       "      <td>...</td>\n",
       "      <td>...</td>\n",
       "      <td>...</td>\n",
       "    </tr>\n",
       "    <tr>\n",
       "      <th>4995</th>\n",
       "      <td>4996</td>\n",
       "      <td>29</td>\n",
       "      <td>3</td>\n",
       "      <td>40</td>\n",
       "      <td>92697</td>\n",
       "      <td>1</td>\n",
       "      <td>1.9</td>\n",
       "      <td>3</td>\n",
       "      <td>0</td>\n",
       "      <td>0</td>\n",
       "      <td>0</td>\n",
       "      <td>0</td>\n",
       "      <td>1</td>\n",
       "      <td>0</td>\n",
       "    </tr>\n",
       "    <tr>\n",
       "      <th>4996</th>\n",
       "      <td>4997</td>\n",
       "      <td>30</td>\n",
       "      <td>4</td>\n",
       "      <td>15</td>\n",
       "      <td>92037</td>\n",
       "      <td>4</td>\n",
       "      <td>0.4</td>\n",
       "      <td>1</td>\n",
       "      <td>85</td>\n",
       "      <td>0</td>\n",
       "      <td>0</td>\n",
       "      <td>0</td>\n",
       "      <td>1</td>\n",
       "      <td>0</td>\n",
       "    </tr>\n",
       "    <tr>\n",
       "      <th>4997</th>\n",
       "      <td>4998</td>\n",
       "      <td>63</td>\n",
       "      <td>39</td>\n",
       "      <td>24</td>\n",
       "      <td>93023</td>\n",
       "      <td>2</td>\n",
       "      <td>0.3</td>\n",
       "      <td>3</td>\n",
       "      <td>0</td>\n",
       "      <td>0</td>\n",
       "      <td>0</td>\n",
       "      <td>0</td>\n",
       "      <td>0</td>\n",
       "      <td>0</td>\n",
       "    </tr>\n",
       "    <tr>\n",
       "      <th>4998</th>\n",
       "      <td>4999</td>\n",
       "      <td>65</td>\n",
       "      <td>40</td>\n",
       "      <td>49</td>\n",
       "      <td>90034</td>\n",
       "      <td>3</td>\n",
       "      <td>0.5</td>\n",
       "      <td>2</td>\n",
       "      <td>0</td>\n",
       "      <td>0</td>\n",
       "      <td>0</td>\n",
       "      <td>0</td>\n",
       "      <td>1</td>\n",
       "      <td>0</td>\n",
       "    </tr>\n",
       "    <tr>\n",
       "      <th>4999</th>\n",
       "      <td>5000</td>\n",
       "      <td>28</td>\n",
       "      <td>4</td>\n",
       "      <td>83</td>\n",
       "      <td>92612</td>\n",
       "      <td>3</td>\n",
       "      <td>0.8</td>\n",
       "      <td>1</td>\n",
       "      <td>0</td>\n",
       "      <td>0</td>\n",
       "      <td>0</td>\n",
       "      <td>0</td>\n",
       "      <td>1</td>\n",
       "      <td>1</td>\n",
       "    </tr>\n",
       "  </tbody>\n",
       "</table>\n",
       "<p>5000 rows × 14 columns</p>\n",
       "</div>"
      ],
      "text/plain": [
       "        ID  Age  Experience  Income  ZIP Code  Family  CCAvg  Education  \\\n",
       "0        1   25           1      49     91107       4    1.6          1   \n",
       "1        2   45          19      34     90089       3    1.5          1   \n",
       "2        3   39          15      11     94720       1    1.0          1   \n",
       "3        4   35           9     100     94112       1    2.7          2   \n",
       "4        5   35           8      45     91330       4    1.0          2   \n",
       "...    ...  ...         ...     ...       ...     ...    ...        ...   \n",
       "4995  4996   29           3      40     92697       1    1.9          3   \n",
       "4996  4997   30           4      15     92037       4    0.4          1   \n",
       "4997  4998   63          39      24     93023       2    0.3          3   \n",
       "4998  4999   65          40      49     90034       3    0.5          2   \n",
       "4999  5000   28           4      83     92612       3    0.8          1   \n",
       "\n",
       "      Mortgage  Personal_Loan  Securities Account  CD Account  Online  \\\n",
       "0            0              0                   1           0       0   \n",
       "1            0              0                   1           0       0   \n",
       "2            0              0                   0           0       0   \n",
       "3            0              0                   0           0       0   \n",
       "4            0              0                   0           0       0   \n",
       "...        ...            ...                 ...         ...     ...   \n",
       "4995         0              0                   0           0       1   \n",
       "4996        85              0                   0           0       1   \n",
       "4997         0              0                   0           0       0   \n",
       "4998         0              0                   0           0       1   \n",
       "4999         0              0                   0           0       1   \n",
       "\n",
       "      CreditCard  \n",
       "0              0  \n",
       "1              0  \n",
       "2              0  \n",
       "3              0  \n",
       "4              1  \n",
       "...          ...  \n",
       "4995           0  \n",
       "4996           0  \n",
       "4997           0  \n",
       "4998           0  \n",
       "4999           1  \n",
       "\n",
       "[5000 rows x 14 columns]"
      ]
     },
     "execution_count": 16,
     "metadata": {},
     "output_type": "execute_result"
    }
   ],
   "source": [
    "data"
   ]
  },
  {
   "cell_type": "markdown",
   "id": "919d566b",
   "metadata": {},
   "source": [
    "# 5. Securities Account"
   ]
  },
  {
   "cell_type": "code",
   "execution_count": 17,
   "id": "baa9cff7",
   "metadata": {},
   "outputs": [
    {
     "name": "stdout",
     "output_type": "stream",
     "text": [
      "0    4478\n",
      "1     522\n",
      "Name: Securities Account, dtype: int64\n"
     ]
    },
    {
     "data": {
      "text/plain": [
       "<Axes: xlabel='count', ylabel='Securities Account'>"
      ]
     },
     "execution_count": 17,
     "metadata": {},
     "output_type": "execute_result"
    },
    {
     "data": {
      "image/png": "[encoded data removed]",
      "text/plain": [
       "<Figure size 640x480 with 1 Axes>"
      ]
     },
     "metadata": {},
     "output_type": "display_data"
    }
   ],
   "source": [
    "# counting the value's in the Securities Account variable.\n",
    "print(data['Securities Account'].value_counts())\n",
    "\n",
    "# Plotting the count plot\n",
    "sns.countplot(y=\"Securities Account\" , data=data)"
   ]
  },
  {
   "cell_type": "raw",
   "id": "d64c6c4a",
   "metadata": {},
   "source": [
    "Observation:\n",
    "1. This Variable Securities Account take two values 0 and 1\n",
    "2. 0 indicating that customer do not have Securities Account with bank and 1 indicates that \n",
    "    customer has Securities Account with bank.\n",
    "3. There is no null value.\n",
    "4. No outlier detection.\n",
    "5. This variable is clean."
   ]
  },
  {
   "cell_type": "code",
   "execution_count": 18,
   "id": "ba2887e2",
   "metadata": {},
   "outputs": [],
   "source": [
    "# Renaming Personal Loan column\n",
    "data.rename(columns={\"Securities Account\":\"Securities_Account\"}, inplace=True)"
   ]
  },
  {
   "cell_type": "code",
   "execution_count": 19,
   "id": "67a8117e",
   "metadata": {},
   "outputs": [
    {
     "data": {
      "text/html": [
       "<div>\n",
       "<style scoped>\n",
       "    .dataframe tbody tr th:only-of-type {\n",
       "        vertical-align: middle;\n",
       "    }\n",
       "\n",
       "    .dataframe tbody tr th {\n",
       "        vertical-align: top;\n",
       "    }\n",
       "\n",
       "    .dataframe thead th {\n",
       "        text-align: right;\n",
       "    }\n",
       "</style>\n",
       "<table border=\"1\" class=\"dataframe\">\n",
       "  <thead>\n",
       "    <tr style=\"text-align: right;\">\n",
       "      <th></th>\n",
       "      <th>ID</th>\n",
       "      <th>Age</th>\n",
       "      <th>Experience</th>\n",
       "      <th>Income</th>\n",
       "      <th>ZIP Code</th>\n",
       "      <th>Family</th>\n",
       "      <th>CCAvg</th>\n",
       "      <th>Education</th>\n",
       "      <th>Mortgage</th>\n",
       "      <th>Personal_Loan</th>\n",
       "      <th>Securities_Account</th>\n",
       "      <th>CD Account</th>\n",
       "      <th>Online</th>\n",
       "      <th>CreditCard</th>\n",
       "    </tr>\n",
       "  </thead>\n",
       "  <tbody>\n",
       "    <tr>\n",
       "      <th>0</th>\n",
       "      <td>1</td>\n",
       "      <td>25</td>\n",
       "      <td>1</td>\n",
       "      <td>49</td>\n",
       "      <td>91107</td>\n",
       "      <td>4</td>\n",
       "      <td>1.6</td>\n",
       "      <td>1</td>\n",
       "      <td>0</td>\n",
       "      <td>0</td>\n",
       "      <td>1</td>\n",
       "      <td>0</td>\n",
       "      <td>0</td>\n",
       "      <td>0</td>\n",
       "    </tr>\n",
       "    <tr>\n",
       "      <th>1</th>\n",
       "      <td>2</td>\n",
       "      <td>45</td>\n",
       "      <td>19</td>\n",
       "      <td>34</td>\n",
       "      <td>90089</td>\n",
       "      <td>3</td>\n",
       "      <td>1.5</td>\n",
       "      <td>1</td>\n",
       "      <td>0</td>\n",
       "      <td>0</td>\n",
       "      <td>1</td>\n",
       "      <td>0</td>\n",
       "      <td>0</td>\n",
       "      <td>0</td>\n",
       "    </tr>\n",
       "    <tr>\n",
       "      <th>2</th>\n",
       "      <td>3</td>\n",
       "      <td>39</td>\n",
       "      <td>15</td>\n",
       "      <td>11</td>\n",
       "      <td>94720</td>\n",
       "      <td>1</td>\n",
       "      <td>1.0</td>\n",
       "      <td>1</td>\n",
       "      <td>0</td>\n",
       "      <td>0</td>\n",
       "      <td>0</td>\n",
       "      <td>0</td>\n",
       "      <td>0</td>\n",
       "      <td>0</td>\n",
       "    </tr>\n",
       "    <tr>\n",
       "      <th>3</th>\n",
       "      <td>4</td>\n",
       "      <td>35</td>\n",
       "      <td>9</td>\n",
       "      <td>100</td>\n",
       "      <td>94112</td>\n",
       "      <td>1</td>\n",
       "      <td>2.7</td>\n",
       "      <td>2</td>\n",
       "      <td>0</td>\n",
       "      <td>0</td>\n",
       "      <td>0</td>\n",
       "      <td>0</td>\n",
       "      <td>0</td>\n",
       "      <td>0</td>\n",
       "    </tr>\n",
       "    <tr>\n",
       "      <th>4</th>\n",
       "      <td>5</td>\n",
       "      <td>35</td>\n",
       "      <td>8</td>\n",
       "      <td>45</td>\n",
       "      <td>91330</td>\n",
       "      <td>4</td>\n",
       "      <td>1.0</td>\n",
       "      <td>2</td>\n",
       "      <td>0</td>\n",
       "      <td>0</td>\n",
       "      <td>0</td>\n",
       "      <td>0</td>\n",
       "      <td>0</td>\n",
       "      <td>1</td>\n",
       "    </tr>\n",
       "    <tr>\n",
       "      <th>...</th>\n",
       "      <td>...</td>\n",
       "      <td>...</td>\n",
       "      <td>...</td>\n",
       "      <td>...</td>\n",
       "      <td>...</td>\n",
       "      <td>...</td>\n",
       "      <td>...</td>\n",
       "      <td>...</td>\n",
       "      <td>...</td>\n",
       "      <td>...</td>\n",
       "      <td>...</td>\n",
       "      <td>...</td>\n",
       "      <td>...</td>\n",
       "      <td>...</td>\n",
       "    </tr>\n",
       "    <tr>\n",
       "      <th>4995</th>\n",
       "      <td>4996</td>\n",
       "      <td>29</td>\n",
       "      <td>3</td>\n",
       "      <td>40</td>\n",
       "      <td>92697</td>\n",
       "      <td>1</td>\n",
       "      <td>1.9</td>\n",
       "      <td>3</td>\n",
       "      <td>0</td>\n",
       "      <td>0</td>\n",
       "      <td>0</td>\n",
       "      <td>0</td>\n",
       "      <td>1</td>\n",
       "      <td>0</td>\n",
       "    </tr>\n",
       "    <tr>\n",
       "      <th>4996</th>\n",
       "      <td>4997</td>\n",
       "      <td>30</td>\n",
       "      <td>4</td>\n",
       "      <td>15</td>\n",
       "      <td>92037</td>\n",
       "      <td>4</td>\n",
       "      <td>0.4</td>\n",
       "      <td>1</td>\n",
       "      <td>85</td>\n",
       "      <td>0</td>\n",
       "      <td>0</td>\n",
       "      <td>0</td>\n",
       "      <td>1</td>\n",
       "      <td>0</td>\n",
       "    </tr>\n",
       "    <tr>\n",
       "      <th>4997</th>\n",
       "      <td>4998</td>\n",
       "      <td>63</td>\n",
       "      <td>39</td>\n",
       "      <td>24</td>\n",
       "      <td>93023</td>\n",
       "      <td>2</td>\n",
       "      <td>0.3</td>\n",
       "      <td>3</td>\n",
       "      <td>0</td>\n",
       "      <td>0</td>\n",
       "      <td>0</td>\n",
       "      <td>0</td>\n",
       "      <td>0</td>\n",
       "      <td>0</td>\n",
       "    </tr>\n",
       "    <tr>\n",
       "      <th>4998</th>\n",
       "      <td>4999</td>\n",
       "      <td>65</td>\n",
       "      <td>40</td>\n",
       "      <td>49</td>\n",
       "      <td>90034</td>\n",
       "      <td>3</td>\n",
       "      <td>0.5</td>\n",
       "      <td>2</td>\n",
       "      <td>0</td>\n",
       "      <td>0</td>\n",
       "      <td>0</td>\n",
       "      <td>0</td>\n",
       "      <td>1</td>\n",
       "      <td>0</td>\n",
       "    </tr>\n",
       "    <tr>\n",
       "      <th>4999</th>\n",
       "      <td>5000</td>\n",
       "      <td>28</td>\n",
       "      <td>4</td>\n",
       "      <td>83</td>\n",
       "      <td>92612</td>\n",
       "      <td>3</td>\n",
       "      <td>0.8</td>\n",
       "      <td>1</td>\n",
       "      <td>0</td>\n",
       "      <td>0</td>\n",
       "      <td>0</td>\n",
       "      <td>0</td>\n",
       "      <td>1</td>\n",
       "      <td>1</td>\n",
       "    </tr>\n",
       "  </tbody>\n",
       "</table>\n",
       "<p>5000 rows × 14 columns</p>\n",
       "</div>"
      ],
      "text/plain": [
       "        ID  Age  Experience  Income  ZIP Code  Family  CCAvg  Education  \\\n",
       "0        1   25           1      49     91107       4    1.6          1   \n",
       "1        2   45          19      34     90089       3    1.5          1   \n",
       "2        3   39          15      11     94720       1    1.0          1   \n",
       "3        4   35           9     100     94112       1    2.7          2   \n",
       "4        5   35           8      45     91330       4    1.0          2   \n",
       "...    ...  ...         ...     ...       ...     ...    ...        ...   \n",
       "4995  4996   29           3      40     92697       1    1.9          3   \n",
       "4996  4997   30           4      15     92037       4    0.4          1   \n",
       "4997  4998   63          39      24     93023       2    0.3          3   \n",
       "4998  4999   65          40      49     90034       3    0.5          2   \n",
       "4999  5000   28           4      83     92612       3    0.8          1   \n",
       "\n",
       "      Mortgage  Personal_Loan  Securities_Account  CD Account  Online  \\\n",
       "0            0              0                   1           0       0   \n",
       "1            0              0                   1           0       0   \n",
       "2            0              0                   0           0       0   \n",
       "3            0              0                   0           0       0   \n",
       "4            0              0                   0           0       0   \n",
       "...        ...            ...                 ...         ...     ...   \n",
       "4995         0              0                   0           0       1   \n",
       "4996        85              0                   0           0       1   \n",
       "4997         0              0                   0           0       0   \n",
       "4998         0              0                   0           0       1   \n",
       "4999         0              0                   0           0       1   \n",
       "\n",
       "      CreditCard  \n",
       "0              0  \n",
       "1              0  \n",
       "2              0  \n",
       "3              0  \n",
       "4              1  \n",
       "...          ...  \n",
       "4995           0  \n",
       "4996           0  \n",
       "4997           0  \n",
       "4998           0  \n",
       "4999           1  \n",
       "\n",
       "[5000 rows x 14 columns]"
      ]
     },
     "execution_count": 19,
     "metadata": {},
     "output_type": "execute_result"
    }
   ],
   "source": [
    "data"
   ]
  },
  {
   "cell_type": "markdown",
   "id": "b6a2d0d2",
   "metadata": {},
   "source": [
    "# 6. CD Account"
   ]
  },
  {
   "cell_type": "code",
   "execution_count": 20,
   "id": "2b4aac0a",
   "metadata": {},
   "outputs": [
    {
     "name": "stdout",
     "output_type": "stream",
     "text": [
      "0    4698\n",
      "1     302\n",
      "Name: CD Account, dtype: int64\n"
     ]
    },
    {
     "data": {
      "text/plain": [
       "<Axes: xlabel='count', ylabel='CD Account'>"
      ]
     },
     "execution_count": 20,
     "metadata": {},
     "output_type": "execute_result"
    },
    {
     "data": {
      "image/png": "[encoded data removed]",
      "text/plain": [
       "<Figure size 640x480 with 1 Axes>"
      ]
     },
     "metadata": {},
     "output_type": "display_data"
    }
   ],
   "source": [
    "# counting the value's in the CD Accountt variable.\n",
    "print(data['CD Account'].value_counts())\n",
    "\n",
    "# Plotting the count plot\n",
    "sns.countplot(y=\"CD Account\" , data=data)"
   ]
  },
  {
   "cell_type": "raw",
   "id": "ce6a4f12",
   "metadata": {},
   "source": [
    "Observation:\n",
    "1. This Variable CD Account take two values 0 and 1\n",
    "2. 0 indicating that customer do not have Certificate of deposite(CD) with bank and 1 indicates that \n",
    "    customer has Certificate of deposite(CD) account with bank.\n",
    "3. There is no null value.\n",
    "4. No outlier detection.\n",
    "5. This variable is clean."
   ]
  },
  {
   "cell_type": "code",
   "execution_count": 21,
   "id": "fe99f623",
   "metadata": {},
   "outputs": [],
   "source": [
    "# Renaming CD account column\n",
    "data.rename(columns={\"CD Account\":\"CD_Account\"}, inplace=True)"
   ]
  },
  {
   "cell_type": "code",
   "execution_count": 22,
   "id": "77eacc12",
   "metadata": {},
   "outputs": [
    {
     "data": {
      "text/html": [
       "<div>\n",
       "<style scoped>\n",
       "    .dataframe tbody tr th:only-of-type {\n",
       "        vertical-align: middle;\n",
       "    }\n",
       "\n",
       "    .dataframe tbody tr th {\n",
       "        vertical-align: top;\n",
       "    }\n",
       "\n",
       "    .dataframe thead th {\n",
       "        text-align: right;\n",
       "    }\n",
       "</style>\n",
       "<table border=\"1\" class=\"dataframe\">\n",
       "  <thead>\n",
       "    <tr style=\"text-align: right;\">\n",
       "      <th></th>\n",
       "      <th>ID</th>\n",
       "      <th>Age</th>\n",
       "      <th>Experience</th>\n",
       "      <th>Income</th>\n",
       "      <th>ZIP Code</th>\n",
       "      <th>Family</th>\n",
       "      <th>CCAvg</th>\n",
       "      <th>Education</th>\n",
       "      <th>Mortgage</th>\n",
       "      <th>Personal_Loan</th>\n",
       "      <th>Securities_Account</th>\n",
       "      <th>CD_Account</th>\n",
       "      <th>Online</th>\n",
       "      <th>CreditCard</th>\n",
       "    </tr>\n",
       "  </thead>\n",
       "  <tbody>\n",
       "    <tr>\n",
       "      <th>0</th>\n",
       "      <td>1</td>\n",
       "      <td>25</td>\n",
       "      <td>1</td>\n",
       "      <td>49</td>\n",
       "      <td>91107</td>\n",
       "      <td>4</td>\n",
       "      <td>1.6</td>\n",
       "      <td>1</td>\n",
       "      <td>0</td>\n",
       "      <td>0</td>\n",
       "      <td>1</td>\n",
       "      <td>0</td>\n",
       "      <td>0</td>\n",
       "      <td>0</td>\n",
       "    </tr>\n",
       "    <tr>\n",
       "      <th>1</th>\n",
       "      <td>2</td>\n",
       "      <td>45</td>\n",
       "      <td>19</td>\n",
       "      <td>34</td>\n",
       "      <td>90089</td>\n",
       "      <td>3</td>\n",
       "      <td>1.5</td>\n",
       "      <td>1</td>\n",
       "      <td>0</td>\n",
       "      <td>0</td>\n",
       "      <td>1</td>\n",
       "      <td>0</td>\n",
       "      <td>0</td>\n",
       "      <td>0</td>\n",
       "    </tr>\n",
       "    <tr>\n",
       "      <th>2</th>\n",
       "      <td>3</td>\n",
       "      <td>39</td>\n",
       "      <td>15</td>\n",
       "      <td>11</td>\n",
       "      <td>94720</td>\n",
       "      <td>1</td>\n",
       "      <td>1.0</td>\n",
       "      <td>1</td>\n",
       "      <td>0</td>\n",
       "      <td>0</td>\n",
       "      <td>0</td>\n",
       "      <td>0</td>\n",
       "      <td>0</td>\n",
       "      <td>0</td>\n",
       "    </tr>\n",
       "    <tr>\n",
       "      <th>3</th>\n",
       "      <td>4</td>\n",
       "      <td>35</td>\n",
       "      <td>9</td>\n",
       "      <td>100</td>\n",
       "      <td>94112</td>\n",
       "      <td>1</td>\n",
       "      <td>2.7</td>\n",
       "      <td>2</td>\n",
       "      <td>0</td>\n",
       "      <td>0</td>\n",
       "      <td>0</td>\n",
       "      <td>0</td>\n",
       "      <td>0</td>\n",
       "      <td>0</td>\n",
       "    </tr>\n",
       "    <tr>\n",
       "      <th>4</th>\n",
       "      <td>5</td>\n",
       "      <td>35</td>\n",
       "      <td>8</td>\n",
       "      <td>45</td>\n",
       "      <td>91330</td>\n",
       "      <td>4</td>\n",
       "      <td>1.0</td>\n",
       "      <td>2</td>\n",
       "      <td>0</td>\n",
       "      <td>0</td>\n",
       "      <td>0</td>\n",
       "      <td>0</td>\n",
       "      <td>0</td>\n",
       "      <td>1</td>\n",
       "    </tr>\n",
       "    <tr>\n",
       "      <th>...</th>\n",
       "      <td>...</td>\n",
       "      <td>...</td>\n",
       "      <td>...</td>\n",
       "      <td>...</td>\n",
       "      <td>...</td>\n",
       "      <td>...</td>\n",
       "      <td>...</td>\n",
       "      <td>...</td>\n",
       "      <td>...</td>\n",
       "      <td>...</td>\n",
       "      <td>...</td>\n",
       "      <td>...</td>\n",
       "      <td>...</td>\n",
       "      <td>...</td>\n",
       "    </tr>\n",
       "    <tr>\n",
       "      <th>4995</th>\n",
       "      <td>4996</td>\n",
       "      <td>29</td>\n",
       "      <td>3</td>\n",
       "      <td>40</td>\n",
       "      <td>92697</td>\n",
       "      <td>1</td>\n",
       "      <td>1.9</td>\n",
       "      <td>3</td>\n",
       "      <td>0</td>\n",
       "      <td>0</td>\n",
       "      <td>0</td>\n",
       "      <td>0</td>\n",
       "      <td>1</td>\n",
       "      <td>0</td>\n",
       "    </tr>\n",
       "    <tr>\n",
       "      <th>4996</th>\n",
       "      <td>4997</td>\n",
       "      <td>30</td>\n",
       "      <td>4</td>\n",
       "      <td>15</td>\n",
       "      <td>92037</td>\n",
       "      <td>4</td>\n",
       "      <td>0.4</td>\n",
       "      <td>1</td>\n",
       "      <td>85</td>\n",
       "      <td>0</td>\n",
       "      <td>0</td>\n",
       "      <td>0</td>\n",
       "      <td>1</td>\n",
       "      <td>0</td>\n",
       "    </tr>\n",
       "    <tr>\n",
       "      <th>4997</th>\n",
       "      <td>4998</td>\n",
       "      <td>63</td>\n",
       "      <td>39</td>\n",
       "      <td>24</td>\n",
       "      <td>93023</td>\n",
       "      <td>2</td>\n",
       "      <td>0.3</td>\n",
       "      <td>3</td>\n",
       "      <td>0</td>\n",
       "      <td>0</td>\n",
       "      <td>0</td>\n",
       "      <td>0</td>\n",
       "      <td>0</td>\n",
       "      <td>0</td>\n",
       "    </tr>\n",
       "    <tr>\n",
       "      <th>4998</th>\n",
       "      <td>4999</td>\n",
       "      <td>65</td>\n",
       "      <td>40</td>\n",
       "      <td>49</td>\n",
       "      <td>90034</td>\n",
       "      <td>3</td>\n",
       "      <td>0.5</td>\n",
       "      <td>2</td>\n",
       "      <td>0</td>\n",
       "      <td>0</td>\n",
       "      <td>0</td>\n",
       "      <td>0</td>\n",
       "      <td>1</td>\n",
       "      <td>0</td>\n",
       "    </tr>\n",
       "    <tr>\n",
       "      <th>4999</th>\n",
       "      <td>5000</td>\n",
       "      <td>28</td>\n",
       "      <td>4</td>\n",
       "      <td>83</td>\n",
       "      <td>92612</td>\n",
       "      <td>3</td>\n",
       "      <td>0.8</td>\n",
       "      <td>1</td>\n",
       "      <td>0</td>\n",
       "      <td>0</td>\n",
       "      <td>0</td>\n",
       "      <td>0</td>\n",
       "      <td>1</td>\n",
       "      <td>1</td>\n",
       "    </tr>\n",
       "  </tbody>\n",
       "</table>\n",
       "<p>5000 rows × 14 columns</p>\n",
       "</div>"
      ],
      "text/plain": [
       "        ID  Age  Experience  Income  ZIP Code  Family  CCAvg  Education  \\\n",
       "0        1   25           1      49     91107       4    1.6          1   \n",
       "1        2   45          19      34     90089       3    1.5          1   \n",
       "2        3   39          15      11     94720       1    1.0          1   \n",
       "3        4   35           9     100     94112       1    2.7          2   \n",
       "4        5   35           8      45     91330       4    1.0          2   \n",
       "...    ...  ...         ...     ...       ...     ...    ...        ...   \n",
       "4995  4996   29           3      40     92697       1    1.9          3   \n",
       "4996  4997   30           4      15     92037       4    0.4          1   \n",
       "4997  4998   63          39      24     93023       2    0.3          3   \n",
       "4998  4999   65          40      49     90034       3    0.5          2   \n",
       "4999  5000   28           4      83     92612       3    0.8          1   \n",
       "\n",
       "      Mortgage  Personal_Loan  Securities_Account  CD_Account  Online  \\\n",
       "0            0              0                   1           0       0   \n",
       "1            0              0                   1           0       0   \n",
       "2            0              0                   0           0       0   \n",
       "3            0              0                   0           0       0   \n",
       "4            0              0                   0           0       0   \n",
       "...        ...            ...                 ...         ...     ...   \n",
       "4995         0              0                   0           0       1   \n",
       "4996        85              0                   0           0       1   \n",
       "4997         0              0                   0           0       0   \n",
       "4998         0              0                   0           0       1   \n",
       "4999         0              0                   0           0       1   \n",
       "\n",
       "      CreditCard  \n",
       "0              0  \n",
       "1              0  \n",
       "2              0  \n",
       "3              0  \n",
       "4              1  \n",
       "...          ...  \n",
       "4995           0  \n",
       "4996           0  \n",
       "4997           0  \n",
       "4998           0  \n",
       "4999           1  \n",
       "\n",
       "[5000 rows x 14 columns]"
      ]
     },
     "execution_count": 22,
     "metadata": {},
     "output_type": "execute_result"
    }
   ],
   "source": [
    "data"
   ]
  },
  {
   "cell_type": "markdown",
   "id": "f52285f1",
   "metadata": {},
   "source": [
    "# 7. Online"
   ]
  },
  {
   "cell_type": "code",
   "execution_count": 23,
   "id": "d327d98c",
   "metadata": {},
   "outputs": [
    {
     "name": "stdout",
     "output_type": "stream",
     "text": [
      "1    2984\n",
      "0    2016\n",
      "Name: Online, dtype: int64\n"
     ]
    },
    {
     "data": {
      "text/plain": [
       "<Axes: xlabel='count', ylabel='Online'>"
      ]
     },
     "execution_count": 23,
     "metadata": {},
     "output_type": "execute_result"
    },
    {
     "data": {
      "image/png": "[encoded data removed]",
      "text/plain": [
       "<Figure size 640x480 with 1 Axes>"
      ]
     },
     "metadata": {},
     "output_type": "display_data"
    }
   ],
   "source": [
    "# counting the value's in the Online variable.\n",
    "print(data['Online'].value_counts())\n",
    "\n",
    "# Plotting the count plot\n",
    "sns.countplot(y=\"Online\" , data=data)"
   ]
  },
  {
   "cell_type": "raw",
   "id": "19d45966",
   "metadata": {},
   "source": [
    "Observation:\n",
    "1. This Variable Online take two values 0 and 1\n",
    "2. 0 indicating that customer do not use internet banking facility and 1 indicates that \n",
    "    customer uses the internet banking facility. \n",
    "3. There is no null value.\n",
    "4. No outlier detection.\n",
    "5. This variable is clean.\n",
    "6. A large number of customers uses internet banking facility."
   ]
  },
  {
   "cell_type": "markdown",
   "id": "0004e30c",
   "metadata": {},
   "source": [
    "# 8. CreditCard"
   ]
  },
  {
   "cell_type": "code",
   "execution_count": 24,
   "id": "1ddb04a8",
   "metadata": {},
   "outputs": [
    {
     "name": "stdout",
     "output_type": "stream",
     "text": [
      "0    3530\n",
      "1    1470\n",
      "Name: CreditCard, dtype: int64\n"
     ]
    },
    {
     "data": {
      "text/plain": [
       "<Axes: xlabel='count', ylabel='CreditCard'>"
      ]
     },
     "execution_count": 24,
     "metadata": {},
     "output_type": "execute_result"
    },
    {
     "data": {
      "image/png": "[encoded data removed]",
      "text/plain": [
       "<Figure size 640x480 with 1 Axes>"
      ]
     },
     "metadata": {},
     "output_type": "display_data"
    }
   ],
   "source": [
    "# counting the value's in the CreditCard variable.\n",
    "print(data['CreditCard'].value_counts())\n",
    "\n",
    "# Plotting the count plot\n",
    "sns.countplot(y=\"CreditCard\" , data=data)"
   ]
  },
  {
   "cell_type": "raw",
   "id": "9607056f",
   "metadata": {},
   "source": [
    "Observation:\n",
    "1. This Variable Online take two values 0 and 1\n",
    "2. 0 indicating that customer do not use Credit card issued by Universal bank and 1 indicates that \n",
    "    customer uses Credit card issued by universal bank. \n",
    "3. There is no null value.\n",
    "4. No outlier detection.\n",
    "5. This variable is clean."
   ]
  },
  {
   "cell_type": "markdown",
   "id": "54f41da2",
   "metadata": {},
   "source": [
    "# Continuous Variable Exploration"
   ]
  },
  {
   "cell_type": "markdown",
   "id": "699cea39",
   "metadata": {},
   "source": [
    "# 1. CCAvg"
   ]
  },
  {
   "cell_type": "code",
   "execution_count": 25,
   "id": "0fda3bff",
   "metadata": {},
   "outputs": [
    {
     "data": {
      "text/plain": [
       "{'whiskers': [<matplotlib.lines.Line2D at 0x22b9d375e10>,\n",
       "  <matplotlib.lines.Line2D at 0x22b9d376790>],\n",
       " 'caps': [<matplotlib.lines.Line2D at 0x22b9d51f250>,\n",
       "  <matplotlib.lines.Line2D at 0x22b9d377a10>],\n",
       " 'boxes': [<matplotlib.lines.Line2D at 0x22b9d55e410>],\n",
       " 'medians': [<matplotlib.lines.Line2D at 0x22b9d388310>],\n",
       " 'fliers': [<matplotlib.lines.Line2D at 0x22b9d388ad0>],\n",
       " 'means': []}"
      ]
     },
     "execution_count": 25,
     "metadata": {},
     "output_type": "execute_result"
    },
    {
     "data": {
      "image/png": "[encoded data removed]",
      "text/plain": [
       "<Figure size 640x480 with 1 Axes>"
      ]
     },
     "metadata": {},
     "output_type": "display_data"
    }
   ],
   "source": [
    "# Creating boxplot\n",
    "plt.boxplot(data[\"CCAvg\"])"
   ]
  },
  {
   "cell_type": "code",
   "execution_count": 26,
   "id": "5bec935b",
   "metadata": {},
   "outputs": [
    {
     "data": {
      "text/plain": [
       "(array([1683., 1376., 1039.,  319.,  219.,   97.,  132.,   84.,   45.,\n",
       "           6.]),\n",
       " array([ 0.,  1.,  2.,  3.,  4.,  5.,  6.,  7.,  8.,  9., 10.]),\n",
       " <BarContainer object of 10 artists>)"
      ]
     },
     "execution_count": 26,
     "metadata": {},
     "output_type": "execute_result"
    },
    {
     "data": {
      "image/png": "[encoded data removed]",
      "text/plain": [
       "<Figure size 640x480 with 1 Axes>"
      ]
     },
     "metadata": {},
     "output_type": "display_data"
    }
   ],
   "source": [
    "# Creating histogram\n",
    "plt.hist(data[\"CCAvg\"])"
   ]
  },
  {
   "cell_type": "code",
   "execution_count": 27,
   "id": "e0f2ec1d",
   "metadata": {},
   "outputs": [
    {
     "data": {
      "text/plain": [
       "0.010     0.0000\n",
       "0.050     0.1000\n",
       "0.150     0.4000\n",
       "0.250     0.7000\n",
       "0.350     1.0000\n",
       "0.450     1.4000\n",
       "0.500     1.5000\n",
       "0.550     1.7000\n",
       "0.600     1.9000\n",
       "0.650     2.1000\n",
       "0.700     2.3000\n",
       "0.750     2.5000\n",
       "0.800     2.8000\n",
       "0.900     4.3000\n",
       "0.910     4.5000\n",
       "0.920     4.7000\n",
       "0.930     5.0000\n",
       "0.932     5.1068\n",
       "0.935     5.2000\n",
       "0.940     5.5000\n",
       "0.950     6.0000\n",
       "0.960     6.4000\n",
       "0.960     6.4000\n",
       "0.970     6.8000\n",
       "0.980     7.3000\n",
       "0.990     8.0000\n",
       "0.995     8.5000\n",
       "0.999     9.0000\n",
       "1.000    10.0000\n",
       "Name: CCAvg, dtype: float64"
      ]
     },
     "execution_count": 27,
     "metadata": {},
     "output_type": "execute_result"
    }
   ],
   "source": [
    "Percentiles = data[\"CCAvg\"].quantile([0.01,0.05,0.15,0.25,0.35,0.45,0.50,0.55,0.60,0.65,0.70,0.75,\n",
    "                                      0.80,0.90,0.91,0.92,0.93,0.932,0.935,0.94,0.95,0.96,0.96,0.97,0.98,0.99,0.995,0.999,1])\n",
    "\n",
    "Percentiles"
   ]
  },
  {
   "cell_type": "raw",
   "id": "3ace7921",
   "metadata": {},
   "source": [
    "Observations:\n",
    "1. CCAvg (Average credit card spending in 000\\$) lies in the range 0$ to 10000\\$.\n",
    "2. From boxplot it is clear there is presence of outlier in ccAvg variable.\n",
    "3. This variable needs cleaning."
   ]
  },
  {
   "cell_type": "markdown",
   "id": "d86c765d",
   "metadata": {},
   "source": [
    "# 2. Mortgage"
   ]
  },
  {
   "cell_type": "code",
   "execution_count": 28,
   "id": "c5168b76",
   "metadata": {},
   "outputs": [
    {
     "data": {
      "text/plain": [
       "{'whiskers': [<matplotlib.lines.Line2D at 0x22b9d452550>,\n",
       "  <matplotlib.lines.Line2D at 0x22b9d453190>],\n",
       " 'caps': [<matplotlib.lines.Line2D at 0x22b9d627f50>,\n",
       "  <matplotlib.lines.Line2D at 0x22b9d45c5d0>],\n",
       " 'boxes': [<matplotlib.lines.Line2D at 0x22b9734c3d0>],\n",
       " 'medians': [<matplotlib.lines.Line2D at 0x22b9d45cbd0>],\n",
       " 'fliers': [<matplotlib.lines.Line2D at 0x22b9d4536d0>],\n",
       " 'means': []}"
      ]
     },
     "execution_count": 28,
     "metadata": {},
     "output_type": "execute_result"
    },
    {
     "data": {
      "image/png": "[encoded data removed]",
      "text/plain": [
       "<Figure size 640x480 with 1 Axes>"
      ]
     },
     "metadata": {},
     "output_type": "display_data"
    }
   ],
   "source": [
    "# Creating boxplot\n",
    "plt.boxplot(data[\"Mortgage\"])"
   ]
  },
  {
   "cell_type": "code",
   "execution_count": 29,
   "id": "a4069282",
   "metadata": {},
   "outputs": [
    {
     "data": {
      "text/plain": [
       "(array([3462.,  566.,  428.,  254.,  127.,   73.,   46.,   20.,   14.,\n",
       "          10.]),\n",
       " array([  0. ,  63.5, 127. , 190.5, 254. , 317.5, 381. , 444.5, 508. ,\n",
       "        571.5, 635. ]),\n",
       " <BarContainer object of 10 artists>)"
      ]
     },
     "execution_count": 29,
     "metadata": {},
     "output_type": "execute_result"
    },
    {
     "data": {
      "image/png": "[encoded data removed]",
      "text/plain": [
       "<Figure size 640x480 with 1 Axes>"
      ]
     },
     "metadata": {},
     "output_type": "display_data"
    }
   ],
   "source": [
    "# Creating histogram\n",
    "plt.hist(data[\"Mortgage\"])"
   ]
  },
  {
   "cell_type": "code",
   "execution_count": 30,
   "id": "4c5276aa",
   "metadata": {},
   "outputs": [
    {
     "data": {
      "text/plain": [
       "0.010      0.000\n",
       "0.050      0.000\n",
       "0.150      0.000\n",
       "0.250      0.000\n",
       "0.350      0.000\n",
       "0.450      0.000\n",
       "0.500      0.000\n",
       "0.550      0.000\n",
       "0.600      0.000\n",
       "0.650      0.000\n",
       "0.700     78.000\n",
       "0.750    101.000\n",
       "0.800    123.000\n",
       "0.900    200.000\n",
       "0.910    212.000\n",
       "0.920    222.080\n",
       "0.930    236.000\n",
       "0.932    239.068\n",
       "0.935    243.065\n",
       "0.940    250.000\n",
       "0.950    272.000\n",
       "0.960    301.000\n",
       "0.960    301.000\n",
       "0.970    325.030\n",
       "0.980    366.040\n",
       "0.990    431.010\n",
       "0.995    500.025\n",
       "0.999    589.001\n",
       "1.000    635.000\n",
       "Name: Mortgage, dtype: float64"
      ]
     },
     "execution_count": 30,
     "metadata": {},
     "output_type": "execute_result"
    }
   ],
   "source": [
    "Percentiles = data[\"Mortgage\"].quantile([0.01,0.05,0.15,0.25,0.35,0.45,0.50,0.55,0.60,0.65,0.70,0.75,\n",
    "                                      0.80,0.90,0.91,0.92,0.93,0.932,0.935,0.94,0.95,0.96,0.96,0.97,0.98,0.99,0.995,0.999,1])\n",
    "\n",
    "Percentiles"
   ]
  },
  {
   "cell_type": "raw",
   "id": "c9b1790b",
   "metadata": {},
   "source": [
    "Onservations:\n",
    "1. From the boxplot it can be observed that there is presence of outliers.\n",
    "2. 65% of the data takes 0 value and the rest of the 45% takes comparatively very large values.\n",
    "3. In this variable imputation is not a good choice for cleaning.\n",
    "4. So we will create a new flag variable with 0 indicating that the customer have not taken any house mortgage \n",
    "    and 1 if the customer has taken a house mortgage. we will drop the original variable."
   ]
  },
  {
   "cell_type": "markdown",
   "id": "4291a595",
   "metadata": {},
   "source": [
    "# 3. Income"
   ]
  },
  {
   "cell_type": "code",
   "execution_count": 31,
   "id": "ab7310a1",
   "metadata": {},
   "outputs": [
    {
     "data": {
      "text/plain": [
       "{'whiskers': [<matplotlib.lines.Line2D at 0x22b9e961310>,\n",
       "  <matplotlib.lines.Line2D at 0x22b9e962010>],\n",
       " 'caps': [<matplotlib.lines.Line2D at 0x22b9e962b10>,\n",
       "  <matplotlib.lines.Line2D at 0x22b9e9635d0>],\n",
       " 'boxes': [<matplotlib.lines.Line2D at 0x22b9e92c3d0>],\n",
       " 'medians': [<matplotlib.lines.Line2D at 0x22b9e970110>],\n",
       " 'fliers': [<matplotlib.lines.Line2D at 0x22b9e970b90>],\n",
       " 'means': []}"
      ]
     },
     "execution_count": 31,
     "metadata": {},
     "output_type": "execute_result"
    },
    {
     "data": {
      "image/png": "[encoded data removed]",
      "text/plain": [
       "<Figure size 640x480 with 1 Axes>"
      ]
     },
     "metadata": {},
     "output_type": "display_data"
    }
   ],
   "source": [
    "# Creating boxplot\n",
    "plt.boxplot(data[\"Income\"])"
   ]
  },
  {
   "cell_type": "code",
   "execution_count": 32,
   "id": "b8619725",
   "metadata": {},
   "outputs": [
    {
     "data": {
      "text/plain": [
       "(array([ 802., 1153.,  867.,  879.,  377.,  307.,  268.,  197.,  141.,\n",
       "           9.]),\n",
       " array([  8. ,  29.6,  51.2,  72.8,  94.4, 116. , 137.6, 159.2, 180.8,\n",
       "        202.4, 224. ]),\n",
       " <BarContainer object of 10 artists>)"
      ]
     },
     "execution_count": 32,
     "metadata": {},
     "output_type": "execute_result"
    },
    {
     "data": {
      "image/png": "[encoded data removed]",
      "text/plain": [
       "<Figure size 640x480 with 1 Axes>"
      ]
     },
     "metadata": {},
     "output_type": "display_data"
    }
   ],
   "source": [
    "# Creating histogram\n",
    "plt.hist(data[\"Income\"])"
   ]
  },
  {
   "cell_type": "code",
   "execution_count": 33,
   "id": "7660764b",
   "metadata": {},
   "outputs": [
    {
     "data": {
      "text/plain": [
       "0.010     10.000\n",
       "0.050     18.000\n",
       "0.150     29.000\n",
       "0.250     39.000\n",
       "0.350     45.000\n",
       "0.450     59.000\n",
       "0.500     64.000\n",
       "0.550     71.000\n",
       "0.600     78.000\n",
       "0.650     82.000\n",
       "0.700     88.300\n",
       "0.750     98.000\n",
       "0.800    113.000\n",
       "0.900    145.000\n",
       "0.910    150.000\n",
       "0.920    154.000\n",
       "0.930    159.000\n",
       "0.932    160.000\n",
       "0.935    161.000\n",
       "0.940    163.060\n",
       "0.950    170.000\n",
       "0.960    175.000\n",
       "0.960    175.000\n",
       "0.970    180.030\n",
       "0.980    185.000\n",
       "0.990    193.000\n",
       "0.995    195.015\n",
       "0.999    204.000\n",
       "1.000    224.000\n",
       "Name: Income, dtype: float64"
      ]
     },
     "execution_count": 33,
     "metadata": {},
     "output_type": "execute_result"
    }
   ],
   "source": [
    "Percentiles = data[\"Income\"].quantile([0.01,0.05,0.15,0.25,0.35,0.45,0.50,0.55,0.60,0.65,0.70,0.75,\n",
    "                                      0.80,0.90,0.91,0.92,0.93,0.932,0.935,0.94,0.95,0.96,0.96,0.97,0.98,0.99,0.995,0.999,1])\n",
    "\n",
    "Percentiles"
   ]
  },
  {
   "cell_type": "raw",
   "id": "5398ee5b",
   "metadata": {},
   "source": [
    "Observations:\n",
    "1. From the boxplot it is clear that there is outliers.\n",
    "2. This variable needs cleaning."
   ]
  },
  {
   "cell_type": "markdown",
   "id": "20d4e516",
   "metadata": {},
   "source": [
    "# 4. Age"
   ]
  },
  {
   "cell_type": "code",
   "execution_count": 34,
   "id": "e29f44d0",
   "metadata": {},
   "outputs": [
    {
     "data": {
      "text/plain": [
       "{'whiskers': [<matplotlib.lines.Line2D at 0x22b9ea3b9d0>,\n",
       "  <matplotlib.lines.Line2D at 0x22b9ea44750>],\n",
       " 'caps': [<matplotlib.lines.Line2D at 0x22b9ea45390>,\n",
       "  <matplotlib.lines.Line2D at 0x22b9ea45e10>],\n",
       " 'boxes': [<matplotlib.lines.Line2D at 0x22b9ea3a910>],\n",
       " 'medians': [<matplotlib.lines.Line2D at 0x22b9ea46950>],\n",
       " 'fliers': [<matplotlib.lines.Line2D at 0x22b9e991ed0>],\n",
       " 'means': []}"
      ]
     },
     "execution_count": 34,
     "metadata": {},
     "output_type": "execute_result"
    },
    {
     "data": {
      "image/png": "[encoded data removed]",
      "text/plain": [
       "<Figure size 640x480 with 1 Axes>"
      ]
     },
     "metadata": {},
     "output_type": "display_data"
    }
   ],
   "source": [
    "# Creating boxplot\n",
    "plt.boxplot(data[\"Age\"])"
   ]
  },
  {
   "cell_type": "code",
   "execution_count": 35,
   "id": "1032b0ee",
   "metadata": {},
   "outputs": [
    {
     "data": {
      "text/plain": [
       "(array([262., 487., 632., 479., 532., 600., 524., 678., 504., 302.]),\n",
       " array([23. , 27.4, 31.8, 36.2, 40.6, 45. , 49.4, 53.8, 58.2, 62.6, 67. ]),\n",
       " <BarContainer object of 10 artists>)"
      ]
     },
     "execution_count": 35,
     "metadata": {},
     "output_type": "execute_result"
    },
    {
     "data": {
      "image/png": "[encoded data removed]",
      "text/plain": [
       "<Figure size 640x480 with 1 Axes>"
      ]
     },
     "metadata": {},
     "output_type": "display_data"
    }
   ],
   "source": [
    "# Creating histogram\n",
    "plt.hist(data[\"Age\"])"
   ]
  },
  {
   "cell_type": "code",
   "execution_count": 36,
   "id": "1c466a3d",
   "metadata": {},
   "outputs": [
    {
     "data": {
      "text/plain": [
       "0.010    25.0\n",
       "0.050    27.0\n",
       "0.150    32.0\n",
       "0.250    35.0\n",
       "0.350    40.0\n",
       "0.450    43.0\n",
       "0.500    45.0\n",
       "0.550    47.0\n",
       "0.600    50.0\n",
       "0.650    51.0\n",
       "0.700    53.0\n",
       "0.750    55.0\n",
       "0.800    57.0\n",
       "0.900    61.0\n",
       "0.910    61.0\n",
       "0.920    62.0\n",
       "0.930    62.0\n",
       "0.932    62.0\n",
       "0.935    62.0\n",
       "0.940    63.0\n",
       "0.950    63.0\n",
       "0.960    63.0\n",
       "0.960    63.0\n",
       "0.970    64.0\n",
       "0.980    65.0\n",
       "0.990    65.0\n",
       "0.995    66.0\n",
       "0.999    67.0\n",
       "1.000    67.0\n",
       "Name: Age, dtype: float64"
      ]
     },
     "execution_count": 36,
     "metadata": {},
     "output_type": "execute_result"
    }
   ],
   "source": [
    "Percentiles = data[\"Age\"].quantile([0.01,0.05,0.15,0.25,0.35,0.45,0.50,0.55,0.60,0.65,0.70,0.75,\n",
    "                                      0.80,0.90,0.91,0.92,0.93,0.932,0.935,0.94,0.95,0.96,0.96,0.97,0.98,0.99,0.995,0.999,1])\n",
    "\n",
    "Percentiles"
   ]
  },
  {
   "cell_type": "raw",
   "id": "00de7172",
   "metadata": {},
   "source": [
    "Observations:\n",
    "1. All the bank customers will be of age equal to or above 18.\n",
    "2. Minimum value of age to get a personal loan is 18.\n",
    "3. Hence, Age variable lies in the range[18 , 100] with 100 being the extreme case.\n",
    "4. all the values lies within the range.\n",
    "5. There is no outlier detection.\n",
    "6. This variable is clean."
   ]
  },
  {
   "cell_type": "markdown",
   "id": "d53a150d",
   "metadata": {},
   "source": [
    "# 5. Experience"
   ]
  },
  {
   "cell_type": "code",
   "execution_count": 37,
   "id": "e9b5cd41",
   "metadata": {},
   "outputs": [
    {
     "data": {
      "text/plain": [
       "{'whiskers': [<matplotlib.lines.Line2D at 0x22b9d814b90>,\n",
       "  <matplotlib.lines.Line2D at 0x22b9d815810>],\n",
       " 'caps': [<matplotlib.lines.Line2D at 0x22b9d816350>,\n",
       "  <matplotlib.lines.Line2D at 0x22b9d816e50>],\n",
       " 'boxes': [<matplotlib.lines.Line2D at 0x22b9d80ff90>],\n",
       " 'medians': [<matplotlib.lines.Line2D at 0x22b9d8179d0>],\n",
       " 'fliers': [<matplotlib.lines.Line2D at 0x22b9ea45e50>],\n",
       " 'means': []}"
      ]
     },
     "execution_count": 37,
     "metadata": {},
     "output_type": "execute_result"
    },
    {
     "data": {
      "image/png": "[encoded data removed]",
      "text/plain": [
       "<Figure size 640x480 with 1 Axes>"
      ]
     },
     "metadata": {},
     "output_type": "display_data"
    }
   ],
   "source": [
    "# Creating boxplot\n",
    "plt.boxplot(data[\"Experience\"])"
   ]
  },
  {
   "cell_type": "code",
   "execution_count": 38,
   "id": "9ff4781d",
   "metadata": {},
   "outputs": [
    {
     "data": {
      "text/plain": [
       "(array([192., 592., 505., 581., 524., 660., 663., 501., 586., 196.]),\n",
       " array([-3. ,  1.6,  6.2, 10.8, 15.4, 20. , 24.6, 29.2, 33.8, 38.4, 43. ]),\n",
       " <BarContainer object of 10 artists>)"
      ]
     },
     "execution_count": 38,
     "metadata": {},
     "output_type": "execute_result"
    },
    {
     "data": {
      "image/png": "[encoded data removed]",
      "text/plain": [
       "<Figure size 640x480 with 1 Axes>"
      ]
     },
     "metadata": {},
     "output_type": "display_data"
    }
   ],
   "source": [
    "# Creating histogram\n",
    "plt.hist(data[\"Experience\"])"
   ]
  },
  {
   "cell_type": "code",
   "execution_count": 39,
   "id": "49f06336",
   "metadata": {},
   "outputs": [
    {
     "data": {
      "text/plain": [
       "0.010    -1.00\n",
       "0.050     2.00\n",
       "0.150     6.00\n",
       "0.250    10.00\n",
       "0.350    14.00\n",
       "0.450    18.00\n",
       "0.500    20.00\n",
       "0.550    22.00\n",
       "0.600    24.00\n",
       "0.650    26.00\n",
       "0.700    28.00\n",
       "0.750    30.00\n",
       "0.800    32.00\n",
       "0.900    36.00\n",
       "0.910    36.00\n",
       "0.920    36.08\n",
       "0.930    37.00\n",
       "0.932    37.00\n",
       "0.935    37.00\n",
       "0.940    37.00\n",
       "0.950    38.00\n",
       "0.960    38.00\n",
       "0.960    38.00\n",
       "0.970    39.00\n",
       "0.980    40.00\n",
       "0.990    41.00\n",
       "0.995    41.00\n",
       "0.999    42.00\n",
       "1.000    43.00\n",
       "Name: Experience, dtype: float64"
      ]
     },
     "execution_count": 39,
     "metadata": {},
     "output_type": "execute_result"
    }
   ],
   "source": [
    "Percentiles = data[\"Experience\"].quantile([0.01,0.05,0.15,0.25,0.35,0.45,0.50,0.55,0.60,0.65,0.70,0.75,\n",
    "                                      0.80,0.90,0.91,0.92,0.93,0.932,0.935,0.94,0.95,0.96,0.96,0.97,0.98,0.99,0.995,0.999,1])\n",
    "\n",
    "Percentiles"
   ]
  },
  {
   "cell_type": "raw",
   "id": "6174c00b",
   "metadata": {},
   "source": [
    "Observations:\n",
    "1. This variable experience is in years and it can only takes positive integers.\n",
    "2. But the data has some negative values.\n",
    "3. These values needs to be cleaned.\n",
    "4. The range for the Experience value is [0,60]\n",
    "5. we are taking the max range value as 60 because 60 is the retirenment age.\n",
    "6. There are some negative values in the data and There values needs to be cleaned.\n",
    "7. No null value."
   ]
  },
  {
   "cell_type": "markdown",
   "id": "cb39858a",
   "metadata": {},
   "source": [
    "# Data Cleaning and Data Preparation"
   ]
  },
  {
   "cell_type": "markdown",
   "id": "498b7043",
   "metadata": {},
   "source": [
    "# Categorical variable cleaning"
   ]
  },
  {
   "cell_type": "raw",
   "id": "9f5c0ed6",
   "metadata": {},
   "source": [
    "All the categorical variable are clean"
   ]
  },
  {
   "cell_type": "markdown",
   "id": "39c11730",
   "metadata": {},
   "source": [
    "# Continuous Variable Cleaning"
   ]
  },
  {
   "cell_type": "markdown",
   "id": "3f7b2c6c",
   "metadata": {},
   "source": [
    "# 1.Experience Variable"
   ]
  },
  {
   "cell_type": "raw",
   "id": "17f9878d",
   "metadata": {},
   "source": [
    "Experience Variable has negative values."
   ]
  },
  {
   "cell_type": "code",
   "execution_count": 40,
   "id": "b80fa2b2",
   "metadata": {},
   "outputs": [
    {
     "data": {
      "text/plain": [
       "52"
      ]
     },
     "execution_count": 40,
     "metadata": {},
     "output_type": "execute_result"
    }
   ],
   "source": [
    "# counting the number of entries with negative value\n",
    "mask=data[\"Experience\"]<0\n",
    "data[\"Experience\"][mask].count()\n"
   ]
  },
  {
   "cell_type": "raw",
   "id": "ff80e84c",
   "metadata": {},
   "source": [
    "There are 53 records with negative values"
   ]
  },
  {
   "cell_type": "code",
   "execution_count": 41,
   "id": "9e4ffa67",
   "metadata": {},
   "outputs": [],
   "source": [
    "# Finding the average of the non negative entries.\n",
    "mask1=data[\"Experience\"]>0\n",
    "median=data[\"Experience\"][mask1].median()"
   ]
  },
  {
   "cell_type": "code",
   "execution_count": 42,
   "id": "ec43ef7d",
   "metadata": {},
   "outputs": [
    {
     "name": "stderr",
     "output_type": "stream",
     "text": [
      "C:\\Users\\rahul\\AppData\\Local\\Temp\\ipykernel_8324\\1119779598.py:3: SettingWithCopyWarning: \n",
      "A value is trying to be set on a copy of a slice from a DataFrame\n",
      "\n",
      "See the caveats in the documentation: https://pandas.pydata.org/pandas-docs/stable/user_guide/indexing.html#returning-a-view-versus-a-copy\n",
      "  data[\"Experience_new\"][mask]=median\n"
     ]
    }
   ],
   "source": [
    "# replacing the negative entries with median value.\n",
    "data[\"Experience_new\"]=data[\"Experience\"]\n",
    "data[\"Experience_new\"][mask]=median"
   ]
  },
  {
   "cell_type": "code",
   "execution_count": 43,
   "id": "b6681c27",
   "metadata": {},
   "outputs": [
    {
     "data": {
      "text/plain": [
       "0"
      ]
     },
     "execution_count": 43,
     "metadata": {},
     "output_type": "execute_result"
    }
   ],
   "source": [
    "# Rechecking the Experience_new variable for negative value's\n",
    "\n",
    "data[\"Experience_new\"][data[\"Experience_new\"]<0].count()"
   ]
  },
  {
   "cell_type": "markdown",
   "id": "5bc77b98",
   "metadata": {},
   "source": [
    "# 2. CCAvg Variable"
   ]
  },
  {
   "cell_type": "raw",
   "id": "a4b6743c",
   "metadata": {},
   "source": [
    "Applying log Transformation"
   ]
  },
  {
   "cell_type": "code",
   "execution_count": 44,
   "id": "50715d9a",
   "metadata": {},
   "outputs": [],
   "source": [
    "import numpy as np\n",
    "data[\"log_CCAvg\"] = np.log(data[\"CCAvg\"]+1)"
   ]
  },
  {
   "cell_type": "code",
   "execution_count": 45,
   "id": "c1216ca1",
   "metadata": {},
   "outputs": [
    {
     "data": {
      "text/plain": [
       "{'whiskers': [<matplotlib.lines.Line2D at 0x22b9eb0bbd0>,\n",
       "  <matplotlib.lines.Line2D at 0x22b9eb14850>],\n",
       " 'caps': [<matplotlib.lines.Line2D at 0x22b9eb153d0>,\n",
       "  <matplotlib.lines.Line2D at 0x22b9eb15d90>],\n",
       " 'boxes': [<matplotlib.lines.Line2D at 0x22b9e90b050>],\n",
       " 'medians': [<matplotlib.lines.Line2D at 0x22b9eb16910>],\n",
       " 'fliers': [<matplotlib.lines.Line2D at 0x22b9d7774d0>],\n",
       " 'means': []}"
      ]
     },
     "execution_count": 45,
     "metadata": {},
     "output_type": "execute_result"
    },
    {
     "data": {
      "image/png": "[encoded data removed]",
      "text/plain": [
       "<Figure size 640x480 with 1 Axes>"
      ]
     },
     "metadata": {},
     "output_type": "display_data"
    }
   ],
   "source": [
    "plt.boxplot(data[\"log_CCAvg\"])"
   ]
  },
  {
   "cell_type": "raw",
   "id": "e93e9cc8",
   "metadata": {},
   "source": [
    "We Can see that after applying log transformation there is no outliers in the data."
   ]
  },
  {
   "cell_type": "code",
   "execution_count": 46,
   "id": "3e66b5e8",
   "metadata": {},
   "outputs": [
    {
     "data": {
      "text/plain": [
       "0.9293451780170995"
      ]
     },
     "execution_count": 46,
     "metadata": {},
     "output_type": "execute_result"
    }
   ],
   "source": [
    "data[\"log_CCAvg\"].mean()"
   ]
  },
  {
   "cell_type": "code",
   "execution_count": 47,
   "id": "1c165fb8",
   "metadata": {},
   "outputs": [
    {
     "data": {
      "text/plain": [
       "0.9162907318741551"
      ]
     },
     "execution_count": 47,
     "metadata": {},
     "output_type": "execute_result"
    }
   ],
   "source": [
    "data[\"log_CCAvg\"].median()"
   ]
  },
  {
   "cell_type": "markdown",
   "id": "19cc0ccf",
   "metadata": {},
   "source": [
    "# 3. Mortgage variable"
   ]
  },
  {
   "cell_type": "code",
   "execution_count": 48,
   "id": "35135345",
   "metadata": {},
   "outputs": [
    {
     "data": {
      "text/html": [
       "<div>\n",
       "<style scoped>\n",
       "    .dataframe tbody tr th:only-of-type {\n",
       "        vertical-align: middle;\n",
       "    }\n",
       "\n",
       "    .dataframe tbody tr th {\n",
       "        vertical-align: top;\n",
       "    }\n",
       "\n",
       "    .dataframe thead th {\n",
       "        text-align: right;\n",
       "    }\n",
       "</style>\n",
       "<table border=\"1\" class=\"dataframe\">\n",
       "  <thead>\n",
       "    <tr style=\"text-align: right;\">\n",
       "      <th></th>\n",
       "      <th>ID</th>\n",
       "      <th>Age</th>\n",
       "      <th>Experience</th>\n",
       "      <th>Income</th>\n",
       "      <th>ZIP Code</th>\n",
       "      <th>Family</th>\n",
       "      <th>CCAvg</th>\n",
       "      <th>Education</th>\n",
       "      <th>Mortgage</th>\n",
       "      <th>Personal_Loan</th>\n",
       "      <th>Securities_Account</th>\n",
       "      <th>CD_Account</th>\n",
       "      <th>Online</th>\n",
       "      <th>CreditCard</th>\n",
       "      <th>Experience_new</th>\n",
       "      <th>log_CCAvg</th>\n",
       "      <th>Mortgage_flag</th>\n",
       "    </tr>\n",
       "  </thead>\n",
       "  <tbody>\n",
       "    <tr>\n",
       "      <th>0</th>\n",
       "      <td>1</td>\n",
       "      <td>25</td>\n",
       "      <td>1</td>\n",
       "      <td>49</td>\n",
       "      <td>91107</td>\n",
       "      <td>4</td>\n",
       "      <td>1.6</td>\n",
       "      <td>1</td>\n",
       "      <td>0</td>\n",
       "      <td>0</td>\n",
       "      <td>1</td>\n",
       "      <td>0</td>\n",
       "      <td>0</td>\n",
       "      <td>0</td>\n",
       "      <td>1</td>\n",
       "      <td>0.955511</td>\n",
       "      <td>0</td>\n",
       "    </tr>\n",
       "    <tr>\n",
       "      <th>1</th>\n",
       "      <td>2</td>\n",
       "      <td>45</td>\n",
       "      <td>19</td>\n",
       "      <td>34</td>\n",
       "      <td>90089</td>\n",
       "      <td>3</td>\n",
       "      <td>1.5</td>\n",
       "      <td>1</td>\n",
       "      <td>0</td>\n",
       "      <td>0</td>\n",
       "      <td>1</td>\n",
       "      <td>0</td>\n",
       "      <td>0</td>\n",
       "      <td>0</td>\n",
       "      <td>19</td>\n",
       "      <td>0.916291</td>\n",
       "      <td>0</td>\n",
       "    </tr>\n",
       "    <tr>\n",
       "      <th>2</th>\n",
       "      <td>3</td>\n",
       "      <td>39</td>\n",
       "      <td>15</td>\n",
       "      <td>11</td>\n",
       "      <td>94720</td>\n",
       "      <td>1</td>\n",
       "      <td>1.0</td>\n",
       "      <td>1</td>\n",
       "      <td>0</td>\n",
       "      <td>0</td>\n",
       "      <td>0</td>\n",
       "      <td>0</td>\n",
       "      <td>0</td>\n",
       "      <td>0</td>\n",
       "      <td>15</td>\n",
       "      <td>0.693147</td>\n",
       "      <td>0</td>\n",
       "    </tr>\n",
       "    <tr>\n",
       "      <th>3</th>\n",
       "      <td>4</td>\n",
       "      <td>35</td>\n",
       "      <td>9</td>\n",
       "      <td>100</td>\n",
       "      <td>94112</td>\n",
       "      <td>1</td>\n",
       "      <td>2.7</td>\n",
       "      <td>2</td>\n",
       "      <td>0</td>\n",
       "      <td>0</td>\n",
       "      <td>0</td>\n",
       "      <td>0</td>\n",
       "      <td>0</td>\n",
       "      <td>0</td>\n",
       "      <td>9</td>\n",
       "      <td>1.308333</td>\n",
       "      <td>0</td>\n",
       "    </tr>\n",
       "    <tr>\n",
       "      <th>4</th>\n",
       "      <td>5</td>\n",
       "      <td>35</td>\n",
       "      <td>8</td>\n",
       "      <td>45</td>\n",
       "      <td>91330</td>\n",
       "      <td>4</td>\n",
       "      <td>1.0</td>\n",
       "      <td>2</td>\n",
       "      <td>0</td>\n",
       "      <td>0</td>\n",
       "      <td>0</td>\n",
       "      <td>0</td>\n",
       "      <td>0</td>\n",
       "      <td>1</td>\n",
       "      <td>8</td>\n",
       "      <td>0.693147</td>\n",
       "      <td>0</td>\n",
       "    </tr>\n",
       "    <tr>\n",
       "      <th>...</th>\n",
       "      <td>...</td>\n",
       "      <td>...</td>\n",
       "      <td>...</td>\n",
       "      <td>...</td>\n",
       "      <td>...</td>\n",
       "      <td>...</td>\n",
       "      <td>...</td>\n",
       "      <td>...</td>\n",
       "      <td>...</td>\n",
       "      <td>...</td>\n",
       "      <td>...</td>\n",
       "      <td>...</td>\n",
       "      <td>...</td>\n",
       "      <td>...</td>\n",
       "      <td>...</td>\n",
       "      <td>...</td>\n",
       "      <td>...</td>\n",
       "    </tr>\n",
       "    <tr>\n",
       "      <th>4995</th>\n",
       "      <td>4996</td>\n",
       "      <td>29</td>\n",
       "      <td>3</td>\n",
       "      <td>40</td>\n",
       "      <td>92697</td>\n",
       "      <td>1</td>\n",
       "      <td>1.9</td>\n",
       "      <td>3</td>\n",
       "      <td>0</td>\n",
       "      <td>0</td>\n",
       "      <td>0</td>\n",
       "      <td>0</td>\n",
       "      <td>1</td>\n",
       "      <td>0</td>\n",
       "      <td>3</td>\n",
       "      <td>1.064711</td>\n",
       "      <td>0</td>\n",
       "    </tr>\n",
       "    <tr>\n",
       "      <th>4996</th>\n",
       "      <td>4997</td>\n",
       "      <td>30</td>\n",
       "      <td>4</td>\n",
       "      <td>15</td>\n",
       "      <td>92037</td>\n",
       "      <td>4</td>\n",
       "      <td>0.4</td>\n",
       "      <td>1</td>\n",
       "      <td>85</td>\n",
       "      <td>0</td>\n",
       "      <td>0</td>\n",
       "      <td>0</td>\n",
       "      <td>1</td>\n",
       "      <td>0</td>\n",
       "      <td>4</td>\n",
       "      <td>0.336472</td>\n",
       "      <td>0</td>\n",
       "    </tr>\n",
       "    <tr>\n",
       "      <th>4997</th>\n",
       "      <td>4998</td>\n",
       "      <td>63</td>\n",
       "      <td>39</td>\n",
       "      <td>24</td>\n",
       "      <td>93023</td>\n",
       "      <td>2</td>\n",
       "      <td>0.3</td>\n",
       "      <td>3</td>\n",
       "      <td>0</td>\n",
       "      <td>0</td>\n",
       "      <td>0</td>\n",
       "      <td>0</td>\n",
       "      <td>0</td>\n",
       "      <td>0</td>\n",
       "      <td>39</td>\n",
       "      <td>0.262364</td>\n",
       "      <td>0</td>\n",
       "    </tr>\n",
       "    <tr>\n",
       "      <th>4998</th>\n",
       "      <td>4999</td>\n",
       "      <td>65</td>\n",
       "      <td>40</td>\n",
       "      <td>49</td>\n",
       "      <td>90034</td>\n",
       "      <td>3</td>\n",
       "      <td>0.5</td>\n",
       "      <td>2</td>\n",
       "      <td>0</td>\n",
       "      <td>0</td>\n",
       "      <td>0</td>\n",
       "      <td>0</td>\n",
       "      <td>1</td>\n",
       "      <td>0</td>\n",
       "      <td>40</td>\n",
       "      <td>0.405465</td>\n",
       "      <td>0</td>\n",
       "    </tr>\n",
       "    <tr>\n",
       "      <th>4999</th>\n",
       "      <td>5000</td>\n",
       "      <td>28</td>\n",
       "      <td>4</td>\n",
       "      <td>83</td>\n",
       "      <td>92612</td>\n",
       "      <td>3</td>\n",
       "      <td>0.8</td>\n",
       "      <td>1</td>\n",
       "      <td>0</td>\n",
       "      <td>0</td>\n",
       "      <td>0</td>\n",
       "      <td>0</td>\n",
       "      <td>1</td>\n",
       "      <td>1</td>\n",
       "      <td>4</td>\n",
       "      <td>0.587787</td>\n",
       "      <td>0</td>\n",
       "    </tr>\n",
       "  </tbody>\n",
       "</table>\n",
       "<p>5000 rows × 17 columns</p>\n",
       "</div>"
      ],
      "text/plain": [
       "        ID  Age  Experience  Income  ZIP Code  Family  CCAvg  Education  \\\n",
       "0        1   25           1      49     91107       4    1.6          1   \n",
       "1        2   45          19      34     90089       3    1.5          1   \n",
       "2        3   39          15      11     94720       1    1.0          1   \n",
       "3        4   35           9     100     94112       1    2.7          2   \n",
       "4        5   35           8      45     91330       4    1.0          2   \n",
       "...    ...  ...         ...     ...       ...     ...    ...        ...   \n",
       "4995  4996   29           3      40     92697       1    1.9          3   \n",
       "4996  4997   30           4      15     92037       4    0.4          1   \n",
       "4997  4998   63          39      24     93023       2    0.3          3   \n",
       "4998  4999   65          40      49     90034       3    0.5          2   \n",
       "4999  5000   28           4      83     92612       3    0.8          1   \n",
       "\n",
       "      Mortgage  Personal_Loan  Securities_Account  CD_Account  Online  \\\n",
       "0            0              0                   1           0       0   \n",
       "1            0              0                   1           0       0   \n",
       "2            0              0                   0           0       0   \n",
       "3            0              0                   0           0       0   \n",
       "4            0              0                   0           0       0   \n",
       "...        ...            ...                 ...         ...     ...   \n",
       "4995         0              0                   0           0       1   \n",
       "4996        85              0                   0           0       1   \n",
       "4997         0              0                   0           0       0   \n",
       "4998         0              0                   0           0       1   \n",
       "4999         0              0                   0           0       1   \n",
       "\n",
       "      CreditCard  Experience_new  log_CCAvg  Mortgage_flag  \n",
       "0              0               1   0.955511              0  \n",
       "1              0              19   0.916291              0  \n",
       "2              0              15   0.693147              0  \n",
       "3              0               9   1.308333              0  \n",
       "4              1               8   0.693147              0  \n",
       "...          ...             ...        ...            ...  \n",
       "4995           0               3   1.064711              0  \n",
       "4996           0               4   0.336472              0  \n",
       "4997           0              39   0.262364              0  \n",
       "4998           0              40   0.405465              0  \n",
       "4999           1               4   0.587787              0  \n",
       "\n",
       "[5000 rows x 17 columns]"
      ]
     },
     "execution_count": 48,
     "metadata": {},
     "output_type": "execute_result"
    }
   ],
   "source": [
    "# Initiating a new zero column for flag variable.\n",
    "data[\"Mortgage_flag\"]=0\n",
    "data"
   ]
  },
  {
   "cell_type": "code",
   "execution_count": 49,
   "id": "06891a0b",
   "metadata": {},
   "outputs": [
    {
     "name": "stderr",
     "output_type": "stream",
     "text": [
      "C:\\Users\\rahul\\AppData\\Local\\Temp\\ipykernel_8324\\3209709727.py:2: SettingWithCopyWarning: \n",
      "A value is trying to be set on a copy of a slice from a DataFrame\n",
      "\n",
      "See the caveats in the documentation: https://pandas.pydata.org/pandas-docs/stable/user_guide/indexing.html#returning-a-view-versus-a-copy\n",
      "  data[\"Mortgage_flag\"][mask3] = 1\n"
     ]
    },
    {
     "data": {
      "text/html": [
       "<div>\n",
       "<style scoped>\n",
       "    .dataframe tbody tr th:only-of-type {\n",
       "        vertical-align: middle;\n",
       "    }\n",
       "\n",
       "    .dataframe tbody tr th {\n",
       "        vertical-align: top;\n",
       "    }\n",
       "\n",
       "    .dataframe thead th {\n",
       "        text-align: right;\n",
       "    }\n",
       "</style>\n",
       "<table border=\"1\" class=\"dataframe\">\n",
       "  <thead>\n",
       "    <tr style=\"text-align: right;\">\n",
       "      <th></th>\n",
       "      <th>ID</th>\n",
       "      <th>Age</th>\n",
       "      <th>Experience</th>\n",
       "      <th>Income</th>\n",
       "      <th>ZIP Code</th>\n",
       "      <th>Family</th>\n",
       "      <th>CCAvg</th>\n",
       "      <th>Education</th>\n",
       "      <th>Mortgage</th>\n",
       "      <th>Personal_Loan</th>\n",
       "      <th>Securities_Account</th>\n",
       "      <th>CD_Account</th>\n",
       "      <th>Online</th>\n",
       "      <th>CreditCard</th>\n",
       "      <th>Experience_new</th>\n",
       "      <th>log_CCAvg</th>\n",
       "      <th>Mortgage_flag</th>\n",
       "    </tr>\n",
       "  </thead>\n",
       "  <tbody>\n",
       "    <tr>\n",
       "      <th>0</th>\n",
       "      <td>1</td>\n",
       "      <td>25</td>\n",
       "      <td>1</td>\n",
       "      <td>49</td>\n",
       "      <td>91107</td>\n",
       "      <td>4</td>\n",
       "      <td>1.6</td>\n",
       "      <td>1</td>\n",
       "      <td>0</td>\n",
       "      <td>0</td>\n",
       "      <td>1</td>\n",
       "      <td>0</td>\n",
       "      <td>0</td>\n",
       "      <td>0</td>\n",
       "      <td>1</td>\n",
       "      <td>0.955511</td>\n",
       "      <td>0</td>\n",
       "    </tr>\n",
       "    <tr>\n",
       "      <th>1</th>\n",
       "      <td>2</td>\n",
       "      <td>45</td>\n",
       "      <td>19</td>\n",
       "      <td>34</td>\n",
       "      <td>90089</td>\n",
       "      <td>3</td>\n",
       "      <td>1.5</td>\n",
       "      <td>1</td>\n",
       "      <td>0</td>\n",
       "      <td>0</td>\n",
       "      <td>1</td>\n",
       "      <td>0</td>\n",
       "      <td>0</td>\n",
       "      <td>0</td>\n",
       "      <td>19</td>\n",
       "      <td>0.916291</td>\n",
       "      <td>0</td>\n",
       "    </tr>\n",
       "    <tr>\n",
       "      <th>2</th>\n",
       "      <td>3</td>\n",
       "      <td>39</td>\n",
       "      <td>15</td>\n",
       "      <td>11</td>\n",
       "      <td>94720</td>\n",
       "      <td>1</td>\n",
       "      <td>1.0</td>\n",
       "      <td>1</td>\n",
       "      <td>0</td>\n",
       "      <td>0</td>\n",
       "      <td>0</td>\n",
       "      <td>0</td>\n",
       "      <td>0</td>\n",
       "      <td>0</td>\n",
       "      <td>15</td>\n",
       "      <td>0.693147</td>\n",
       "      <td>0</td>\n",
       "    </tr>\n",
       "    <tr>\n",
       "      <th>3</th>\n",
       "      <td>4</td>\n",
       "      <td>35</td>\n",
       "      <td>9</td>\n",
       "      <td>100</td>\n",
       "      <td>94112</td>\n",
       "      <td>1</td>\n",
       "      <td>2.7</td>\n",
       "      <td>2</td>\n",
       "      <td>0</td>\n",
       "      <td>0</td>\n",
       "      <td>0</td>\n",
       "      <td>0</td>\n",
       "      <td>0</td>\n",
       "      <td>0</td>\n",
       "      <td>9</td>\n",
       "      <td>1.308333</td>\n",
       "      <td>0</td>\n",
       "    </tr>\n",
       "    <tr>\n",
       "      <th>4</th>\n",
       "      <td>5</td>\n",
       "      <td>35</td>\n",
       "      <td>8</td>\n",
       "      <td>45</td>\n",
       "      <td>91330</td>\n",
       "      <td>4</td>\n",
       "      <td>1.0</td>\n",
       "      <td>2</td>\n",
       "      <td>0</td>\n",
       "      <td>0</td>\n",
       "      <td>0</td>\n",
       "      <td>0</td>\n",
       "      <td>0</td>\n",
       "      <td>1</td>\n",
       "      <td>8</td>\n",
       "      <td>0.693147</td>\n",
       "      <td>0</td>\n",
       "    </tr>\n",
       "    <tr>\n",
       "      <th>...</th>\n",
       "      <td>...</td>\n",
       "      <td>...</td>\n",
       "      <td>...</td>\n",
       "      <td>...</td>\n",
       "      <td>...</td>\n",
       "      <td>...</td>\n",
       "      <td>...</td>\n",
       "      <td>...</td>\n",
       "      <td>...</td>\n",
       "      <td>...</td>\n",
       "      <td>...</td>\n",
       "      <td>...</td>\n",
       "      <td>...</td>\n",
       "      <td>...</td>\n",
       "      <td>...</td>\n",
       "      <td>...</td>\n",
       "      <td>...</td>\n",
       "    </tr>\n",
       "    <tr>\n",
       "      <th>4995</th>\n",
       "      <td>4996</td>\n",
       "      <td>29</td>\n",
       "      <td>3</td>\n",
       "      <td>40</td>\n",
       "      <td>92697</td>\n",
       "      <td>1</td>\n",
       "      <td>1.9</td>\n",
       "      <td>3</td>\n",
       "      <td>0</td>\n",
       "      <td>0</td>\n",
       "      <td>0</td>\n",
       "      <td>0</td>\n",
       "      <td>1</td>\n",
       "      <td>0</td>\n",
       "      <td>3</td>\n",
       "      <td>1.064711</td>\n",
       "      <td>0</td>\n",
       "    </tr>\n",
       "    <tr>\n",
       "      <th>4996</th>\n",
       "      <td>4997</td>\n",
       "      <td>30</td>\n",
       "      <td>4</td>\n",
       "      <td>15</td>\n",
       "      <td>92037</td>\n",
       "      <td>4</td>\n",
       "      <td>0.4</td>\n",
       "      <td>1</td>\n",
       "      <td>85</td>\n",
       "      <td>0</td>\n",
       "      <td>0</td>\n",
       "      <td>0</td>\n",
       "      <td>1</td>\n",
       "      <td>0</td>\n",
       "      <td>4</td>\n",
       "      <td>0.336472</td>\n",
       "      <td>1</td>\n",
       "    </tr>\n",
       "    <tr>\n",
       "      <th>4997</th>\n",
       "      <td>4998</td>\n",
       "      <td>63</td>\n",
       "      <td>39</td>\n",
       "      <td>24</td>\n",
       "      <td>93023</td>\n",
       "      <td>2</td>\n",
       "      <td>0.3</td>\n",
       "      <td>3</td>\n",
       "      <td>0</td>\n",
       "      <td>0</td>\n",
       "      <td>0</td>\n",
       "      <td>0</td>\n",
       "      <td>0</td>\n",
       "      <td>0</td>\n",
       "      <td>39</td>\n",
       "      <td>0.262364</td>\n",
       "      <td>0</td>\n",
       "    </tr>\n",
       "    <tr>\n",
       "      <th>4998</th>\n",
       "      <td>4999</td>\n",
       "      <td>65</td>\n",
       "      <td>40</td>\n",
       "      <td>49</td>\n",
       "      <td>90034</td>\n",
       "      <td>3</td>\n",
       "      <td>0.5</td>\n",
       "      <td>2</td>\n",
       "      <td>0</td>\n",
       "      <td>0</td>\n",
       "      <td>0</td>\n",
       "      <td>0</td>\n",
       "      <td>1</td>\n",
       "      <td>0</td>\n",
       "      <td>40</td>\n",
       "      <td>0.405465</td>\n",
       "      <td>0</td>\n",
       "    </tr>\n",
       "    <tr>\n",
       "      <th>4999</th>\n",
       "      <td>5000</td>\n",
       "      <td>28</td>\n",
       "      <td>4</td>\n",
       "      <td>83</td>\n",
       "      <td>92612</td>\n",
       "      <td>3</td>\n",
       "      <td>0.8</td>\n",
       "      <td>1</td>\n",
       "      <td>0</td>\n",
       "      <td>0</td>\n",
       "      <td>0</td>\n",
       "      <td>0</td>\n",
       "      <td>1</td>\n",
       "      <td>1</td>\n",
       "      <td>4</td>\n",
       "      <td>0.587787</td>\n",
       "      <td>0</td>\n",
       "    </tr>\n",
       "  </tbody>\n",
       "</table>\n",
       "<p>5000 rows × 17 columns</p>\n",
       "</div>"
      ],
      "text/plain": [
       "        ID  Age  Experience  Income  ZIP Code  Family  CCAvg  Education  \\\n",
       "0        1   25           1      49     91107       4    1.6          1   \n",
       "1        2   45          19      34     90089       3    1.5          1   \n",
       "2        3   39          15      11     94720       1    1.0          1   \n",
       "3        4   35           9     100     94112       1    2.7          2   \n",
       "4        5   35           8      45     91330       4    1.0          2   \n",
       "...    ...  ...         ...     ...       ...     ...    ...        ...   \n",
       "4995  4996   29           3      40     92697       1    1.9          3   \n",
       "4996  4997   30           4      15     92037       4    0.4          1   \n",
       "4997  4998   63          39      24     93023       2    0.3          3   \n",
       "4998  4999   65          40      49     90034       3    0.5          2   \n",
       "4999  5000   28           4      83     92612       3    0.8          1   \n",
       "\n",
       "      Mortgage  Personal_Loan  Securities_Account  CD_Account  Online  \\\n",
       "0            0              0                   1           0       0   \n",
       "1            0              0                   1           0       0   \n",
       "2            0              0                   0           0       0   \n",
       "3            0              0                   0           0       0   \n",
       "4            0              0                   0           0       0   \n",
       "...        ...            ...                 ...         ...     ...   \n",
       "4995         0              0                   0           0       1   \n",
       "4996        85              0                   0           0       1   \n",
       "4997         0              0                   0           0       0   \n",
       "4998         0              0                   0           0       1   \n",
       "4999         0              0                   0           0       1   \n",
       "\n",
       "      CreditCard  Experience_new  log_CCAvg  Mortgage_flag  \n",
       "0              0               1   0.955511              0  \n",
       "1              0              19   0.916291              0  \n",
       "2              0              15   0.693147              0  \n",
       "3              0               9   1.308333              0  \n",
       "4              1               8   0.693147              0  \n",
       "...          ...             ...        ...            ...  \n",
       "4995           0               3   1.064711              0  \n",
       "4996           0               4   0.336472              1  \n",
       "4997           0              39   0.262364              0  \n",
       "4998           0              40   0.405465              0  \n",
       "4999           1               4   0.587787              0  \n",
       "\n",
       "[5000 rows x 17 columns]"
      ]
     },
     "execution_count": 49,
     "metadata": {},
     "output_type": "execute_result"
    }
   ],
   "source": [
    "mask3=data[\"Mortgage\"]>0\n",
    "data[\"Mortgage_flag\"][mask3] = 1\n",
    "data"
   ]
  },
  {
   "cell_type": "markdown",
   "id": "c429cc1f",
   "metadata": {},
   "source": [
    "# 4. Income Variable"
   ]
  },
  {
   "cell_type": "code",
   "execution_count": 50,
   "id": "b2974906",
   "metadata": {},
   "outputs": [],
   "source": [
    "data[\"sqrt_income\"]=np.sqrt(data[\"Income\"])"
   ]
  },
  {
   "cell_type": "code",
   "execution_count": 51,
   "id": "24fa8a8b",
   "metadata": {},
   "outputs": [
    {
     "data": {
      "text/plain": [
       "{'whiskers': [<matplotlib.lines.Line2D at 0x22b9eb84350>,\n",
       "  <matplotlib.lines.Line2D at 0x22b9eb84d10>],\n",
       " 'caps': [<matplotlib.lines.Line2D at 0x22b9eb85610>,\n",
       "  <matplotlib.lines.Line2D at 0x22b9eb86010>],\n",
       " 'boxes': [<matplotlib.lines.Line2D at 0x22b9eb7ba10>],\n",
       " 'medians': [<matplotlib.lines.Line2D at 0x22b9eb86ad0>],\n",
       " 'fliers': [<matplotlib.lines.Line2D at 0x22b9d709010>],\n",
       " 'means': []}"
      ]
     },
     "execution_count": 51,
     "metadata": {},
     "output_type": "execute_result"
    },
    {
     "data": {
      "image/png": "[encoded data removed]",
      "text/plain": [
       "<Figure size 640x480 with 1 Axes>"
      ]
     },
     "metadata": {},
     "output_type": "display_data"
    }
   ],
   "source": [
    "plt.boxplot(data['sqrt_income'])"
   ]
  },
  {
   "cell_type": "raw",
   "id": "dd36bd7e",
   "metadata": {},
   "source": [
    "We can see after applying square root transformation there is no outliers in the data."
   ]
  },
  {
   "cell_type": "code",
   "execution_count": 52,
   "id": "09c22039",
   "metadata": {},
   "outputs": [
    {
     "data": {
      "text/plain": [
       "8.16622070958749"
      ]
     },
     "execution_count": 52,
     "metadata": {},
     "output_type": "execute_result"
    }
   ],
   "source": [
    "data[\"sqrt_income\"].mean()"
   ]
  },
  {
   "cell_type": "code",
   "execution_count": 53,
   "id": "d024aea8",
   "metadata": {},
   "outputs": [
    {
     "data": {
      "text/plain": [
       "8.0"
      ]
     },
     "execution_count": 53,
     "metadata": {},
     "output_type": "execute_result"
    }
   ],
   "source": [
    "data[\"sqrt_income\"].median()"
   ]
  },
  {
   "cell_type": "markdown",
   "id": "3195fffb",
   "metadata": {},
   "source": [
    "# Removal of columns that are not used in model building"
   ]
  },
  {
   "cell_type": "raw",
   "id": "ca4fc1a2",
   "metadata": {},
   "source": [
    "Since we made new columns for the cleaned data, we will create a new data frame with only the cleaned columns \n",
    "that we will later use to build the model.\n",
    "\n",
    "We will remove the ID and ZIP code variable as it is clear from the business background that the ID doesn't contribute in prediction."
   ]
  },
  {
   "cell_type": "code",
   "execution_count": 54,
   "id": "d6c7969b",
   "metadata": {},
   "outputs": [
    {
     "data": {
      "text/html": [
       "<div>\n",
       "<style scoped>\n",
       "    .dataframe tbody tr th:only-of-type {\n",
       "        vertical-align: middle;\n",
       "    }\n",
       "\n",
       "    .dataframe tbody tr th {\n",
       "        vertical-align: top;\n",
       "    }\n",
       "\n",
       "    .dataframe thead th {\n",
       "        text-align: right;\n",
       "    }\n",
       "</style>\n",
       "<table border=\"1\" class=\"dataframe\">\n",
       "  <thead>\n",
       "    <tr style=\"text-align: right;\">\n",
       "      <th></th>\n",
       "      <th>Age</th>\n",
       "      <th>Family</th>\n",
       "      <th>Education</th>\n",
       "      <th>Personal_Loan</th>\n",
       "      <th>Securities_Account</th>\n",
       "      <th>CD_Account</th>\n",
       "      <th>Online</th>\n",
       "      <th>CreditCard</th>\n",
       "      <th>Experience_new</th>\n",
       "      <th>log_CCAvg</th>\n",
       "      <th>Mortgage_flag</th>\n",
       "      <th>sqrt_income</th>\n",
       "    </tr>\n",
       "  </thead>\n",
       "  <tbody>\n",
       "    <tr>\n",
       "      <th>0</th>\n",
       "      <td>25</td>\n",
       "      <td>4</td>\n",
       "      <td>1</td>\n",
       "      <td>0</td>\n",
       "      <td>1</td>\n",
       "      <td>0</td>\n",
       "      <td>0</td>\n",
       "      <td>0</td>\n",
       "      <td>1</td>\n",
       "      <td>0.955511</td>\n",
       "      <td>0</td>\n",
       "      <td>7.000000</td>\n",
       "    </tr>\n",
       "    <tr>\n",
       "      <th>1</th>\n",
       "      <td>45</td>\n",
       "      <td>3</td>\n",
       "      <td>1</td>\n",
       "      <td>0</td>\n",
       "      <td>1</td>\n",
       "      <td>0</td>\n",
       "      <td>0</td>\n",
       "      <td>0</td>\n",
       "      <td>19</td>\n",
       "      <td>0.916291</td>\n",
       "      <td>0</td>\n",
       "      <td>5.830952</td>\n",
       "    </tr>\n",
       "    <tr>\n",
       "      <th>2</th>\n",
       "      <td>39</td>\n",
       "      <td>1</td>\n",
       "      <td>1</td>\n",
       "      <td>0</td>\n",
       "      <td>0</td>\n",
       "      <td>0</td>\n",
       "      <td>0</td>\n",
       "      <td>0</td>\n",
       "      <td>15</td>\n",
       "      <td>0.693147</td>\n",
       "      <td>0</td>\n",
       "      <td>3.316625</td>\n",
       "    </tr>\n",
       "    <tr>\n",
       "      <th>3</th>\n",
       "      <td>35</td>\n",
       "      <td>1</td>\n",
       "      <td>2</td>\n",
       "      <td>0</td>\n",
       "      <td>0</td>\n",
       "      <td>0</td>\n",
       "      <td>0</td>\n",
       "      <td>0</td>\n",
       "      <td>9</td>\n",
       "      <td>1.308333</td>\n",
       "      <td>0</td>\n",
       "      <td>10.000000</td>\n",
       "    </tr>\n",
       "    <tr>\n",
       "      <th>4</th>\n",
       "      <td>35</td>\n",
       "      <td>4</td>\n",
       "      <td>2</td>\n",
       "      <td>0</td>\n",
       "      <td>0</td>\n",
       "      <td>0</td>\n",
       "      <td>0</td>\n",
       "      <td>1</td>\n",
       "      <td>8</td>\n",
       "      <td>0.693147</td>\n",
       "      <td>0</td>\n",
       "      <td>6.708204</td>\n",
       "    </tr>\n",
       "    <tr>\n",
       "      <th>...</th>\n",
       "      <td>...</td>\n",
       "      <td>...</td>\n",
       "      <td>...</td>\n",
       "      <td>...</td>\n",
       "      <td>...</td>\n",
       "      <td>...</td>\n",
       "      <td>...</td>\n",
       "      <td>...</td>\n",
       "      <td>...</td>\n",
       "      <td>...</td>\n",
       "      <td>...</td>\n",
       "      <td>...</td>\n",
       "    </tr>\n",
       "    <tr>\n",
       "      <th>4995</th>\n",
       "      <td>29</td>\n",
       "      <td>1</td>\n",
       "      <td>3</td>\n",
       "      <td>0</td>\n",
       "      <td>0</td>\n",
       "      <td>0</td>\n",
       "      <td>1</td>\n",
       "      <td>0</td>\n",
       "      <td>3</td>\n",
       "      <td>1.064711</td>\n",
       "      <td>0</td>\n",
       "      <td>6.324555</td>\n",
       "    </tr>\n",
       "    <tr>\n",
       "      <th>4996</th>\n",
       "      <td>30</td>\n",
       "      <td>4</td>\n",
       "      <td>1</td>\n",
       "      <td>0</td>\n",
       "      <td>0</td>\n",
       "      <td>0</td>\n",
       "      <td>1</td>\n",
       "      <td>0</td>\n",
       "      <td>4</td>\n",
       "      <td>0.336472</td>\n",
       "      <td>1</td>\n",
       "      <td>3.872983</td>\n",
       "    </tr>\n",
       "    <tr>\n",
       "      <th>4997</th>\n",
       "      <td>63</td>\n",
       "      <td>2</td>\n",
       "      <td>3</td>\n",
       "      <td>0</td>\n",
       "      <td>0</td>\n",
       "      <td>0</td>\n",
       "      <td>0</td>\n",
       "      <td>0</td>\n",
       "      <td>39</td>\n",
       "      <td>0.262364</td>\n",
       "      <td>0</td>\n",
       "      <td>4.898979</td>\n",
       "    </tr>\n",
       "    <tr>\n",
       "      <th>4998</th>\n",
       "      <td>65</td>\n",
       "      <td>3</td>\n",
       "      <td>2</td>\n",
       "      <td>0</td>\n",
       "      <td>0</td>\n",
       "      <td>0</td>\n",
       "      <td>1</td>\n",
       "      <td>0</td>\n",
       "      <td>40</td>\n",
       "      <td>0.405465</td>\n",
       "      <td>0</td>\n",
       "      <td>7.000000</td>\n",
       "    </tr>\n",
       "    <tr>\n",
       "      <th>4999</th>\n",
       "      <td>28</td>\n",
       "      <td>3</td>\n",
       "      <td>1</td>\n",
       "      <td>0</td>\n",
       "      <td>0</td>\n",
       "      <td>0</td>\n",
       "      <td>1</td>\n",
       "      <td>1</td>\n",
       "      <td>4</td>\n",
       "      <td>0.587787</td>\n",
       "      <td>0</td>\n",
       "      <td>9.110434</td>\n",
       "    </tr>\n",
       "  </tbody>\n",
       "</table>\n",
       "<p>5000 rows × 12 columns</p>\n",
       "</div>"
      ],
      "text/plain": [
       "      Age  Family  Education  Personal_Loan  Securities_Account  CD_Account  \\\n",
       "0      25       4          1              0                   1           0   \n",
       "1      45       3          1              0                   1           0   \n",
       "2      39       1          1              0                   0           0   \n",
       "3      35       1          2              0                   0           0   \n",
       "4      35       4          2              0                   0           0   \n",
       "...   ...     ...        ...            ...                 ...         ...   \n",
       "4995   29       1          3              0                   0           0   \n",
       "4996   30       4          1              0                   0           0   \n",
       "4997   63       2          3              0                   0           0   \n",
       "4998   65       3          2              0                   0           0   \n",
       "4999   28       3          1              0                   0           0   \n",
       "\n",
       "      Online  CreditCard  Experience_new  log_CCAvg  Mortgage_flag  \\\n",
       "0          0           0               1   0.955511              0   \n",
       "1          0           0              19   0.916291              0   \n",
       "2          0           0              15   0.693147              0   \n",
       "3          0           0               9   1.308333              0   \n",
       "4          0           1               8   0.693147              0   \n",
       "...      ...         ...             ...        ...            ...   \n",
       "4995       1           0               3   1.064711              0   \n",
       "4996       1           0               4   0.336472              1   \n",
       "4997       0           0              39   0.262364              0   \n",
       "4998       1           0              40   0.405465              0   \n",
       "4999       1           1               4   0.587787              0   \n",
       "\n",
       "      sqrt_income  \n",
       "0        7.000000  \n",
       "1        5.830952  \n",
       "2        3.316625  \n",
       "3       10.000000  \n",
       "4        6.708204  \n",
       "...           ...  \n",
       "4995     6.324555  \n",
       "4996     3.872983  \n",
       "4997     4.898979  \n",
       "4998     7.000000  \n",
       "4999     9.110434  \n",
       "\n",
       "[5000 rows x 12 columns]"
      ]
     },
     "execution_count": 54,
     "metadata": {},
     "output_type": "execute_result"
    }
   ],
   "source": [
    "data_new = data.drop(['CCAvg', 'Mortgage', 'Experience', 'Income', 'ID', 'ZIP Code'], axis = 1)\n",
    "data_new"
   ]
  },
  {
   "cell_type": "code",
   "execution_count": 55,
   "id": "8b42e8b9",
   "metadata": {},
   "outputs": [
    {
     "data": {
      "text/html": [
       "<div>\n",
       "<style scoped>\n",
       "    .dataframe tbody tr th:only-of-type {\n",
       "        vertical-align: middle;\n",
       "    }\n",
       "\n",
       "    .dataframe tbody tr th {\n",
       "        vertical-align: top;\n",
       "    }\n",
       "\n",
       "    .dataframe thead th {\n",
       "        text-align: right;\n",
       "    }\n",
       "</style>\n",
       "<table border=\"1\" class=\"dataframe\">\n",
       "  <thead>\n",
       "    <tr style=\"text-align: right;\">\n",
       "      <th></th>\n",
       "      <th>ID</th>\n",
       "      <th>Age</th>\n",
       "      <th>Experience</th>\n",
       "      <th>Income</th>\n",
       "      <th>ZIP Code</th>\n",
       "      <th>Family</th>\n",
       "      <th>CCAvg</th>\n",
       "      <th>Education</th>\n",
       "      <th>Mortgage</th>\n",
       "      <th>Personal_Loan</th>\n",
       "      <th>Securities_Account</th>\n",
       "      <th>CD_Account</th>\n",
       "      <th>Online</th>\n",
       "      <th>CreditCard</th>\n",
       "      <th>Experience_new</th>\n",
       "      <th>log_CCAvg</th>\n",
       "      <th>Mortgage_flag</th>\n",
       "      <th>sqrt_income</th>\n",
       "    </tr>\n",
       "  </thead>\n",
       "  <tbody>\n",
       "    <tr>\n",
       "      <th>0</th>\n",
       "      <td>1</td>\n",
       "      <td>25</td>\n",
       "      <td>1</td>\n",
       "      <td>49</td>\n",
       "      <td>91107</td>\n",
       "      <td>4</td>\n",
       "      <td>1.6</td>\n",
       "      <td>1</td>\n",
       "      <td>0</td>\n",
       "      <td>0</td>\n",
       "      <td>1</td>\n",
       "      <td>0</td>\n",
       "      <td>0</td>\n",
       "      <td>0</td>\n",
       "      <td>1</td>\n",
       "      <td>0.955511</td>\n",
       "      <td>0</td>\n",
       "      <td>7.000000</td>\n",
       "    </tr>\n",
       "    <tr>\n",
       "      <th>1</th>\n",
       "      <td>2</td>\n",
       "      <td>45</td>\n",
       "      <td>19</td>\n",
       "      <td>34</td>\n",
       "      <td>90089</td>\n",
       "      <td>3</td>\n",
       "      <td>1.5</td>\n",
       "      <td>1</td>\n",
       "      <td>0</td>\n",
       "      <td>0</td>\n",
       "      <td>1</td>\n",
       "      <td>0</td>\n",
       "      <td>0</td>\n",
       "      <td>0</td>\n",
       "      <td>19</td>\n",
       "      <td>0.916291</td>\n",
       "      <td>0</td>\n",
       "      <td>5.830952</td>\n",
       "    </tr>\n",
       "    <tr>\n",
       "      <th>2</th>\n",
       "      <td>3</td>\n",
       "      <td>39</td>\n",
       "      <td>15</td>\n",
       "      <td>11</td>\n",
       "      <td>94720</td>\n",
       "      <td>1</td>\n",
       "      <td>1.0</td>\n",
       "      <td>1</td>\n",
       "      <td>0</td>\n",
       "      <td>0</td>\n",
       "      <td>0</td>\n",
       "      <td>0</td>\n",
       "      <td>0</td>\n",
       "      <td>0</td>\n",
       "      <td>15</td>\n",
       "      <td>0.693147</td>\n",
       "      <td>0</td>\n",
       "      <td>3.316625</td>\n",
       "    </tr>\n",
       "    <tr>\n",
       "      <th>3</th>\n",
       "      <td>4</td>\n",
       "      <td>35</td>\n",
       "      <td>9</td>\n",
       "      <td>100</td>\n",
       "      <td>94112</td>\n",
       "      <td>1</td>\n",
       "      <td>2.7</td>\n",
       "      <td>2</td>\n",
       "      <td>0</td>\n",
       "      <td>0</td>\n",
       "      <td>0</td>\n",
       "      <td>0</td>\n",
       "      <td>0</td>\n",
       "      <td>0</td>\n",
       "      <td>9</td>\n",
       "      <td>1.308333</td>\n",
       "      <td>0</td>\n",
       "      <td>10.000000</td>\n",
       "    </tr>\n",
       "    <tr>\n",
       "      <th>4</th>\n",
       "      <td>5</td>\n",
       "      <td>35</td>\n",
       "      <td>8</td>\n",
       "      <td>45</td>\n",
       "      <td>91330</td>\n",
       "      <td>4</td>\n",
       "      <td>1.0</td>\n",
       "      <td>2</td>\n",
       "      <td>0</td>\n",
       "      <td>0</td>\n",
       "      <td>0</td>\n",
       "      <td>0</td>\n",
       "      <td>0</td>\n",
       "      <td>1</td>\n",
       "      <td>8</td>\n",
       "      <td>0.693147</td>\n",
       "      <td>0</td>\n",
       "      <td>6.708204</td>\n",
       "    </tr>\n",
       "    <tr>\n",
       "      <th>...</th>\n",
       "      <td>...</td>\n",
       "      <td>...</td>\n",
       "      <td>...</td>\n",
       "      <td>...</td>\n",
       "      <td>...</td>\n",
       "      <td>...</td>\n",
       "      <td>...</td>\n",
       "      <td>...</td>\n",
       "      <td>...</td>\n",
       "      <td>...</td>\n",
       "      <td>...</td>\n",
       "      <td>...</td>\n",
       "      <td>...</td>\n",
       "      <td>...</td>\n",
       "      <td>...</td>\n",
       "      <td>...</td>\n",
       "      <td>...</td>\n",
       "      <td>...</td>\n",
       "    </tr>\n",
       "    <tr>\n",
       "      <th>4995</th>\n",
       "      <td>4996</td>\n",
       "      <td>29</td>\n",
       "      <td>3</td>\n",
       "      <td>40</td>\n",
       "      <td>92697</td>\n",
       "      <td>1</td>\n",
       "      <td>1.9</td>\n",
       "      <td>3</td>\n",
       "      <td>0</td>\n",
       "      <td>0</td>\n",
       "      <td>0</td>\n",
       "      <td>0</td>\n",
       "      <td>1</td>\n",
       "      <td>0</td>\n",
       "      <td>3</td>\n",
       "      <td>1.064711</td>\n",
       "      <td>0</td>\n",
       "      <td>6.324555</td>\n",
       "    </tr>\n",
       "    <tr>\n",
       "      <th>4996</th>\n",
       "      <td>4997</td>\n",
       "      <td>30</td>\n",
       "      <td>4</td>\n",
       "      <td>15</td>\n",
       "      <td>92037</td>\n",
       "      <td>4</td>\n",
       "      <td>0.4</td>\n",
       "      <td>1</td>\n",
       "      <td>85</td>\n",
       "      <td>0</td>\n",
       "      <td>0</td>\n",
       "      <td>0</td>\n",
       "      <td>1</td>\n",
       "      <td>0</td>\n",
       "      <td>4</td>\n",
       "      <td>0.336472</td>\n",
       "      <td>1</td>\n",
       "      <td>3.872983</td>\n",
       "    </tr>\n",
       "    <tr>\n",
       "      <th>4997</th>\n",
       "      <td>4998</td>\n",
       "      <td>63</td>\n",
       "      <td>39</td>\n",
       "      <td>24</td>\n",
       "      <td>93023</td>\n",
       "      <td>2</td>\n",
       "      <td>0.3</td>\n",
       "      <td>3</td>\n",
       "      <td>0</td>\n",
       "      <td>0</td>\n",
       "      <td>0</td>\n",
       "      <td>0</td>\n",
       "      <td>0</td>\n",
       "      <td>0</td>\n",
       "      <td>39</td>\n",
       "      <td>0.262364</td>\n",
       "      <td>0</td>\n",
       "      <td>4.898979</td>\n",
       "    </tr>\n",
       "    <tr>\n",
       "      <th>4998</th>\n",
       "      <td>4999</td>\n",
       "      <td>65</td>\n",
       "      <td>40</td>\n",
       "      <td>49</td>\n",
       "      <td>90034</td>\n",
       "      <td>3</td>\n",
       "      <td>0.5</td>\n",
       "      <td>2</td>\n",
       "      <td>0</td>\n",
       "      <td>0</td>\n",
       "      <td>0</td>\n",
       "      <td>0</td>\n",
       "      <td>1</td>\n",
       "      <td>0</td>\n",
       "      <td>40</td>\n",
       "      <td>0.405465</td>\n",
       "      <td>0</td>\n",
       "      <td>7.000000</td>\n",
       "    </tr>\n",
       "    <tr>\n",
       "      <th>4999</th>\n",
       "      <td>5000</td>\n",
       "      <td>28</td>\n",
       "      <td>4</td>\n",
       "      <td>83</td>\n",
       "      <td>92612</td>\n",
       "      <td>3</td>\n",
       "      <td>0.8</td>\n",
       "      <td>1</td>\n",
       "      <td>0</td>\n",
       "      <td>0</td>\n",
       "      <td>0</td>\n",
       "      <td>0</td>\n",
       "      <td>1</td>\n",
       "      <td>1</td>\n",
       "      <td>4</td>\n",
       "      <td>0.587787</td>\n",
       "      <td>0</td>\n",
       "      <td>9.110434</td>\n",
       "    </tr>\n",
       "  </tbody>\n",
       "</table>\n",
       "<p>5000 rows × 18 columns</p>\n",
       "</div>"
      ],
      "text/plain": [
       "        ID  Age  Experience  Income  ZIP Code  Family  CCAvg  Education  \\\n",
       "0        1   25           1      49     91107       4    1.6          1   \n",
       "1        2   45          19      34     90089       3    1.5          1   \n",
       "2        3   39          15      11     94720       1    1.0          1   \n",
       "3        4   35           9     100     94112       1    2.7          2   \n",
       "4        5   35           8      45     91330       4    1.0          2   \n",
       "...    ...  ...         ...     ...       ...     ...    ...        ...   \n",
       "4995  4996   29           3      40     92697       1    1.9          3   \n",
       "4996  4997   30           4      15     92037       4    0.4          1   \n",
       "4997  4998   63          39      24     93023       2    0.3          3   \n",
       "4998  4999   65          40      49     90034       3    0.5          2   \n",
       "4999  5000   28           4      83     92612       3    0.8          1   \n",
       "\n",
       "      Mortgage  Personal_Loan  Securities_Account  CD_Account  Online  \\\n",
       "0            0              0                   1           0       0   \n",
       "1            0              0                   1           0       0   \n",
       "2            0              0                   0           0       0   \n",
       "3            0              0                   0           0       0   \n",
       "4            0              0                   0           0       0   \n",
       "...        ...            ...                 ...         ...     ...   \n",
       "4995         0              0                   0           0       1   \n",
       "4996        85              0                   0           0       1   \n",
       "4997         0              0                   0           0       0   \n",
       "4998         0              0                   0           0       1   \n",
       "4999         0              0                   0           0       1   \n",
       "\n",
       "      CreditCard  Experience_new  log_CCAvg  Mortgage_flag  sqrt_income  \n",
       "0              0               1   0.955511              0     7.000000  \n",
       "1              0              19   0.916291              0     5.830952  \n",
       "2              0              15   0.693147              0     3.316625  \n",
       "3              0               9   1.308333              0    10.000000  \n",
       "4              1               8   0.693147              0     6.708204  \n",
       "...          ...             ...        ...            ...          ...  \n",
       "4995           0               3   1.064711              0     6.324555  \n",
       "4996           0               4   0.336472              1     3.872983  \n",
       "4997           0              39   0.262364              0     4.898979  \n",
       "4998           0              40   0.405465              0     7.000000  \n",
       "4999           1               4   0.587787              0     9.110434  \n",
       "\n",
       "[5000 rows x 18 columns]"
      ]
     },
     "execution_count": 55,
     "metadata": {},
     "output_type": "execute_result"
    }
   ],
   "source": [
    "data"
   ]
  },
  {
   "cell_type": "markdown",
   "id": "cd20436d",
   "metadata": {},
   "source": [
    "# Model Building"
   ]
  },
  {
   "cell_type": "markdown",
   "id": "ad9d354a",
   "metadata": {},
   "source": [
    "# Logistic Regression Model"
   ]
  },
  {
   "cell_type": "raw",
   "id": "c8c2874e",
   "metadata": {},
   "source": [
    "Since the target variable takes values of 0 and 1 hence logistic regression model is used."
   ]
  },
  {
   "cell_type": "code",
   "execution_count": 56,
   "id": "42edf314",
   "metadata": {},
   "outputs": [],
   "source": [
    "#  x contains all other variable except target variable(Personal Loan)\n",
    "X = data_new.drop([\"Personal_Loan\"], axis = 1)\n",
    "#  y contains Target variable(Personal Loan)\n",
    "y = data_new[\"Personal_Loan\"]"
   ]
  },
  {
   "cell_type": "code",
   "execution_count": 57,
   "id": "2ef71618",
   "metadata": {},
   "outputs": [
    {
     "name": "stderr",
     "output_type": "stream",
     "text": [
      "C:\\Users\\rahul\\anaconda3\\Lib\\site-packages\\sklearn\\linear_model\\_logistic.py:460: ConvergenceWarning: lbfgs failed to converge (status=1):\n",
      "STOP: TOTAL NO. of ITERATIONS REACHED LIMIT.\n",
      "\n",
      "Increase the number of iterations (max_iter) or scale the data as shown in:\n",
      "    https://scikit-learn.org/stable/modules/preprocessing.html\n",
      "Please also refer to the documentation for alternative solver options:\n",
      "    https://scikit-learn.org/stable/modules/linear_model.html#logistic-regression\n",
      "  n_iter_i = _check_optimize_result(\n"
     ]
    },
    {
     "data": {
      "text/html": [
       "<style>#sk-container-id-1 {color: black;}#sk-container-id-1 pre{padding: 0;}#sk-container-id-1 div.sk-toggleable {background-color: white;}#sk-container-id-1 label.sk-toggleable__label {cursor: pointer;display: block;width: 100%;margin-bottom: 0;padding: 0.3em;box-sizing: border-box;text-align: center;}#sk-container-id-1 label.sk-toggleable__label-arrow:before {content: \"▸\";float: left;margin-right: 0.25em;color: #696969;}#sk-container-id-1 label.sk-toggleable__label-arrow:hover:before {color: black;}#sk-container-id-1 div.sk-estimator:hover label.sk-toggleable__label-arrow:before {color: black;}#sk-container-id-1 div.sk-toggleable__content {max-height: 0;max-width: 0;overflow: hidden;text-align: left;background-color: #f0f8ff;}#sk-container-id-1 div.sk-toggleable__content pre {margin: 0.2em;color: black;border-radius: 0.25em;background-color: #f0f8ff;}#sk-container-id-1 input.sk-toggleable__control:checked~div.sk-toggleable__content {max-height: 200px;max-width: 100%;overflow: auto;}#sk-container-id-1 input.sk-toggleable__control:checked~label.sk-toggleable__label-arrow:before {content: \"▾\";}#sk-container-id-1 div.sk-estimator input.sk-toggleable__control:checked~label.sk-toggleable__label {background-color: #d4ebff;}#sk-container-id-1 div.sk-label input.sk-toggleable__control:checked~label.sk-toggleable__label {background-color: #d4ebff;}#sk-container-id-1 input.sk-hidden--visually {border: 0;clip: rect(1px 1px 1px 1px);clip: rect(1px, 1px, 1px, 1px);height: 1px;margin: -1px;overflow: hidden;padding: 0;position: absolute;width: 1px;}#sk-container-id-1 div.sk-estimator {font-family: monospace;background-color: #f0f8ff;border: 1px dotted black;border-radius: 0.25em;box-sizing: border-box;margin-bottom: 0.5em;}#sk-container-id-1 div.sk-estimator:hover {background-color: #d4ebff;}#sk-container-id-1 div.sk-parallel-item::after {content: \"\";width: 100%;border-bottom: 1px solid gray;flex-grow: 1;}#sk-container-id-1 div.sk-label:hover label.sk-toggleable__label {background-color: #d4ebff;}#sk-container-id-1 div.sk-serial::before {content: \"\";position: absolute;border-left: 1px solid gray;box-sizing: border-box;top: 0;bottom: 0;left: 50%;z-index: 0;}#sk-container-id-1 div.sk-serial {display: flex;flex-direction: column;align-items: center;background-color: white;padding-right: 0.2em;padding-left: 0.2em;position: relative;}#sk-container-id-1 div.sk-item {position: relative;z-index: 1;}#sk-container-id-1 div.sk-parallel {display: flex;align-items: stretch;justify-content: center;background-color: white;position: relative;}#sk-container-id-1 div.sk-item::before, #sk-container-id-1 div.sk-parallel-item::before {content: \"\";position: absolute;border-left: 1px solid gray;box-sizing: border-box;top: 0;bottom: 0;left: 50%;z-index: -1;}#sk-container-id-1 div.sk-parallel-item {display: flex;flex-direction: column;z-index: 1;position: relative;background-color: white;}#sk-container-id-1 div.sk-parallel-item:first-child::after {align-self: flex-end;width: 50%;}#sk-container-id-1 div.sk-parallel-item:last-child::after {align-self: flex-start;width: 50%;}#sk-container-id-1 div.sk-parallel-item:only-child::after {width: 0;}#sk-container-id-1 div.sk-dashed-wrapped {border: 1px dashed gray;margin: 0 0.4em 0.5em 0.4em;box-sizing: border-box;padding-bottom: 0.4em;background-color: white;}#sk-container-id-1 div.sk-label label {font-family: monospace;font-weight: bold;display: inline-block;line-height: 1.2em;}#sk-container-id-1 div.sk-label-container {text-align: center;}#sk-container-id-1 div.sk-container {/* jupyter's `normalize.less` sets `[hidden] { display: none; }` but bootstrap.min.css set `[hidden] { display: none !important; }` so we also need the `!important` here to be able to override the default hidden behavior on the sphinx rendered scikit-learn.org. See: https://github.com/scikit-learn/scikit-learn/issues/21755 */display: inline-block !important;position: relative;}#sk-container-id-1 div.sk-text-repr-fallback {display: none;}</style><div id=\"sk-container-id-1\" class=\"sk-top-container\"><div class=\"sk-text-repr-fallback\"><pre>LogisticRegression()</pre><b>In a Jupyter environment, please rerun this cell to show the HTML representation or trust the notebook. <br />On GitHub, the HTML representation is unable to render, please try loading this page with nbviewer.org.</b></div><div class=\"sk-container\" hidden><div class=\"sk-item\"><div class=\"sk-estimator sk-toggleable\"><input class=\"sk-toggleable__control sk-hidden--visually\" id=\"sk-estimator-id-1\" type=\"checkbox\" checked><label for=\"sk-estimator-id-1\" class=\"sk-toggleable__label sk-toggleable__label-arrow\">LogisticRegression</label><div class=\"sk-toggleable__content\"><pre>LogisticRegression()</pre></div></div></div></div></div>"
      ],
      "text/plain": [
       "LogisticRegression()"
      ]
     },
     "execution_count": 57,
     "metadata": {},
     "output_type": "execute_result"
    }
   ],
   "source": [
    "from sklearn.linear_model import LogisticRegression\n",
    "from sklearn.model_selection import train_test_split\n",
    "logistic = LogisticRegression()\n",
    "logistic.fit(X,y)"
   ]
  },
  {
   "cell_type": "code",
   "execution_count": 58,
   "id": "c4007947",
   "metadata": {},
   "outputs": [
    {
     "name": "stdout",
     "output_type": "stream",
     "text": [
      "Intercept = [-11.10072983]\n",
      "coefficient = \n",
      "  [[-0.14182191  0.59384688  1.30474735 -2.62743615  4.81003075 -0.33875511\n",
      "  -1.87732763  0.12925565  0.65555983  0.11489007  0.82040745]]\n"
     ]
    }
   ],
   "source": [
    "# Checking intercept and coefficient values.\n",
    "print(\"Intercept =\" , logistic.intercept_)\n",
    "print(\"coefficient = \\n \" , logistic.coef_)"
   ]
  },
  {
   "cell_type": "code",
   "execution_count": 59,
   "id": "da317666",
   "metadata": {},
   "outputs": [
    {
     "name": "stdout",
     "output_type": "stream",
     "text": [
      "Confusion matrix = \n",
      " [[4457   63]\n",
      " [ 194  286]]\n",
      "Overall accuracy on train data for all the variables = 0.9486\n"
     ]
    }
   ],
   "source": [
    "# calculating the accuracy of the model on train data\n",
    "import numpy as np\n",
    "from sklearn.metrics import confusion_matrix\n",
    "\n",
    "predict = logistic.predict(X)\n",
    "cm = confusion_matrix(y, predict)\n",
    "print(\"Confusion matrix = \\n\" , cm)\n",
    "\n",
    "total = sum(sum(cm))\n",
    "accuracy = (cm[0,0]+cm[1,1]) / total\n",
    "print(\"Overall accuracy on train data for all the variables =\", accuracy)"
   ]
  },
  {
   "cell_type": "markdown",
   "id": "89e84354",
   "metadata": {},
   "source": [
    "# checking the p value of the variables to find the impactful and non impactful variables."
   ]
  },
  {
   "cell_type": "raw",
   "id": "e07e16f7",
   "metadata": {},
   "source": [
    "A variable is impactful when p value <0.05 and non impactful when p value is >0.05."
   ]
  },
  {
   "cell_type": "code",
   "execution_count": 60,
   "id": "237d5c19",
   "metadata": {},
   "outputs": [
    {
     "name": "stdout",
     "output_type": "stream",
     "text": [
      "Optimization terminated successfully.\n",
      "         Current function value: 0.197182\n",
      "         Iterations 8\n",
      "Optimization terminated successfully.\n",
      "         Current function value: 0.197182\n",
      "         Iterations 8\n",
      "                           Logit Regression Results                           \n",
      "==============================================================================\n",
      "Dep. Variable:          Personal_Loan   No. Observations:                 5000\n",
      "Model:                          Logit   Df Residuals:                     4989\n",
      "Method:                           MLE   Df Model:                           10\n",
      "Date:                Tue, 19 Mar 2024   Pseudo R-squ.:                  0.3764\n",
      "Time:                        17:46:15   Log-Likelihood:                -985.91\n",
      "converged:                       True   LL-Null:                       -1581.0\n",
      "Covariance Type:            nonrobust   LLR p-value:                1.855e-249\n",
      "======================================================================================\n",
      "                         coef    std err          z      P>|z|      [0.025      0.975]\n",
      "--------------------------------------------------------------------------------------\n",
      "Age                   -0.3208      0.015    -21.956      0.000      -0.349      -0.292\n",
      "Family                 0.0668      0.053      1.254      0.210      -0.038       0.171\n",
      "Education              0.7207      0.074      9.738      0.000       0.576       0.866\n",
      "Securities_Account    -1.4641      0.244     -5.991      0.000      -1.943      -0.985\n",
      "CD_Account             4.0562      0.264     15.371      0.000       3.539       4.573\n",
      "Online                -0.9834      0.128     -7.703      0.000      -1.234      -0.733\n",
      "CreditCard            -1.5264      0.186     -8.205      0.000      -1.891      -1.162\n",
      "Experience_new         0.2923      0.016     18.054      0.000       0.261       0.324\n",
      "log_CCAvg              0.4371      0.123      3.541      0.000       0.195       0.679\n",
      "Mortgage_flag         -0.0389      0.128     -0.304      0.761      -0.290       0.212\n",
      "sqrt_income            0.5111      0.030     16.888      0.000       0.452       0.570\n",
      "======================================================================================\n"
     ]
    }
   ],
   "source": [
    "#  checking the p value for individual impact of the variables on the traget variable.\n",
    "import statsmodels.api as sm\n",
    "sm = sm.Logit(y,X)\n",
    "sm.fit()\n",
    "print(sm.fit().summary())"
   ]
  },
  {
   "cell_type": "raw",
   "id": "5f3ee5fd",
   "metadata": {},
   "source": [
    "We can see that p value of family and Mortagage variable is Greater than 0.05 which indicates that the variable not impactful.\n",
    "\n",
    "However before removing these variables we will first check the VIF(variable inflation factor) for multicollinearity between variable, as if there is any multicollinearity between variables it will have impact on the p value "
   ]
  },
  {
   "cell_type": "markdown",
   "id": "16203d39",
   "metadata": {},
   "source": [
    "# VIF"
   ]
  },
  {
   "cell_type": "raw",
   "id": "df8f700f",
   "metadata": {},
   "source": [
    "If VIF >5 for any two or more variables, then it is a clear case of multicollinearity between those variables."
   ]
  },
  {
   "cell_type": "code",
   "execution_count": 61,
   "id": "9b18bd60",
   "metadata": {},
   "outputs": [],
   "source": [
    "# Defining user defined function for variation Inflation factor\n",
    "# def vif_cal(input_data,dependent_col):\n",
    "#     import statsmodels.formula.api as sm\n",
    "#     x_vars=input_data.drop([dependent_col], axis=1)\n",
    "#     xvar_names=x_vars.columns\n",
    "#     for i in range(0, xvar_names.shape[0]):\n",
    "#         y=x_vars[xvar_names[i]]\n",
    "#         x=x_vars[xvar_names.drop(xvar_names[i])]\n",
    "#         rsq=sm.ols(formula=\"y-x\", data=x_vars).fit().rsquared\n",
    "#         vif=round(1/(1-rsq),2)\n",
    "#         print (xvar_names[i], \"VIF = \" , vif)"
   ]
  },
  {
   "cell_type": "code",
   "execution_count": 62,
   "id": "25370f8d",
   "metadata": {},
   "outputs": [],
   "source": [
    "def vif_cal(input_data, dependent_col):\n",
    "    import statsmodels.formula.api as sm\n",
    "    x_vars = input_data.drop([dependent_col], axis=1)\n",
    "    xvar_names = x_vars.columns\n",
    "    for i in range(0, xvar_names.shape[0]):\n",
    "        y = x_vars[xvar_names[i]]\n",
    "        x = x_vars[xvar_names.drop(xvar_names[i])]\n",
    "        rsq = sm.ols(formula=f\"{xvar_names[i]} ~ {' + '.join(xvar_names.drop(xvar_names[i]))}\", data=x_vars).fit().rsquared\n",
    "        vif = round(1 / (1 - rsq), 2)\n",
    "        print(xvar_names[i], \"VIF =\", vif)\n"
   ]
  },
  {
   "cell_type": "code",
   "execution_count": 63,
   "id": "34f192dd",
   "metadata": {},
   "outputs": [
    {
     "name": "stdout",
     "output_type": "stream",
     "text": [
      "Age VIF = 20.91\n",
      "Family VIF = 1.03\n",
      "Education VIF = 1.05\n",
      "Securities_Account VIF = 1.14\n",
      "CD_Account VIF = 1.32\n",
      "Online VIF = 1.04\n",
      "CreditCard VIF = 1.11\n",
      "Experience_new VIF = 20.87\n",
      "log_CCAvg VIF = 1.59\n",
      "Mortgage_flag VIF = 1.0\n",
      "sqrt_income VIF = 1.67\n"
     ]
    }
   ],
   "source": [
    "# calculating VIF\n",
    "vif_cal(data_new,\"Personal_Loan\")"
   ]
  },
  {
   "cell_type": "raw",
   "id": "ae4244f3",
   "metadata": {},
   "source": [
    "We can See that VIF of age variable and Experience variable is >5 which shows a clear case of multicollinearity.\n",
    "\n",
    "we will first remove variable with highest VIF and rebuild the model."
   ]
  },
  {
   "cell_type": "code",
   "execution_count": 64,
   "id": "661bb56a",
   "metadata": {},
   "outputs": [],
   "source": [
    "X= data_new.drop([\"Personal_Loan\", \"Age\"], axis = 1)\n",
    "y = data_new[\"Personal_Loan\"]"
   ]
  },
  {
   "cell_type": "code",
   "execution_count": 65,
   "id": "4c6c9c6a",
   "metadata": {},
   "outputs": [
    {
     "name": "stderr",
     "output_type": "stream",
     "text": [
      "C:\\Users\\rahul\\anaconda3\\Lib\\site-packages\\sklearn\\linear_model\\_logistic.py:460: ConvergenceWarning: lbfgs failed to converge (status=1):\n",
      "STOP: TOTAL NO. of ITERATIONS REACHED LIMIT.\n",
      "\n",
      "Increase the number of iterations (max_iter) or scale the data as shown in:\n",
      "    https://scikit-learn.org/stable/modules/preprocessing.html\n",
      "Please also refer to the documentation for alternative solver options:\n",
      "    https://scikit-learn.org/stable/modules/linear_model.html#logistic-regression\n",
      "  n_iter_i = _check_optimize_result(\n"
     ]
    },
    {
     "data": {
      "text/html": [
       "<style>#sk-container-id-2 {color: black;}#sk-container-id-2 pre{padding: 0;}#sk-container-id-2 div.sk-toggleable {background-color: white;}#sk-container-id-2 label.sk-toggleable__label {cursor: pointer;display: block;width: 100%;margin-bottom: 0;padding: 0.3em;box-sizing: border-box;text-align: center;}#sk-container-id-2 label.sk-toggleable__label-arrow:before {content: \"▸\";float: left;margin-right: 0.25em;color: #696969;}#sk-container-id-2 label.sk-toggleable__label-arrow:hover:before {color: black;}#sk-container-id-2 div.sk-estimator:hover label.sk-toggleable__label-arrow:before {color: black;}#sk-container-id-2 div.sk-toggleable__content {max-height: 0;max-width: 0;overflow: hidden;text-align: left;background-color: #f0f8ff;}#sk-container-id-2 div.sk-toggleable__content pre {margin: 0.2em;color: black;border-radius: 0.25em;background-color: #f0f8ff;}#sk-container-id-2 input.sk-toggleable__control:checked~div.sk-toggleable__content {max-height: 200px;max-width: 100%;overflow: auto;}#sk-container-id-2 input.sk-toggleable__control:checked~label.sk-toggleable__label-arrow:before {content: \"▾\";}#sk-container-id-2 div.sk-estimator input.sk-toggleable__control:checked~label.sk-toggleable__label {background-color: #d4ebff;}#sk-container-id-2 div.sk-label input.sk-toggleable__control:checked~label.sk-toggleable__label {background-color: #d4ebff;}#sk-container-id-2 input.sk-hidden--visually {border: 0;clip: rect(1px 1px 1px 1px);clip: rect(1px, 1px, 1px, 1px);height: 1px;margin: -1px;overflow: hidden;padding: 0;position: absolute;width: 1px;}#sk-container-id-2 div.sk-estimator {font-family: monospace;background-color: #f0f8ff;border: 1px dotted black;border-radius: 0.25em;box-sizing: border-box;margin-bottom: 0.5em;}#sk-container-id-2 div.sk-estimator:hover {background-color: #d4ebff;}#sk-container-id-2 div.sk-parallel-item::after {content: \"\";width: 100%;border-bottom: 1px solid gray;flex-grow: 1;}#sk-container-id-2 div.sk-label:hover label.sk-toggleable__label {background-color: #d4ebff;}#sk-container-id-2 div.sk-serial::before {content: \"\";position: absolute;border-left: 1px solid gray;box-sizing: border-box;top: 0;bottom: 0;left: 50%;z-index: 0;}#sk-container-id-2 div.sk-serial {display: flex;flex-direction: column;align-items: center;background-color: white;padding-right: 0.2em;padding-left: 0.2em;position: relative;}#sk-container-id-2 div.sk-item {position: relative;z-index: 1;}#sk-container-id-2 div.sk-parallel {display: flex;align-items: stretch;justify-content: center;background-color: white;position: relative;}#sk-container-id-2 div.sk-item::before, #sk-container-id-2 div.sk-parallel-item::before {content: \"\";position: absolute;border-left: 1px solid gray;box-sizing: border-box;top: 0;bottom: 0;left: 50%;z-index: -1;}#sk-container-id-2 div.sk-parallel-item {display: flex;flex-direction: column;z-index: 1;position: relative;background-color: white;}#sk-container-id-2 div.sk-parallel-item:first-child::after {align-self: flex-end;width: 50%;}#sk-container-id-2 div.sk-parallel-item:last-child::after {align-self: flex-start;width: 50%;}#sk-container-id-2 div.sk-parallel-item:only-child::after {width: 0;}#sk-container-id-2 div.sk-dashed-wrapped {border: 1px dashed gray;margin: 0 0.4em 0.5em 0.4em;box-sizing: border-box;padding-bottom: 0.4em;background-color: white;}#sk-container-id-2 div.sk-label label {font-family: monospace;font-weight: bold;display: inline-block;line-height: 1.2em;}#sk-container-id-2 div.sk-label-container {text-align: center;}#sk-container-id-2 div.sk-container {/* jupyter's `normalize.less` sets `[hidden] { display: none; }` but bootstrap.min.css set `[hidden] { display: none !important; }` so we also need the `!important` here to be able to override the default hidden behavior on the sphinx rendered scikit-learn.org. See: https://github.com/scikit-learn/scikit-learn/issues/21755 */display: inline-block !important;position: relative;}#sk-container-id-2 div.sk-text-repr-fallback {display: none;}</style><div id=\"sk-container-id-2\" class=\"sk-top-container\"><div class=\"sk-text-repr-fallback\"><pre>LogisticRegression()</pre><b>In a Jupyter environment, please rerun this cell to show the HTML representation or trust the notebook. <br />On GitHub, the HTML representation is unable to render, please try loading this page with nbviewer.org.</b></div><div class=\"sk-container\" hidden><div class=\"sk-item\"><div class=\"sk-estimator sk-toggleable\"><input class=\"sk-toggleable__control sk-hidden--visually\" id=\"sk-estimator-id-2\" type=\"checkbox\" checked><label for=\"sk-estimator-id-2\" class=\"sk-toggleable__label sk-toggleable__label-arrow\">LogisticRegression</label><div class=\"sk-toggleable__content\"><pre>LogisticRegression()</pre></div></div></div></div></div>"
      ],
      "text/plain": [
       "LogisticRegression()"
      ]
     },
     "execution_count": 65,
     "metadata": {},
     "output_type": "execute_result"
    }
   ],
   "source": [
    "logistic = LogisticRegression()\n",
    "logistic.fit(X,y)"
   ]
  },
  {
   "cell_type": "code",
   "execution_count": 66,
   "id": "46e754f3",
   "metadata": {},
   "outputs": [
    {
     "name": "stdout",
     "output_type": "stream",
     "text": [
      "Intercept = [-19.34462455]\n",
      "coefficient = \n",
      "  [[ 0.6765305   1.56612781 -1.62285974  3.58280069 -0.82674758 -0.90547024\n",
      "   0.00988774  0.66954414  0.14973712  1.14996695]]\n"
     ]
    }
   ],
   "source": [
    "# Checking intercept and coefficient values.\n",
    "print(\"Intercept =\" , logistic.intercept_)\n",
    "print(\"coefficient = \\n \" , logistic.coef_)"
   ]
  },
  {
   "cell_type": "code",
   "execution_count": 67,
   "id": "ff25dbeb",
   "metadata": {},
   "outputs": [
    {
     "name": "stdout",
     "output_type": "stream",
     "text": [
      "Confusion matrix = \n",
      " [[4453   67]\n",
      " [ 172  308]]\n",
      "Overall accuracy on train data for all the variables = 0.9522\n"
     ]
    }
   ],
   "source": [
    "# calculating the accuracy of the model on train data\n",
    "import numpy as np\n",
    "from sklearn.metrics import confusion_matrix\n",
    "\n",
    "predict = logistic.predict(X)\n",
    "cm = confusion_matrix(y, predict)\n",
    "print(\"Confusion matrix = \\n\" , cm)\n",
    "\n",
    "total = sum(sum(cm))\n",
    "accuracy = (cm[0,0]+cm[1,1]) / total\n",
    "print(\"Overall accuracy on train data for all the variables =\", accuracy)"
   ]
  },
  {
   "cell_type": "code",
   "execution_count": 68,
   "id": "f4f6e0db",
   "metadata": {},
   "outputs": [
    {
     "name": "stdout",
     "output_type": "stream",
     "text": [
      "Optimization terminated successfully.\n",
      "         Current function value: 0.284851\n",
      "         Iterations 7\n",
      "Optimization terminated successfully.\n",
      "         Current function value: 0.284851\n",
      "         Iterations 7\n",
      "                           Logit Regression Results                           \n",
      "==============================================================================\n",
      "Dep. Variable:          Personal_Loan   No. Observations:                 5000\n",
      "Model:                          Logit   Df Residuals:                     4990\n",
      "Method:                           MLE   Df Model:                            9\n",
      "Date:                Tue, 19 Mar 2024   Pseudo R-squ.:                 0.09915\n",
      "Time:                        17:46:16   Log-Likelihood:                -1424.3\n",
      "converged:                       True   LL-Null:                       -1581.0\n",
      "Covariance Type:            nonrobust   LLR p-value:                 3.512e-62\n",
      "======================================================================================\n",
      "                         coef    std err          z      P>|z|      [0.025      0.975]\n",
      "--------------------------------------------------------------------------------------\n",
      "Family                -0.3640      0.041     -8.831      0.000      -0.445      -0.283\n",
      "Education             -0.1852      0.051     -3.596      0.000      -0.286      -0.084\n",
      "Securities_Account    -1.7068      0.212     -8.061      0.000      -2.122      -1.292\n",
      "CD_Account             4.4059      0.217     20.281      0.000       3.980       4.832\n",
      "Online                -1.2050      0.104    -11.533      0.000      -1.410      -1.000\n",
      "CreditCard            -1.5708      0.153    -10.289      0.000      -1.870      -1.272\n",
      "Experience_new        -0.0537      0.004    -12.294      0.000      -0.062      -0.045\n",
      "log_CCAvg              0.4120      0.109      3.786      0.000       0.199       0.625\n",
      "Mortgage_flag         -0.3559      0.108     -3.281      0.001      -0.568      -0.143\n",
      "sqrt_income            0.0603      0.018      3.275      0.001       0.024       0.096\n",
      "======================================================================================\n"
     ]
    }
   ],
   "source": [
    "#  Rechecking the p value for individual impact of the variables on the traget variable.\n",
    "import statsmodels.api as sm\n",
    "sm = sm.Logit(y,X)\n",
    "sm.fit()\n",
    "print(sm.fit().summary())"
   ]
  },
  {
   "cell_type": "raw",
   "id": "1779e8cc",
   "metadata": {},
   "source": [
    "We can Observe that now the p value of all the variables is <0.05\n",
    "\n",
    "we will once again check multicolinearity of the variables."
   ]
  },
  {
   "cell_type": "code",
   "execution_count": 69,
   "id": "5a4a2af6",
   "metadata": {},
   "outputs": [
    {
     "name": "stdout",
     "output_type": "stream",
     "text": [
      "Family VIF = 1.03\n",
      "Education VIF = 1.04\n",
      "Securities_Account VIF = 1.14\n",
      "CD_Account VIF = 1.32\n",
      "Online VIF = 1.04\n",
      "CreditCard VIF = 1.11\n",
      "Experience_new VIF = 1.01\n",
      "log_CCAvg VIF = 1.59\n",
      "Mortgage_flag VIF = 1.0\n",
      "sqrt_income VIF = 1.67\n"
     ]
    }
   ],
   "source": [
    "# calculating VIF\n",
    "vif_cal(data_new.drop(['Age'] , axis=1), \"Personal_Loan\")"
   ]
  },
  {
   "cell_type": "raw",
   "id": "4ff8b8ca",
   "metadata": {},
   "source": [
    "Now we can see that the VIF of all the variables is <5. Hence there is not multicollinearity between the variables."
   ]
  },
  {
   "cell_type": "markdown",
   "id": "71f6c200",
   "metadata": {},
   "source": [
    "# Decision Tree"
   ]
  },
  {
   "cell_type": "code",
   "execution_count": 70,
   "id": "4293e3a2",
   "metadata": {},
   "outputs": [],
   "source": [
    "X = data_new.drop([\"Personal_Loan\"], axis=1)\n",
    "y=data_new[\"Personal_Loan\"]"
   ]
  },
  {
   "cell_type": "code",
   "execution_count": 71,
   "id": "ca7bed02",
   "metadata": {},
   "outputs": [
    {
     "data": {
      "text/html": [
       "<style>#sk-container-id-3 {color: black;}#sk-container-id-3 pre{padding: 0;}#sk-container-id-3 div.sk-toggleable {background-color: white;}#sk-container-id-3 label.sk-toggleable__label {cursor: pointer;display: block;width: 100%;margin-bottom: 0;padding: 0.3em;box-sizing: border-box;text-align: center;}#sk-container-id-3 label.sk-toggleable__label-arrow:before {content: \"▸\";float: left;margin-right: 0.25em;color: #696969;}#sk-container-id-3 label.sk-toggleable__label-arrow:hover:before {color: black;}#sk-container-id-3 div.sk-estimator:hover label.sk-toggleable__label-arrow:before {color: black;}#sk-container-id-3 div.sk-toggleable__content {max-height: 0;max-width: 0;overflow: hidden;text-align: left;background-color: #f0f8ff;}#sk-container-id-3 div.sk-toggleable__content pre {margin: 0.2em;color: black;border-radius: 0.25em;background-color: #f0f8ff;}#sk-container-id-3 input.sk-toggleable__control:checked~div.sk-toggleable__content {max-height: 200px;max-width: 100%;overflow: auto;}#sk-container-id-3 input.sk-toggleable__control:checked~label.sk-toggleable__label-arrow:before {content: \"▾\";}#sk-container-id-3 div.sk-estimator input.sk-toggleable__control:checked~label.sk-toggleable__label {background-color: #d4ebff;}#sk-container-id-3 div.sk-label input.sk-toggleable__control:checked~label.sk-toggleable__label {background-color: #d4ebff;}#sk-container-id-3 input.sk-hidden--visually {border: 0;clip: rect(1px 1px 1px 1px);clip: rect(1px, 1px, 1px, 1px);height: 1px;margin: -1px;overflow: hidden;padding: 0;position: absolute;width: 1px;}#sk-container-id-3 div.sk-estimator {font-family: monospace;background-color: #f0f8ff;border: 1px dotted black;border-radius: 0.25em;box-sizing: border-box;margin-bottom: 0.5em;}#sk-container-id-3 div.sk-estimator:hover {background-color: #d4ebff;}#sk-container-id-3 div.sk-parallel-item::after {content: \"\";width: 100%;border-bottom: 1px solid gray;flex-grow: 1;}#sk-container-id-3 div.sk-label:hover label.sk-toggleable__label {background-color: #d4ebff;}#sk-container-id-3 div.sk-serial::before {content: \"\";position: absolute;border-left: 1px solid gray;box-sizing: border-box;top: 0;bottom: 0;left: 50%;z-index: 0;}#sk-container-id-3 div.sk-serial {display: flex;flex-direction: column;align-items: center;background-color: white;padding-right: 0.2em;padding-left: 0.2em;position: relative;}#sk-container-id-3 div.sk-item {position: relative;z-index: 1;}#sk-container-id-3 div.sk-parallel {display: flex;align-items: stretch;justify-content: center;background-color: white;position: relative;}#sk-container-id-3 div.sk-item::before, #sk-container-id-3 div.sk-parallel-item::before {content: \"\";position: absolute;border-left: 1px solid gray;box-sizing: border-box;top: 0;bottom: 0;left: 50%;z-index: -1;}#sk-container-id-3 div.sk-parallel-item {display: flex;flex-direction: column;z-index: 1;position: relative;background-color: white;}#sk-container-id-3 div.sk-parallel-item:first-child::after {align-self: flex-end;width: 50%;}#sk-container-id-3 div.sk-parallel-item:last-child::after {align-self: flex-start;width: 50%;}#sk-container-id-3 div.sk-parallel-item:only-child::after {width: 0;}#sk-container-id-3 div.sk-dashed-wrapped {border: 1px dashed gray;margin: 0 0.4em 0.5em 0.4em;box-sizing: border-box;padding-bottom: 0.4em;background-color: white;}#sk-container-id-3 div.sk-label label {font-family: monospace;font-weight: bold;display: inline-block;line-height: 1.2em;}#sk-container-id-3 div.sk-label-container {text-align: center;}#sk-container-id-3 div.sk-container {/* jupyter's `normalize.less` sets `[hidden] { display: none; }` but bootstrap.min.css set `[hidden] { display: none !important; }` so we also need the `!important` here to be able to override the default hidden behavior on the sphinx rendered scikit-learn.org. See: https://github.com/scikit-learn/scikit-learn/issues/21755 */display: inline-block !important;position: relative;}#sk-container-id-3 div.sk-text-repr-fallback {display: none;}</style><div id=\"sk-container-id-3\" class=\"sk-top-container\"><div class=\"sk-text-repr-fallback\"><pre>DecisionTreeClassifier(max_depth=2)</pre><b>In a Jupyter environment, please rerun this cell to show the HTML representation or trust the notebook. <br />On GitHub, the HTML representation is unable to render, please try loading this page with nbviewer.org.</b></div><div class=\"sk-container\" hidden><div class=\"sk-item\"><div class=\"sk-estimator sk-toggleable\"><input class=\"sk-toggleable__control sk-hidden--visually\" id=\"sk-estimator-id-3\" type=\"checkbox\" checked><label for=\"sk-estimator-id-3\" class=\"sk-toggleable__label sk-toggleable__label-arrow\">DecisionTreeClassifier</label><div class=\"sk-toggleable__content\"><pre>DecisionTreeClassifier(max_depth=2)</pre></div></div></div></div></div>"
      ],
      "text/plain": [
       "DecisionTreeClassifier(max_depth=2)"
      ]
     },
     "execution_count": 71,
     "metadata": {},
     "output_type": "execute_result"
    }
   ],
   "source": [
    "from sklearn.tree import DecisionTreeClassifier\n",
    "\n",
    "# Building a Decision Tree Model\n",
    "Dtree = DecisionTreeClassifier(max_depth = 2)\n",
    "Dtree.fit(X,y)"
   ]
  },
  {
   "cell_type": "code",
   "execution_count": 72,
   "id": "76cda465",
   "metadata": {},
   "outputs": [
    {
     "name": "stdout",
     "output_type": "stream",
     "text": [
      "|--- sqrt_income <= 10.65\n",
      "|   |--- log_CCAvg <= 1.37\n",
      "|   |   |--- class: 0\n",
      "|   |--- log_CCAvg >  1.37\n",
      "|   |   |--- class: 0\n",
      "|--- sqrt_income >  10.65\n",
      "|   |--- Education <= 1.50\n",
      "|   |   |--- class: 0\n",
      "|   |--- Education >  1.50\n",
      "|   |   |--- class: 1\n",
      "\n"
     ]
    },
    {
     "data": {
      "image/png": "[encoded data removed]",
      "text/plain": [
       "<Figure size 1500x700 with 1 Axes>"
      ]
     },
     "metadata": {},
     "output_type": "display_data"
    }
   ],
   "source": [
    "# Plotting the tree\n",
    "from sklearn.tree import plot_tree, export_text\n",
    "plt.figure(figsize = (15,7))\n",
    "plot_tree(Dtree, filled = True, rounded = True, impurity=False, feature_names=list(X.columns))\n",
    "print(export_text(Dtree , feature_names = list(X.columns)))\n",
    "plt.show()"
   ]
  },
  {
   "cell_type": "code",
   "execution_count": 73,
   "id": "596cc11f",
   "metadata": {},
   "outputs": [
    {
     "name": "stdout",
     "output_type": "stream",
     "text": [
      "Confusion matrix = \n",
      " [[4503   17]\n",
      " [ 153  327]]\n",
      "Overall accuracy on train data for all the variables = 0.966\n"
     ]
    }
   ],
   "source": [
    "# Finding the accuracy of the model\n",
    "predict = Dtree.predict(X)\n",
    "cm = confusion_matrix(y, predict)\n",
    "print(\"Confusion matrix = \\n\" , cm)\n",
    "\n",
    "total = sum(sum(cm))\n",
    "accuracy = (cm[0,0]+cm[1,1]) / total\n",
    "print(\"Overall accuracy on train data for all the variables =\", accuracy)"
   ]
  },
  {
   "cell_type": "raw",
   "id": "761ab34b",
   "metadata": {},
   "source": [
    "The Problem Of overfitting\n",
    "\n",
    "When really large tree is build, the model is very likely to be Overfitted model means that the train accuracy is very large\n",
    "whereas the test accuracy is considerably very low. If the train and test accuracy diifer by more than 5 points then the model \n",
    "is considered as overfitted model.  "
   ]
  },
  {
   "cell_type": "code",
   "execution_count": 74,
   "id": "b912a0f1",
   "metadata": {},
   "outputs": [],
   "source": [
    "X = data_new.drop([\"Personal_Loan\"], axis=1)\n",
    "y=data_new[\"Personal_Loan\"]\n",
    "\n",
    "# Creating train and test data\n",
    "from sklearn.model_selection import train_test_split\n",
    "X_train, X_test, y_train, y_test = train_test_split(X,y, train_size = 0.8, random_state = 22)"
   ]
  },
  {
   "cell_type": "code",
   "execution_count": 75,
   "id": "a4850385",
   "metadata": {},
   "outputs": [
    {
     "data": {
      "text/html": [
       "<style>#sk-container-id-4 {color: black;}#sk-container-id-4 pre{padding: 0;}#sk-container-id-4 div.sk-toggleable {background-color: white;}#sk-container-id-4 label.sk-toggleable__label {cursor: pointer;display: block;width: 100%;margin-bottom: 0;padding: 0.3em;box-sizing: border-box;text-align: center;}#sk-container-id-4 label.sk-toggleable__label-arrow:before {content: \"▸\";float: left;margin-right: 0.25em;color: #696969;}#sk-container-id-4 label.sk-toggleable__label-arrow:hover:before {color: black;}#sk-container-id-4 div.sk-estimator:hover label.sk-toggleable__label-arrow:before {color: black;}#sk-container-id-4 div.sk-toggleable__content {max-height: 0;max-width: 0;overflow: hidden;text-align: left;background-color: #f0f8ff;}#sk-container-id-4 div.sk-toggleable__content pre {margin: 0.2em;color: black;border-radius: 0.25em;background-color: #f0f8ff;}#sk-container-id-4 input.sk-toggleable__control:checked~div.sk-toggleable__content {max-height: 200px;max-width: 100%;overflow: auto;}#sk-container-id-4 input.sk-toggleable__control:checked~label.sk-toggleable__label-arrow:before {content: \"▾\";}#sk-container-id-4 div.sk-estimator input.sk-toggleable__control:checked~label.sk-toggleable__label {background-color: #d4ebff;}#sk-container-id-4 div.sk-label input.sk-toggleable__control:checked~label.sk-toggleable__label {background-color: #d4ebff;}#sk-container-id-4 input.sk-hidden--visually {border: 0;clip: rect(1px 1px 1px 1px);clip: rect(1px, 1px, 1px, 1px);height: 1px;margin: -1px;overflow: hidden;padding: 0;position: absolute;width: 1px;}#sk-container-id-4 div.sk-estimator {font-family: monospace;background-color: #f0f8ff;border: 1px dotted black;border-radius: 0.25em;box-sizing: border-box;margin-bottom: 0.5em;}#sk-container-id-4 div.sk-estimator:hover {background-color: #d4ebff;}#sk-container-id-4 div.sk-parallel-item::after {content: \"\";width: 100%;border-bottom: 1px solid gray;flex-grow: 1;}#sk-container-id-4 div.sk-label:hover label.sk-toggleable__label {background-color: #d4ebff;}#sk-container-id-4 div.sk-serial::before {content: \"\";position: absolute;border-left: 1px solid gray;box-sizing: border-box;top: 0;bottom: 0;left: 50%;z-index: 0;}#sk-container-id-4 div.sk-serial {display: flex;flex-direction: column;align-items: center;background-color: white;padding-right: 0.2em;padding-left: 0.2em;position: relative;}#sk-container-id-4 div.sk-item {position: relative;z-index: 1;}#sk-container-id-4 div.sk-parallel {display: flex;align-items: stretch;justify-content: center;background-color: white;position: relative;}#sk-container-id-4 div.sk-item::before, #sk-container-id-4 div.sk-parallel-item::before {content: \"\";position: absolute;border-left: 1px solid gray;box-sizing: border-box;top: 0;bottom: 0;left: 50%;z-index: -1;}#sk-container-id-4 div.sk-parallel-item {display: flex;flex-direction: column;z-index: 1;position: relative;background-color: white;}#sk-container-id-4 div.sk-parallel-item:first-child::after {align-self: flex-end;width: 50%;}#sk-container-id-4 div.sk-parallel-item:last-child::after {align-self: flex-start;width: 50%;}#sk-container-id-4 div.sk-parallel-item:only-child::after {width: 0;}#sk-container-id-4 div.sk-dashed-wrapped {border: 1px dashed gray;margin: 0 0.4em 0.5em 0.4em;box-sizing: border-box;padding-bottom: 0.4em;background-color: white;}#sk-container-id-4 div.sk-label label {font-family: monospace;font-weight: bold;display: inline-block;line-height: 1.2em;}#sk-container-id-4 div.sk-label-container {text-align: center;}#sk-container-id-4 div.sk-container {/* jupyter's `normalize.less` sets `[hidden] { display: none; }` but bootstrap.min.css set `[hidden] { display: none !important; }` so we also need the `!important` here to be able to override the default hidden behavior on the sphinx rendered scikit-learn.org. See: https://github.com/scikit-learn/scikit-learn/issues/21755 */display: inline-block !important;position: relative;}#sk-container-id-4 div.sk-text-repr-fallback {display: none;}</style><div id=\"sk-container-id-4\" class=\"sk-top-container\"><div class=\"sk-text-repr-fallback\"><pre>DecisionTreeClassifier(max_depth=1)</pre><b>In a Jupyter environment, please rerun this cell to show the HTML representation or trust the notebook. <br />On GitHub, the HTML representation is unable to render, please try loading this page with nbviewer.org.</b></div><div class=\"sk-container\" hidden><div class=\"sk-item\"><div class=\"sk-estimator sk-toggleable\"><input class=\"sk-toggleable__control sk-hidden--visually\" id=\"sk-estimator-id-4\" type=\"checkbox\" checked><label for=\"sk-estimator-id-4\" class=\"sk-toggleable__label sk-toggleable__label-arrow\">DecisionTreeClassifier</label><div class=\"sk-toggleable__content\"><pre>DecisionTreeClassifier(max_depth=1)</pre></div></div></div></div></div>"
      ],
      "text/plain": [
       "DecisionTreeClassifier(max_depth=1)"
      ]
     },
     "execution_count": 75,
     "metadata": {},
     "output_type": "execute_result"
    }
   ],
   "source": [
    "# training the model\n",
    "from sklearn import tree\n",
    "Dtree1=tree.DecisionTreeClassifier(max_depth = 1)\n",
    "Dtree1.fit(X_train,y_train)"
   ]
  },
  {
   "cell_type": "code",
   "execution_count": 76,
   "id": "82a63261",
   "metadata": {},
   "outputs": [
    {
     "name": "stdout",
     "output_type": "stream",
     "text": [
      "|--- sqrt_income <= 10.65\n",
      "|   |--- class: 0\n",
      "|--- sqrt_income >  10.65\n",
      "|   |--- class: 0\n",
      "\n"
     ]
    },
    {
     "data": {
      "image/png": "[encoded data removed]",
      "text/plain": [
       "<Figure size 1500x700 with 1 Axes>"
      ]
     },
     "metadata": {},
     "output_type": "display_data"
    }
   ],
   "source": [
    "# Plotting the model using train data\n",
    "from sklearn.tree import plot_tree , export_text\n",
    "plt.figure(figsize = (15 ,7))\n",
    "plot_tree(Dtree1, filled = True, rounded =True, impurity = False, feature_names = list(X.columns))\n",
    "print(export_text(Dtree1, feature_names=list(X.columns)))"
   ]
  },
  {
   "cell_type": "code",
   "execution_count": 77,
   "id": "10288a98",
   "metadata": {},
   "outputs": [
    {
     "name": "stdout",
     "output_type": "stream",
     "text": [
      "Confusion matrix = \n",
      " [[3591   15]\n",
      " [ 124  270]]\n",
      "Overall accuracy on train data for all the variables = 0.96525\n"
     ]
    }
   ],
   "source": [
    "# Finding the accuracy of the model on train data\n",
    "predict = Dtree.predict(X_train)\n",
    "cm = confusion_matrix(y_train, predict)\n",
    "print(\"Confusion matrix = \\n\" , cm)\n",
    "\n",
    "total = sum(sum(cm))\n",
    "accuracy = (cm[0,0]+cm[1,1]) / total\n",
    "print(\"Overall accuracy on train data for all the variables =\", accuracy)"
   ]
  },
  {
   "cell_type": "code",
   "execution_count": 78,
   "id": "87aa10ad",
   "metadata": {},
   "outputs": [
    {
     "name": "stdout",
     "output_type": "stream",
     "text": [
      "Confusion matrix = \n",
      " [[912   2]\n",
      " [ 29  57]]\n",
      "Overall accuracy on test data for all the variables = 0.969\n"
     ]
    }
   ],
   "source": [
    "# Finding the accuracy of the model on test data\n",
    "predict = Dtree.predict(X_test)\n",
    "cm = confusion_matrix(y_test, predict)\n",
    "print(\"Confusion matrix = \\n\" , cm)\n",
    "\n",
    "total = sum(sum(cm))\n",
    "accuracy = (cm[0,0]+cm[1,1]) / total\n",
    "print(\"Overall accuracy on test data for all the variables =\", accuracy)"
   ]
  },
  {
   "cell_type": "raw",
   "id": "96d8728e",
   "metadata": {},
   "source": [
    "Here we can observe that the train and test accuracy are close enough. Hence the model is not Overfitted."
   ]
  },
  {
   "cell_type": "markdown",
   "id": "af9c5222",
   "metadata": {},
   "source": [
    "# Model Selection And Cross Validation"
   ]
  },
  {
   "cell_type": "markdown",
   "id": "25bb2844",
   "metadata": {},
   "source": [
    "# Sensitivity And Specificity-Logistic Model"
   ]
  },
  {
   "cell_type": "code",
   "execution_count": 79,
   "id": "ea7b208e",
   "metadata": {},
   "outputs": [],
   "source": [
    "X = data_new.drop([\"Personal_Loan\"], axis=1)\n",
    "y=data_new[\"Personal_Loan\"]"
   ]
  },
  {
   "cell_type": "code",
   "execution_count": 80,
   "id": "6c0e95b6",
   "metadata": {},
   "outputs": [
    {
     "name": "stderr",
     "output_type": "stream",
     "text": [
      "C:\\Users\\rahul\\anaconda3\\Lib\\site-packages\\sklearn\\linear_model\\_logistic.py:460: ConvergenceWarning: lbfgs failed to converge (status=1):\n",
      "STOP: TOTAL NO. of ITERATIONS REACHED LIMIT.\n",
      "\n",
      "Increase the number of iterations (max_iter) or scale the data as shown in:\n",
      "    https://scikit-learn.org/stable/modules/preprocessing.html\n",
      "Please also refer to the documentation for alternative solver options:\n",
      "    https://scikit-learn.org/stable/modules/linear_model.html#logistic-regression\n",
      "  n_iter_i = _check_optimize_result(\n"
     ]
    },
    {
     "data": {
      "text/html": [
       "<style>#sk-container-id-5 {color: black;}#sk-container-id-5 pre{padding: 0;}#sk-container-id-5 div.sk-toggleable {background-color: white;}#sk-container-id-5 label.sk-toggleable__label {cursor: pointer;display: block;width: 100%;margin-bottom: 0;padding: 0.3em;box-sizing: border-box;text-align: center;}#sk-container-id-5 label.sk-toggleable__label-arrow:before {content: \"▸\";float: left;margin-right: 0.25em;color: #696969;}#sk-container-id-5 label.sk-toggleable__label-arrow:hover:before {color: black;}#sk-container-id-5 div.sk-estimator:hover label.sk-toggleable__label-arrow:before {color: black;}#sk-container-id-5 div.sk-toggleable__content {max-height: 0;max-width: 0;overflow: hidden;text-align: left;background-color: #f0f8ff;}#sk-container-id-5 div.sk-toggleable__content pre {margin: 0.2em;color: black;border-radius: 0.25em;background-color: #f0f8ff;}#sk-container-id-5 input.sk-toggleable__control:checked~div.sk-toggleable__content {max-height: 200px;max-width: 100%;overflow: auto;}#sk-container-id-5 input.sk-toggleable__control:checked~label.sk-toggleable__label-arrow:before {content: \"▾\";}#sk-container-id-5 div.sk-estimator input.sk-toggleable__control:checked~label.sk-toggleable__label {background-color: #d4ebff;}#sk-container-id-5 div.sk-label input.sk-toggleable__control:checked~label.sk-toggleable__label {background-color: #d4ebff;}#sk-container-id-5 input.sk-hidden--visually {border: 0;clip: rect(1px 1px 1px 1px);clip: rect(1px, 1px, 1px, 1px);height: 1px;margin: -1px;overflow: hidden;padding: 0;position: absolute;width: 1px;}#sk-container-id-5 div.sk-estimator {font-family: monospace;background-color: #f0f8ff;border: 1px dotted black;border-radius: 0.25em;box-sizing: border-box;margin-bottom: 0.5em;}#sk-container-id-5 div.sk-estimator:hover {background-color: #d4ebff;}#sk-container-id-5 div.sk-parallel-item::after {content: \"\";width: 100%;border-bottom: 1px solid gray;flex-grow: 1;}#sk-container-id-5 div.sk-label:hover label.sk-toggleable__label {background-color: #d4ebff;}#sk-container-id-5 div.sk-serial::before {content: \"\";position: absolute;border-left: 1px solid gray;box-sizing: border-box;top: 0;bottom: 0;left: 50%;z-index: 0;}#sk-container-id-5 div.sk-serial {display: flex;flex-direction: column;align-items: center;background-color: white;padding-right: 0.2em;padding-left: 0.2em;position: relative;}#sk-container-id-5 div.sk-item {position: relative;z-index: 1;}#sk-container-id-5 div.sk-parallel {display: flex;align-items: stretch;justify-content: center;background-color: white;position: relative;}#sk-container-id-5 div.sk-item::before, #sk-container-id-5 div.sk-parallel-item::before {content: \"\";position: absolute;border-left: 1px solid gray;box-sizing: border-box;top: 0;bottom: 0;left: 50%;z-index: -1;}#sk-container-id-5 div.sk-parallel-item {display: flex;flex-direction: column;z-index: 1;position: relative;background-color: white;}#sk-container-id-5 div.sk-parallel-item:first-child::after {align-self: flex-end;width: 50%;}#sk-container-id-5 div.sk-parallel-item:last-child::after {align-self: flex-start;width: 50%;}#sk-container-id-5 div.sk-parallel-item:only-child::after {width: 0;}#sk-container-id-5 div.sk-dashed-wrapped {border: 1px dashed gray;margin: 0 0.4em 0.5em 0.4em;box-sizing: border-box;padding-bottom: 0.4em;background-color: white;}#sk-container-id-5 div.sk-label label {font-family: monospace;font-weight: bold;display: inline-block;line-height: 1.2em;}#sk-container-id-5 div.sk-label-container {text-align: center;}#sk-container-id-5 div.sk-container {/* jupyter's `normalize.less` sets `[hidden] { display: none; }` but bootstrap.min.css set `[hidden] { display: none !important; }` so we also need the `!important` here to be able to override the default hidden behavior on the sphinx rendered scikit-learn.org. See: https://github.com/scikit-learn/scikit-learn/issues/21755 */display: inline-block !important;position: relative;}#sk-container-id-5 div.sk-text-repr-fallback {display: none;}</style><div id=\"sk-container-id-5\" class=\"sk-top-container\"><div class=\"sk-text-repr-fallback\"><pre>LogisticRegression()</pre><b>In a Jupyter environment, please rerun this cell to show the HTML representation or trust the notebook. <br />On GitHub, the HTML representation is unable to render, please try loading this page with nbviewer.org.</b></div><div class=\"sk-container\" hidden><div class=\"sk-item\"><div class=\"sk-estimator sk-toggleable\"><input class=\"sk-toggleable__control sk-hidden--visually\" id=\"sk-estimator-id-5\" type=\"checkbox\" checked><label for=\"sk-estimator-id-5\" class=\"sk-toggleable__label sk-toggleable__label-arrow\">LogisticRegression</label><div class=\"sk-toggleable__content\"><pre>LogisticRegression()</pre></div></div></div></div></div>"
      ],
      "text/plain": [
       "LogisticRegression()"
      ]
     },
     "execution_count": 80,
     "metadata": {},
     "output_type": "execute_result"
    }
   ],
   "source": [
    "logistic = LogisticRegression()\n",
    "logistic.fit(X,y)"
   ]
  },
  {
   "cell_type": "code",
   "execution_count": 81,
   "id": "a9988ef5",
   "metadata": {},
   "outputs": [],
   "source": [
    "# Predicting the if a person takes personal loan or not using logistic fit.\n",
    "prediction_probability = logistic.predict_proba(X)"
   ]
  },
  {
   "cell_type": "code",
   "execution_count": 82,
   "id": "1ab49a79",
   "metadata": {},
   "outputs": [
    {
     "data": {
      "text/plain": [
       "array([8.28490694e-04, 1.02702969e-04, 6.64514693e-05, ...,\n",
       "       3.32999377e-03, 6.13257557e-03, 2.94434990e-03])"
      ]
     },
     "execution_count": 82,
     "metadata": {},
     "output_type": "execute_result"
    }
   ],
   "source": [
    "prediction_probability[: , 1]"
   ]
  },
  {
   "cell_type": "code",
   "execution_count": 83,
   "id": "27e73299",
   "metadata": {},
   "outputs": [
    {
     "data": {
      "text/plain": [
       "[0, 0, 0, 0, 0, 0, 0, 0, 0, 1]"
      ]
     },
     "execution_count": 83,
     "metadata": {},
     "output_type": "execute_result"
    }
   ],
   "source": [
    "# Prediction for threshold = 0.5\n",
    "threshold = 0.5\n",
    "predict = [0 if x < threshold else 1 for x in list(prediction_probability[: , 1])]\n",
    "predict[0:10]"
   ]
  },
  {
   "cell_type": "code",
   "execution_count": 84,
   "id": "cf070540",
   "metadata": {},
   "outputs": [
    {
     "name": "stdout",
     "output_type": "stream",
     "text": [
      "Confusion matrix = \n",
      " [[4457   63]\n",
      " [ 194  286]]\n",
      "Overall accuracy  = 0.9486\n",
      "Sensitivity =  0.8914\n",
      "specificity =  0.0572\n"
     ]
    }
   ],
   "source": [
    "cm = confusion_matrix(y, predict)\n",
    "print(\"Confusion matrix = \\n\" , cm)\n",
    "\n",
    "total = sum(sum(cm))\n",
    "accuracy = (cm[0,0]+cm[1,1]) / total\n",
    "print(\"Overall accuracy  =\", accuracy)\n",
    "\n",
    "sensitivity = (cm[0,0])/total\n",
    "print(\"Sensitivity = \" , sensitivity)\n",
    "\n",
    "specificity = (cm[1,1])/total\n",
    "print(\"specificity = \" , specificity)"
   ]
  },
  {
   "cell_type": "markdown",
   "id": "10187e34",
   "metadata": {},
   "source": [
    "# Threshold"
   ]
  },
  {
   "cell_type": "raw",
   "id": "1a29af11",
   "metadata": {},
   "source": [
    "Sensitivity and specificity with different thresholds"
   ]
  },
  {
   "cell_type": "code",
   "execution_count": 85,
   "id": "27be6d69",
   "metadata": {},
   "outputs": [
    {
     "name": "stdout",
     "output_type": "stream",
     "text": [
      "Confusion matrix = \n",
      " [[4214  306]\n",
      " [  89  391]]\n",
      "Overall accuracy  = 0.921\n",
      "Sensitivity =  0.8428\n",
      "specificity =  0.0782\n"
     ]
    }
   ],
   "source": [
    "#  Prediction for threshold\n",
    "threshold1 = 0.2\n",
    "predict1 = [0 if x < threshold1 else 1 for x in list(prediction_probability[: , 1])]\n",
    "\n",
    "cm1 = confusion_matrix(y, predict1)\n",
    "print(\"Confusion matrix = \\n\" , cm1)\n",
    "\n",
    "total1 = sum(sum(cm1))\n",
    "accuracy1 = (cm1[0,0]+cm1[1,1]) / total1\n",
    "print(\"Overall accuracy  =\", accuracy1)\n",
    "\n",
    "sensitivity1 = (cm1[0,0])/total1\n",
    "print(\"Sensitivity = \" , sensitivity1)\n",
    "\n",
    "specificity1= (cm1[1,1])/total1\n",
    "print(\"specificity = \" , specificity1)\n"
   ]
  },
  {
   "cell_type": "raw",
   "id": "f34ca49e",
   "metadata": {},
   "source": [
    "As Threshold decreases from 0.5 to 0.2, the sensitivity decreases(class 0 accuracy) and the specificity increases(class 1 accuracy)"
   ]
  },
  {
   "cell_type": "code",
   "execution_count": 86,
   "id": "359d12f7",
   "metadata": {},
   "outputs": [
    {
     "name": "stdout",
     "output_type": "stream",
     "text": [
      "Confusion matrix = \n",
      " [[4503   17]\n",
      " [ 310  170]]\n",
      "Overall accuracy  = 0.9346\n",
      "Sensitivity =  0.9006\n",
      "specificity =  0.034\n"
     ]
    }
   ],
   "source": [
    "#  Prediction for threshold\n",
    "threshold1 = 0.8\n",
    "predict1 = [0 if x < threshold1 else 1 for x in list(prediction_probability[: , 1])]\n",
    "\n",
    "cm1 = confusion_matrix(y, predict1)\n",
    "print(\"Confusion matrix = \\n\" , cm1)\n",
    "\n",
    "total1 = sum(sum(cm1))\n",
    "accuracy1 = (cm1[0,0]+cm1[1,1]) / total1\n",
    "print(\"Overall accuracy  =\", accuracy1)\n",
    "\n",
    "sensitivity1 = (cm1[0,0])/total1\n",
    "print(\"Sensitivity = \" , sensitivity1)\n",
    "\n",
    "specificity1= (cm1[1,1])/total1\n",
    "print(\"specificity = \" , specificity1)"
   ]
  },
  {
   "cell_type": "raw",
   "id": "6e2cb9f5",
   "metadata": {},
   "source": [
    " As Threshold increases from 0.5 to 0.8, the sensitivity (class 0 accuracy)increases and the specificity(class 1 accuracy)decreases."
   ]
  },
  {
   "cell_type": "markdown",
   "id": "5920b8bf",
   "metadata": {},
   "source": [
    "# Precision, Recall and F1 Score"
   ]
  },
  {
   "cell_type": "code",
   "execution_count": 87,
   "id": "641d2b3e",
   "metadata": {},
   "outputs": [
    {
     "name": "stdout",
     "output_type": "stream",
     "text": [
      "Confusion matrix = \n",
      " [[4457   63]\n",
      " [ 194  286]]\n",
      "Overall accuracy  = 0.9486\n",
      "precision of class 0 =  0.9582885400989034\n",
      "precision of class 1 =  0.8194842406876791\n",
      "Recall of class 0 =  0.9860619469026549\n",
      "Recall of class 1 =  0.5958333333333333\n",
      "F1 score of class 1 =  0.6899879372738239\n"
     ]
    }
   ],
   "source": [
    "# calculating precision , recall and F1 Score\n",
    "threshold1 = 0.5\n",
    "predict1 = [0 if x < threshold1 else 1 for x in list(prediction_probability[: , 1])]\n",
    "\n",
    "cm1 = confusion_matrix(y, predict1)\n",
    "print(\"Confusion matrix = \\n\" , cm1)\n",
    "\n",
    "total1 = sum(sum(cm1))\n",
    "accuracy1 = (cm1[0,0]+cm1[1,1]) / total1\n",
    "print(\"Overall accuracy  =\", accuracy1)\n",
    "\n",
    "Precision_class0 = cm1[0,0]/(cm1[0,0]+cm1[1,0])\n",
    "print(\"precision of class 0 = \" , Precision_class0 )\n",
    "\n",
    "Precision_class1 = cm1[1,1]/(cm1[0,1]+cm1[1,1])\n",
    "print(\"precision of class 1 = \" , Precision_class1 )\n",
    "\n",
    "Recall_class0 = cm1[0,0]/(cm1[0,0]+cm1[0,1])\n",
    "print(\"Recall of class 0 = \" , Recall_class0 )\n",
    "\n",
    "Recall_class1 = cm1[1,1]/(cm1[1,0]+cm1[1,1])\n",
    "print(\"Recall of class 1 = \" , Recall_class1 )\n",
    "\n",
    "F1_Class1 = 2/((1/Precision_class1)+(1/Recall_class1))\n",
    "print(\"F1 score of class 1 = \" ,F1_Class1)\n"
   ]
  },
  {
   "cell_type": "markdown",
   "id": "42bd2b80",
   "metadata": {},
   "source": [
    "# Handling Class Imbalance"
   ]
  },
  {
   "cell_type": "code",
   "execution_count": 88,
   "id": "da494b92",
   "metadata": {},
   "outputs": [
    {
     "name": "stdout",
     "output_type": "stream",
     "text": [
      "0    4520\n",
      "1     480\n",
      "Name: Personal_Loan, dtype: int64\n",
      "0    90.4\n",
      "1     9.6\n",
      "Name: Personal_Loan, dtype: float64\n"
     ]
    }
   ],
   "source": [
    "# Value count of the target variable\n",
    "freq = data_new [\"Personal_Loan\"].value_counts()\n",
    "print(freq)\n",
    "print((freq / (freq.sum()))*100)"
   ]
  },
  {
   "cell_type": "raw",
   "id": "06482360",
   "metadata": {},
   "source": [
    "We can observe that 90.4% of the personal loan takes value 0 and only 9% of the values are 1.\n",
    "\n",
    "This Clearly an imbalanced data.\n",
    "\n",
    "To balance this data we will do understanding of the class 0 and oversampling of class 1."
   ]
  },
  {
   "cell_type": "code",
   "execution_count": 89,
   "id": "48ae1036",
   "metadata": {},
   "outputs": [
    {
     "name": "stdout",
     "output_type": "stream",
     "text": [
      "Final balanced data shape (4152, 12)\n"
     ]
    }
   ],
   "source": [
    "#  Creating balanced data\n",
    "mask1 = data_new[\"Personal_Loan\"]==0\n",
    "mask2 = data_new[\"Personal_Loan\"]==1\n",
    "\n",
    "PL_class0 = data_new[mask1]\n",
    "PL_class1 = data_new[mask2]\n",
    "PL_class0_US = PL_class0.sample(int(0.6*len(PL_class0))) # undersampling of class 0\n",
    "PL_class1_OS = PL_class1.sample(int(3*len(PL_class1)) , replace = True) # Oversampling of class 1\n",
    "\n",
    "data_balanced = pd.concat([PL_class0_US , PL_class1_OS])\n",
    "print(\"Final balanced data shape\" , data_balanced.shape)"
   ]
  },
  {
   "cell_type": "code",
   "execution_count": 90,
   "id": "099c20d6",
   "metadata": {},
   "outputs": [
    {
     "name": "stdout",
     "output_type": "stream",
     "text": [
      "0    2712\n",
      "1    1440\n",
      "Name: Personal_Loan, dtype: int64\n",
      "0    65.317919\n",
      "1    34.682081\n",
      "Name: Personal_Loan, dtype: float64\n"
     ]
    }
   ],
   "source": [
    "# Value count of the balanced data\n",
    "freq = data_balanced [\"Personal_Loan\"].value_counts()\n",
    "print(freq)\n",
    "print((freq / (freq.sum()))*100)"
   ]
  },
  {
   "cell_type": "markdown",
   "id": "aa884861",
   "metadata": {},
   "source": [
    "# Logistic Regression On Balanced Data"
   ]
  },
  {
   "cell_type": "code",
   "execution_count": 91,
   "id": "f5f1bfe0",
   "metadata": {},
   "outputs": [],
   "source": [
    "X = data_balanced.drop([\"Personal_Loan\"], axis=1)\n",
    "y=data_balanced[\"Personal_Loan\"]"
   ]
  },
  {
   "cell_type": "code",
   "execution_count": 92,
   "id": "8840ba30",
   "metadata": {},
   "outputs": [
    {
     "name": "stderr",
     "output_type": "stream",
     "text": [
      "C:\\Users\\rahul\\anaconda3\\Lib\\site-packages\\sklearn\\linear_model\\_logistic.py:460: ConvergenceWarning: lbfgs failed to converge (status=1):\n",
      "STOP: TOTAL NO. of ITERATIONS REACHED LIMIT.\n",
      "\n",
      "Increase the number of iterations (max_iter) or scale the data as shown in:\n",
      "    https://scikit-learn.org/stable/modules/preprocessing.html\n",
      "Please also refer to the documentation for alternative solver options:\n",
      "    https://scikit-learn.org/stable/modules/linear_model.html#logistic-regression\n",
      "  n_iter_i = _check_optimize_result(\n"
     ]
    },
    {
     "data": {
      "text/html": [
       "<style>#sk-container-id-6 {color: black;}#sk-container-id-6 pre{padding: 0;}#sk-container-id-6 div.sk-toggleable {background-color: white;}#sk-container-id-6 label.sk-toggleable__label {cursor: pointer;display: block;width: 100%;margin-bottom: 0;padding: 0.3em;box-sizing: border-box;text-align: center;}#sk-container-id-6 label.sk-toggleable__label-arrow:before {content: \"▸\";float: left;margin-right: 0.25em;color: #696969;}#sk-container-id-6 label.sk-toggleable__label-arrow:hover:before {color: black;}#sk-container-id-6 div.sk-estimator:hover label.sk-toggleable__label-arrow:before {color: black;}#sk-container-id-6 div.sk-toggleable__content {max-height: 0;max-width: 0;overflow: hidden;text-align: left;background-color: #f0f8ff;}#sk-container-id-6 div.sk-toggleable__content pre {margin: 0.2em;color: black;border-radius: 0.25em;background-color: #f0f8ff;}#sk-container-id-6 input.sk-toggleable__control:checked~div.sk-toggleable__content {max-height: 200px;max-width: 100%;overflow: auto;}#sk-container-id-6 input.sk-toggleable__control:checked~label.sk-toggleable__label-arrow:before {content: \"▾\";}#sk-container-id-6 div.sk-estimator input.sk-toggleable__control:checked~label.sk-toggleable__label {background-color: #d4ebff;}#sk-container-id-6 div.sk-label input.sk-toggleable__control:checked~label.sk-toggleable__label {background-color: #d4ebff;}#sk-container-id-6 input.sk-hidden--visually {border: 0;clip: rect(1px 1px 1px 1px);clip: rect(1px, 1px, 1px, 1px);height: 1px;margin: -1px;overflow: hidden;padding: 0;position: absolute;width: 1px;}#sk-container-id-6 div.sk-estimator {font-family: monospace;background-color: #f0f8ff;border: 1px dotted black;border-radius: 0.25em;box-sizing: border-box;margin-bottom: 0.5em;}#sk-container-id-6 div.sk-estimator:hover {background-color: #d4ebff;}#sk-container-id-6 div.sk-parallel-item::after {content: \"\";width: 100%;border-bottom: 1px solid gray;flex-grow: 1;}#sk-container-id-6 div.sk-label:hover label.sk-toggleable__label {background-color: #d4ebff;}#sk-container-id-6 div.sk-serial::before {content: \"\";position: absolute;border-left: 1px solid gray;box-sizing: border-box;top: 0;bottom: 0;left: 50%;z-index: 0;}#sk-container-id-6 div.sk-serial {display: flex;flex-direction: column;align-items: center;background-color: white;padding-right: 0.2em;padding-left: 0.2em;position: relative;}#sk-container-id-6 div.sk-item {position: relative;z-index: 1;}#sk-container-id-6 div.sk-parallel {display: flex;align-items: stretch;justify-content: center;background-color: white;position: relative;}#sk-container-id-6 div.sk-item::before, #sk-container-id-6 div.sk-parallel-item::before {content: \"\";position: absolute;border-left: 1px solid gray;box-sizing: border-box;top: 0;bottom: 0;left: 50%;z-index: -1;}#sk-container-id-6 div.sk-parallel-item {display: flex;flex-direction: column;z-index: 1;position: relative;background-color: white;}#sk-container-id-6 div.sk-parallel-item:first-child::after {align-self: flex-end;width: 50%;}#sk-container-id-6 div.sk-parallel-item:last-child::after {align-self: flex-start;width: 50%;}#sk-container-id-6 div.sk-parallel-item:only-child::after {width: 0;}#sk-container-id-6 div.sk-dashed-wrapped {border: 1px dashed gray;margin: 0 0.4em 0.5em 0.4em;box-sizing: border-box;padding-bottom: 0.4em;background-color: white;}#sk-container-id-6 div.sk-label label {font-family: monospace;font-weight: bold;display: inline-block;line-height: 1.2em;}#sk-container-id-6 div.sk-label-container {text-align: center;}#sk-container-id-6 div.sk-container {/* jupyter's `normalize.less` sets `[hidden] { display: none; }` but bootstrap.min.css set `[hidden] { display: none !important; }` so we also need the `!important` here to be able to override the default hidden behavior on the sphinx rendered scikit-learn.org. See: https://github.com/scikit-learn/scikit-learn/issues/21755 */display: inline-block !important;position: relative;}#sk-container-id-6 div.sk-text-repr-fallback {display: none;}</style><div id=\"sk-container-id-6\" class=\"sk-top-container\"><div class=\"sk-text-repr-fallback\"><pre>LogisticRegression()</pre><b>In a Jupyter environment, please rerun this cell to show the HTML representation or trust the notebook. <br />On GitHub, the HTML representation is unable to render, please try loading this page with nbviewer.org.</b></div><div class=\"sk-container\" hidden><div class=\"sk-item\"><div class=\"sk-estimator sk-toggleable\"><input class=\"sk-toggleable__control sk-hidden--visually\" id=\"sk-estimator-id-6\" type=\"checkbox\" checked><label for=\"sk-estimator-id-6\" class=\"sk-toggleable__label sk-toggleable__label-arrow\">LogisticRegression</label><div class=\"sk-toggleable__content\"><pre>LogisticRegression()</pre></div></div></div></div></div>"
      ],
      "text/plain": [
       "LogisticRegression()"
      ]
     },
     "execution_count": 92,
     "metadata": {},
     "output_type": "execute_result"
    }
   ],
   "source": [
    "logistic = LogisticRegression()\n",
    "logistic.fit(X,y)"
   ]
  },
  {
   "cell_type": "markdown",
   "id": "066507b3",
   "metadata": {},
   "source": [
    "# Updated Sensitivity And Specificity"
   ]
  },
  {
   "cell_type": "code",
   "execution_count": 93,
   "id": "2532316c",
   "metadata": {},
   "outputs": [
    {
     "name": "stdout",
     "output_type": "stream",
     "text": [
      "Confusion matrix = \n",
      " [[2481  231]\n",
      " [ 197 1243]]\n",
      "Overall accuracy  = 0.896917148362235\n",
      "Sensitivity =  0.5975433526011561\n",
      "specificity =  0.299373795761079\n"
     ]
    }
   ],
   "source": [
    "# Predicting the if a person takes personal loan or not using logistic fit\n",
    "prediction_probability = logistic.predict_proba(X)\n",
    "\n",
    "threshold = 0.5\n",
    "predict = [0 if x < threshold else 1 for x in list(prediction_probability[: , 1])]\n",
    "predict[0:10]\n",
    "\n",
    "cm = confusion_matrix(y, predict)\n",
    "print(\"Confusion matrix = \\n\" , cm)\n",
    "\n",
    "total = sum(sum(cm))\n",
    "accuracy = (cm[0,0]+cm[1,1]) / total\n",
    "print(\"Overall accuracy  =\", accuracy)\n",
    "\n",
    "sensitivity = (cm[0,0])/total\n",
    "print(\"Sensitivity = \" , sensitivity)\n",
    "\n",
    "specificity = (cm[1,1])/total\n",
    "print(\"specificity = \" , specificity)"
   ]
  },
  {
   "cell_type": "markdown",
   "id": "77762372",
   "metadata": {},
   "source": [
    "# Updated precision, recall and F1 Score"
   ]
  },
  {
   "cell_type": "code",
   "execution_count": 94,
   "id": "6ba47cb2",
   "metadata": {},
   "outputs": [
    {
     "name": "stdout",
     "output_type": "stream",
     "text": [
      "Confusion matrix = \n",
      " [[2481  231]\n",
      " [ 197 1243]]\n",
      "Overall accuracy  = 0.896917148362235\n",
      "precision of class 0 =  0.926437640029873\n",
      "precision of class 1 =  0.8432835820895522\n",
      "Recall of class 0 =  0.9148230088495575\n",
      "Recall of class 1 =  0.8631944444444445\n",
      "F1 score of class 1 =  0.8531228551818806\n"
     ]
    }
   ],
   "source": [
    "# calculating precision , recall and F1 Score\n",
    "threshold1 = 0.5\n",
    "predict1 = [0 if x < threshold1 else 1 for x in list(prediction_probability[: , 1])]\n",
    "\n",
    "cm1 = confusion_matrix(y, predict1)\n",
    "print(\"Confusion matrix = \\n\" , cm1)\n",
    "\n",
    "total1 = sum(sum(cm1))\n",
    "accuracy1 = (cm1[0,0]+cm1[1,1]) / total1\n",
    "print(\"Overall accuracy  =\", accuracy1)\n",
    "\n",
    "Precision_class0 = cm1[0,0]/(cm1[0,0]+cm1[1,0])\n",
    "print(\"precision of class 0 = \" , Precision_class0 )\n",
    "\n",
    "Precision_class1 = cm1[1,1]/(cm1[0,1]+cm1[1,1])\n",
    "print(\"precision of class 1 = \" , Precision_class1 )\n",
    "\n",
    "Recall_class0 = cm1[0,0]/(cm1[0,0]+cm1[0,1])\n",
    "print(\"Recall of class 0 = \" , Recall_class0 )\n",
    "\n",
    "Recall_class1 = cm1[1,1]/(cm1[1,0]+cm1[1,1])\n",
    "print(\"Recall of class 1 = \" , Recall_class1 )\n",
    "\n",
    "F1_Class1 = 2/((1/Precision_class1)+(1/Recall_class1))\n",
    "print(\"F1 score of class 1 = \" ,F1_Class1)"
   ]
  },
  {
   "cell_type": "markdown",
   "id": "b9ebb42b",
   "metadata": {},
   "source": [
    "# Decision tree on Balanced Data"
   ]
  },
  {
   "cell_type": "code",
   "execution_count": 95,
   "id": "90a5e15d",
   "metadata": {},
   "outputs": [],
   "source": [
    "X = data_balanced.drop([\"Personal_Loan\"], axis=1)\n",
    "y=data_balanced[\"Personal_Loan\"]"
   ]
  },
  {
   "cell_type": "code",
   "execution_count": 96,
   "id": "84532829",
   "metadata": {},
   "outputs": [
    {
     "data": {
      "text/html": [
       "<style>#sk-container-id-7 {color: black;}#sk-container-id-7 pre{padding: 0;}#sk-container-id-7 div.sk-toggleable {background-color: white;}#sk-container-id-7 label.sk-toggleable__label {cursor: pointer;display: block;width: 100%;margin-bottom: 0;padding: 0.3em;box-sizing: border-box;text-align: center;}#sk-container-id-7 label.sk-toggleable__label-arrow:before {content: \"▸\";float: left;margin-right: 0.25em;color: #696969;}#sk-container-id-7 label.sk-toggleable__label-arrow:hover:before {color: black;}#sk-container-id-7 div.sk-estimator:hover label.sk-toggleable__label-arrow:before {color: black;}#sk-container-id-7 div.sk-toggleable__content {max-height: 0;max-width: 0;overflow: hidden;text-align: left;background-color: #f0f8ff;}#sk-container-id-7 div.sk-toggleable__content pre {margin: 0.2em;color: black;border-radius: 0.25em;background-color: #f0f8ff;}#sk-container-id-7 input.sk-toggleable__control:checked~div.sk-toggleable__content {max-height: 200px;max-width: 100%;overflow: auto;}#sk-container-id-7 input.sk-toggleable__control:checked~label.sk-toggleable__label-arrow:before {content: \"▾\";}#sk-container-id-7 div.sk-estimator input.sk-toggleable__control:checked~label.sk-toggleable__label {background-color: #d4ebff;}#sk-container-id-7 div.sk-label input.sk-toggleable__control:checked~label.sk-toggleable__label {background-color: #d4ebff;}#sk-container-id-7 input.sk-hidden--visually {border: 0;clip: rect(1px 1px 1px 1px);clip: rect(1px, 1px, 1px, 1px);height: 1px;margin: -1px;overflow: hidden;padding: 0;position: absolute;width: 1px;}#sk-container-id-7 div.sk-estimator {font-family: monospace;background-color: #f0f8ff;border: 1px dotted black;border-radius: 0.25em;box-sizing: border-box;margin-bottom: 0.5em;}#sk-container-id-7 div.sk-estimator:hover {background-color: #d4ebff;}#sk-container-id-7 div.sk-parallel-item::after {content: \"\";width: 100%;border-bottom: 1px solid gray;flex-grow: 1;}#sk-container-id-7 div.sk-label:hover label.sk-toggleable__label {background-color: #d4ebff;}#sk-container-id-7 div.sk-serial::before {content: \"\";position: absolute;border-left: 1px solid gray;box-sizing: border-box;top: 0;bottom: 0;left: 50%;z-index: 0;}#sk-container-id-7 div.sk-serial {display: flex;flex-direction: column;align-items: center;background-color: white;padding-right: 0.2em;padding-left: 0.2em;position: relative;}#sk-container-id-7 div.sk-item {position: relative;z-index: 1;}#sk-container-id-7 div.sk-parallel {display: flex;align-items: stretch;justify-content: center;background-color: white;position: relative;}#sk-container-id-7 div.sk-item::before, #sk-container-id-7 div.sk-parallel-item::before {content: \"\";position: absolute;border-left: 1px solid gray;box-sizing: border-box;top: 0;bottom: 0;left: 50%;z-index: -1;}#sk-container-id-7 div.sk-parallel-item {display: flex;flex-direction: column;z-index: 1;position: relative;background-color: white;}#sk-container-id-7 div.sk-parallel-item:first-child::after {align-self: flex-end;width: 50%;}#sk-container-id-7 div.sk-parallel-item:last-child::after {align-self: flex-start;width: 50%;}#sk-container-id-7 div.sk-parallel-item:only-child::after {width: 0;}#sk-container-id-7 div.sk-dashed-wrapped {border: 1px dashed gray;margin: 0 0.4em 0.5em 0.4em;box-sizing: border-box;padding-bottom: 0.4em;background-color: white;}#sk-container-id-7 div.sk-label label {font-family: monospace;font-weight: bold;display: inline-block;line-height: 1.2em;}#sk-container-id-7 div.sk-label-container {text-align: center;}#sk-container-id-7 div.sk-container {/* jupyter's `normalize.less` sets `[hidden] { display: none; }` but bootstrap.min.css set `[hidden] { display: none !important; }` so we also need the `!important` here to be able to override the default hidden behavior on the sphinx rendered scikit-learn.org. See: https://github.com/scikit-learn/scikit-learn/issues/21755 */display: inline-block !important;position: relative;}#sk-container-id-7 div.sk-text-repr-fallback {display: none;}</style><div id=\"sk-container-id-7\" class=\"sk-top-container\"><div class=\"sk-text-repr-fallback\"><pre>DecisionTreeClassifier(max_depth=2)</pre><b>In a Jupyter environment, please rerun this cell to show the HTML representation or trust the notebook. <br />On GitHub, the HTML representation is unable to render, please try loading this page with nbviewer.org.</b></div><div class=\"sk-container\" hidden><div class=\"sk-item\"><div class=\"sk-estimator sk-toggleable\"><input class=\"sk-toggleable__control sk-hidden--visually\" id=\"sk-estimator-id-7\" type=\"checkbox\" checked><label for=\"sk-estimator-id-7\" class=\"sk-toggleable__label sk-toggleable__label-arrow\">DecisionTreeClassifier</label><div class=\"sk-toggleable__content\"><pre>DecisionTreeClassifier(max_depth=2)</pre></div></div></div></div></div>"
      ],
      "text/plain": [
       "DecisionTreeClassifier(max_depth=2)"
      ]
     },
     "execution_count": 96,
     "metadata": {},
     "output_type": "execute_result"
    }
   ],
   "source": [
    "Dtree = DecisionTreeClassifier(max_depth = 2)\n",
    "Dtree.fit(X,y)"
   ]
  },
  {
   "cell_type": "code",
   "execution_count": 97,
   "id": "e10e7274",
   "metadata": {},
   "outputs": [
    {
     "name": "stdout",
     "output_type": "stream",
     "text": [
      "|--- sqrt_income <= 9.92\n",
      "|   |--- log_CCAvg <= 1.37\n",
      "|   |   |--- class: 0\n",
      "|   |--- log_CCAvg >  1.37\n",
      "|   |   |--- class: 1\n",
      "|--- sqrt_income >  9.92\n",
      "|   |--- Education <= 1.50\n",
      "|   |   |--- class: 0\n",
      "|   |--- Education >  1.50\n",
      "|   |   |--- class: 1\n",
      "\n"
     ]
    },
    {
     "data": {
      "image/png": "[encoded data removed]",
      "text/plain": [
       "<Figure size 1500x700 with 1 Axes>"
      ]
     },
     "metadata": {},
     "output_type": "display_data"
    }
   ],
   "source": [
    "# Plotting the tree\n",
    "from sklearn.tree import plot_tree , export_text\n",
    "plt.figure(figsize = (15 ,7))\n",
    "plot_tree(Dtree, filled = True, rounded =True, impurity = False, feature_names = list(X.columns))\n",
    "print(export_text(Dtree, feature_names=list(X.columns)))\n",
    "plt.show()"
   ]
  },
  {
   "cell_type": "code",
   "execution_count": 98,
   "id": "c1cef1e3",
   "metadata": {},
   "outputs": [
    {
     "name": "stdout",
     "output_type": "stream",
     "text": [
      "Confusion matrix = \n",
      " [[2546  166]\n",
      " [ 220 1220]]\n",
      "Overall accuracy on train data for all the variables = 0.9070327552986512\n"
     ]
    }
   ],
   "source": [
    "# Finding the accuracy of the model\n",
    "predict = Dtree.predict(X)\n",
    "cm = confusion_matrix(y, predict)\n",
    "print(\"Confusion matrix = \\n\" , cm)\n",
    "\n",
    "total = sum(sum(cm))\n",
    "accuracy = (cm[0,0]+cm[1,1]) / total\n",
    "print(\"Overall accuracy on train data for all the variables =\", accuracy)"
   ]
  },
  {
   "cell_type": "markdown",
   "id": "a495e50c",
   "metadata": {},
   "source": [
    "# Updated Sensitivity And Specificity"
   ]
  },
  {
   "cell_type": "code",
   "execution_count": 99,
   "id": "e1a49781",
   "metadata": {},
   "outputs": [
    {
     "name": "stdout",
     "output_type": "stream",
     "text": [
      "Confusion matrix = \n",
      " [[2481  231]\n",
      " [ 197 1243]]\n",
      "Overall accuracy  = 0.896917148362235\n",
      "Sensitivity =  0.5975433526011561\n",
      "specificity =  0.299373795761079\n"
     ]
    }
   ],
   "source": [
    "# Predicting the if a person takes personal loan or not using logistic fit\n",
    "prediction_probability = logistic.predict_proba(X)\n",
    "\n",
    "threshold = 0.5\n",
    "predict = [0 if x < threshold else 1 for x in list(prediction_probability[: , 1])]\n",
    "predict[0:10]\n",
    "\n",
    "cm = confusion_matrix(y, predict)\n",
    "print(\"Confusion matrix = \\n\" , cm)\n",
    "\n",
    "total = sum(sum(cm))\n",
    "accuracy = (cm[0,0]+cm[1,1]) / total\n",
    "print(\"Overall accuracy  =\", accuracy)\n",
    "\n",
    "sensitivity = (cm[0,0])/total\n",
    "print(\"Sensitivity = \" , sensitivity)\n",
    "\n",
    "specificity = (cm[1,1])/total\n",
    "print(\"specificity = \" , specificity)"
   ]
  },
  {
   "cell_type": "markdown",
   "id": "a931614a",
   "metadata": {},
   "source": [
    "# Updated Precision, Recall and F1 score"
   ]
  },
  {
   "cell_type": "code",
   "execution_count": 100,
   "id": "5659268d",
   "metadata": {},
   "outputs": [
    {
     "name": "stdout",
     "output_type": "stream",
     "text": [
      "Confusion matrix = \n",
      " [[2481  231]\n",
      " [ 197 1243]]\n",
      "Overall accuracy  = 0.896917148362235\n",
      "precision of class 0 =  0.926437640029873\n",
      "precision of class 1 =  0.8432835820895522\n",
      "Recall of class 0 =  0.9148230088495575\n",
      "Recall of class 1 =  0.8631944444444445\n",
      "F1 score of class 1 =  0.8531228551818806\n"
     ]
    }
   ],
   "source": [
    "# calculating precision , recall and F1 Score\n",
    "threshold1 = 0.5\n",
    "predict1 = [0 if x < threshold1 else 1 for x in list(prediction_probability[: , 1])]\n",
    "\n",
    "cm1 = confusion_matrix(y, predict1)\n",
    "print(\"Confusion matrix = \\n\" , cm1)\n",
    "\n",
    "total1 = sum(sum(cm1))\n",
    "accuracy1 = (cm1[0,0]+cm1[1,1]) / total1\n",
    "print(\"Overall accuracy  =\", accuracy1)\n",
    "\n",
    "Precision_class0 = cm1[0,0]/(cm1[0,0]+cm1[1,0])\n",
    "print(\"precision of class 0 = \" , Precision_class0 )\n",
    "\n",
    "Precision_class1 = cm1[1,1]/(cm1[0,1]+cm1[1,1])\n",
    "print(\"precision of class 1 = \" , Precision_class1 )\n",
    "\n",
    "Recall_class0 = cm1[0,0]/(cm1[0,0]+cm1[0,1])\n",
    "print(\"Recall of class 0 = \" , Recall_class0 )\n",
    "\n",
    "Recall_class1 = cm1[1,1]/(cm1[1,0]+cm1[1,1])\n",
    "print(\"Recall of class 1 = \" , Recall_class1 )\n",
    "\n",
    "F1_Class1 = 2/((1/Precision_class1)+(1/Recall_class1))\n",
    "print(\"F1 score of class 1 = \" ,F1_Class1)"
   ]
  },
  {
   "cell_type": "markdown",
   "id": "3913413d",
   "metadata": {},
   "source": [
    "# K Fold Data Validation"
   ]
  },
  {
   "cell_type": "code",
   "execution_count": 101,
   "id": "848a7f5a",
   "metadata": {},
   "outputs": [
    {
     "name": "stdout",
     "output_type": "stream",
     "text": [
      "[0.94230769 0.93990385 0.93012048 0.95180723 0.92289157 0.9373494\n",
      " 0.89879518 0.74939759 0.78072289 0.74939759]\n",
      "Avg K-Fold Accuracy 0.880269346617238\n"
     ]
    }
   ],
   "source": [
    "X = data_balanced.drop([\"Personal_Loan\"], axis=1)\n",
    "y=data_balanced[\"Personal_Loan\"]\n",
    "\n",
    "Dtree = DecisionTreeClassifier(max_depth = 2)\n",
    "\n",
    "# Simple K-Fold cross validation. 10 folds\n",
    "from sklearn.model_selection import KFold\n",
    "kfold_models = KFold(n_splits=10)\n",
    "\n",
    "from sklearn import model_selection\n",
    "scores = model_selection.cross_val_score(Dtree,X, y, cv = kfold_models)\n",
    "print(scores)\n",
    "print(\"Avg K-Fold Accuracy\", scores.mean())"
   ]
  },
  {
   "cell_type": "markdown",
   "id": "3e47b518",
   "metadata": {},
   "source": [
    "# Random Forest"
   ]
  },
  {
   "cell_type": "code",
   "execution_count": 102,
   "id": "7a6c85f9",
   "metadata": {},
   "outputs": [
    {
     "data": {
      "text/plain": [
       "(3321, 11)"
      ]
     },
     "execution_count": 102,
     "metadata": {},
     "output_type": "execute_result"
    }
   ],
   "source": [
    "X = data_balanced.drop([\"Personal_Loan\"], axis=1)\n",
    "y=data_balanced[\"Personal_Loan\"]\n",
    "\n",
    "from sklearn.model_selection import train_test_split\n",
    "X_train,X_test,y_train,y_test = train_test_split(X,y, train_size=0.8)\n",
    "X_train.shape"
   ]
  },
  {
   "cell_type": "code",
   "execution_count": 103,
   "id": "cbc38874",
   "metadata": {},
   "outputs": [
    {
     "data": {
      "text/html": [
       "<style>#sk-container-id-8 {color: black;}#sk-container-id-8 pre{padding: 0;}#sk-container-id-8 div.sk-toggleable {background-color: white;}#sk-container-id-8 label.sk-toggleable__label {cursor: pointer;display: block;width: 100%;margin-bottom: 0;padding: 0.3em;box-sizing: border-box;text-align: center;}#sk-container-id-8 label.sk-toggleable__label-arrow:before {content: \"▸\";float: left;margin-right: 0.25em;color: #696969;}#sk-container-id-8 label.sk-toggleable__label-arrow:hover:before {color: black;}#sk-container-id-8 div.sk-estimator:hover label.sk-toggleable__label-arrow:before {color: black;}#sk-container-id-8 div.sk-toggleable__content {max-height: 0;max-width: 0;overflow: hidden;text-align: left;background-color: #f0f8ff;}#sk-container-id-8 div.sk-toggleable__content pre {margin: 0.2em;color: black;border-radius: 0.25em;background-color: #f0f8ff;}#sk-container-id-8 input.sk-toggleable__control:checked~div.sk-toggleable__content {max-height: 200px;max-width: 100%;overflow: auto;}#sk-container-id-8 input.sk-toggleable__control:checked~label.sk-toggleable__label-arrow:before {content: \"▾\";}#sk-container-id-8 div.sk-estimator input.sk-toggleable__control:checked~label.sk-toggleable__label {background-color: #d4ebff;}#sk-container-id-8 div.sk-label input.sk-toggleable__control:checked~label.sk-toggleable__label {background-color: #d4ebff;}#sk-container-id-8 input.sk-hidden--visually {border: 0;clip: rect(1px 1px 1px 1px);clip: rect(1px, 1px, 1px, 1px);height: 1px;margin: -1px;overflow: hidden;padding: 0;position: absolute;width: 1px;}#sk-container-id-8 div.sk-estimator {font-family: monospace;background-color: #f0f8ff;border: 1px dotted black;border-radius: 0.25em;box-sizing: border-box;margin-bottom: 0.5em;}#sk-container-id-8 div.sk-estimator:hover {background-color: #d4ebff;}#sk-container-id-8 div.sk-parallel-item::after {content: \"\";width: 100%;border-bottom: 1px solid gray;flex-grow: 1;}#sk-container-id-8 div.sk-label:hover label.sk-toggleable__label {background-color: #d4ebff;}#sk-container-id-8 div.sk-serial::before {content: \"\";position: absolute;border-left: 1px solid gray;box-sizing: border-box;top: 0;bottom: 0;left: 50%;z-index: 0;}#sk-container-id-8 div.sk-serial {display: flex;flex-direction: column;align-items: center;background-color: white;padding-right: 0.2em;padding-left: 0.2em;position: relative;}#sk-container-id-8 div.sk-item {position: relative;z-index: 1;}#sk-container-id-8 div.sk-parallel {display: flex;align-items: stretch;justify-content: center;background-color: white;position: relative;}#sk-container-id-8 div.sk-item::before, #sk-container-id-8 div.sk-parallel-item::before {content: \"\";position: absolute;border-left: 1px solid gray;box-sizing: border-box;top: 0;bottom: 0;left: 50%;z-index: -1;}#sk-container-id-8 div.sk-parallel-item {display: flex;flex-direction: column;z-index: 1;position: relative;background-color: white;}#sk-container-id-8 div.sk-parallel-item:first-child::after {align-self: flex-end;width: 50%;}#sk-container-id-8 div.sk-parallel-item:last-child::after {align-self: flex-start;width: 50%;}#sk-container-id-8 div.sk-parallel-item:only-child::after {width: 0;}#sk-container-id-8 div.sk-dashed-wrapped {border: 1px dashed gray;margin: 0 0.4em 0.5em 0.4em;box-sizing: border-box;padding-bottom: 0.4em;background-color: white;}#sk-container-id-8 div.sk-label label {font-family: monospace;font-weight: bold;display: inline-block;line-height: 1.2em;}#sk-container-id-8 div.sk-label-container {text-align: center;}#sk-container-id-8 div.sk-container {/* jupyter's `normalize.less` sets `[hidden] { display: none; }` but bootstrap.min.css set `[hidden] { display: none !important; }` so we also need the `!important` here to be able to override the default hidden behavior on the sphinx rendered scikit-learn.org. See: https://github.com/scikit-learn/scikit-learn/issues/21755 */display: inline-block !important;position: relative;}#sk-container-id-8 div.sk-text-repr-fallback {display: none;}</style><div id=\"sk-container-id-8\" class=\"sk-top-container\"><div class=\"sk-text-repr-fallback\"><pre>RandomForestClassifier(max_depth=6, max_features=4, n_estimators=200)</pre><b>In a Jupyter environment, please rerun this cell to show the HTML representation or trust the notebook. <br />On GitHub, the HTML representation is unable to render, please try loading this page with nbviewer.org.</b></div><div class=\"sk-container\" hidden><div class=\"sk-item\"><div class=\"sk-estimator sk-toggleable\"><input class=\"sk-toggleable__control sk-hidden--visually\" id=\"sk-estimator-id-8\" type=\"checkbox\" checked><label for=\"sk-estimator-id-8\" class=\"sk-toggleable__label sk-toggleable__label-arrow\">RandomForestClassifier</label><div class=\"sk-toggleable__content\"><pre>RandomForestClassifier(max_depth=6, max_features=4, n_estimators=200)</pre></div></div></div></div></div>"
      ],
      "text/plain": [
       "RandomForestClassifier(max_depth=6, max_features=4, n_estimators=200)"
      ]
     },
     "execution_count": 103,
     "metadata": {},
     "output_type": "execute_result"
    }
   ],
   "source": [
    "from sklearn.ensemble import RandomForestClassifier\n",
    "forest=RandomForestClassifier(n_estimators=200, max_features=4, max_depth=6)\n",
    "forest.fit(X_train,y_train)"
   ]
  },
  {
   "cell_type": "code",
   "execution_count": 104,
   "id": "c008e22e",
   "metadata": {},
   "outputs": [
    {
     "name": "stdout",
     "output_type": "stream",
     "text": [
      "Confusion matrix for train data = \n",
      " [[2164   22]\n",
      " [  16 1119]]\n",
      "Accuracy of train data \n",
      " 0.9885576633544113\n",
      "Confusion matrix for test data = \n",
      " [[521   5]\n",
      " [  6 299]]\n",
      "Accuracy of test data \n",
      " 0.98676293622142\n"
     ]
    }
   ],
   "source": [
    "# Predicting on train data\n",
    "Forest_predict_train=forest.predict(X_train)\n",
    "\n",
    "# Predicting on test data\n",
    "Forest_predict_test=forest.predict(X_test)\n",
    "\n",
    "# Train data validation\n",
    "cm1 = confusion_matrix(y_train, Forest_predict_train)\n",
    "print(\"Confusion matrix for train data = \\n\" , cm1)\n",
    "\n",
    "total1 = sum(sum(cm1))\n",
    "accuracy_tree = (cm1[0,0]+cm1[1,1]) / total1\n",
    "print(\"Accuracy of train data \\n\", accuracy_tree)\n",
    "\n",
    "# Testdata validation\n",
    "cm2 = confusion_matrix(y_test, Forest_predict_test)\n",
    "print(\"Confusion matrix for test data = \\n\" , cm2)\n",
    "\n",
    "total1 = sum(sum(cm2))\n",
    "accuracy_tree = (cm2[0,0]+cm2[1,1]) / total1\n",
    "print(\"Accuracy of test data \\n\", accuracy_tree)"
   ]
  },
  {
   "cell_type": "markdown",
   "id": "4d5d9ea8",
   "metadata": {},
   "source": [
    "# Boosting"
   ]
  },
  {
   "cell_type": "markdown",
   "id": "a4f5c22c",
   "metadata": {},
   "source": [
    "# Gradient Boosting Model(GBM)"
   ]
  },
  {
   "cell_type": "code",
   "execution_count": 106,
   "id": "db06b80f",
   "metadata": {},
   "outputs": [],
   "source": [
    "X = data_balanced.drop([\"Personal_Loan\"], axis=1)\n",
    "y=data_balanced[\"Personal_Loan\"]\n",
    "\n",
    "from sklearn.model_selection import train_test_split\n",
    "X_train,X_test,y_train,y_test = train_test_split(X,y, train_size=0.8)"
   ]
  },
  {
   "cell_type": "code",
   "execution_count": 108,
   "id": "5124a843",
   "metadata": {},
   "outputs": [
    {
     "name": "stdout",
     "output_type": "stream",
     "text": [
      "      Iter       Train Loss   Remaining Time \n",
      "         1           1.1231            2.43s\n",
      "         2           0.9916            1.69s\n",
      "         3           0.8864            1.42s\n",
      "         4           0.7989            1.29s\n",
      "         5           0.7226            1.21s\n",
      "         6           0.6593            1.11s\n",
      "         7           0.6050            1.08s\n",
      "         8           0.5576            1.07s\n",
      "         9           0.5169            1.14s\n",
      "        10           0.4787            1.08s\n",
      "        20           0.2686            0.78s\n",
      "        30           0.1891            0.63s\n",
      "        40           0.1518            0.50s\n",
      "        50           0.1328            0.40s\n",
      "        60           0.1113            0.31s\n",
      "        70           0.0975            0.26s\n",
      "        80           0.0879            0.17s\n",
      "        90           0.0799            0.09s\n",
      "       100           0.0719            0.00s\n",
      "Time taken by GBM 0.861670732498169 Seconds\n"
     ]
    }
   ],
   "source": [
    "from sklearn.ensemble import GradientBoostingClassifier\n",
    "import time\n",
    "\n",
    "# Building the GBM\n",
    "boost=GradientBoostingClassifier(n_estimators=100, learning_rate=0.1, verbose=1)\n",
    "\n",
    "# fitting the gradient boost classifier\n",
    "start_time = time.time()\n",
    "boost.fit(X_train,y_train)\n",
    "print(\"Time taken by GBM \"+ str((time.time() - start_time))+ \" Seconds\")"
   ]
  },
  {
   "cell_type": "code",
   "execution_count": 109,
   "id": "50837e11",
   "metadata": {},
   "outputs": [
    {
     "name": "stdout",
     "output_type": "stream",
     "text": [
      "[[2164   18]\n",
      " [   3 1136]]\n",
      "train accuracy 0.993676603432701\n"
     ]
    }
   ],
   "source": [
    "# predicting Gradient boosting model on the train data\n",
    "boost_predict_train=boost.predict(X_train)\n",
    "cm1 = confusion_matrix(y_train, boost_predict_train)\n",
    "print(cm1)\n",
    "\n",
    "total = sum(sum(cm1))\n",
    "from sklearn.metrics import f1_score\n",
    "accuracy_train = f1_score(y_train, boost_predict_train, average='micro')\n",
    "print(\"train accuracy\", accuracy_train)"
   ]
  },
  {
   "cell_type": "code",
   "execution_count": 110,
   "id": "db38a9db",
   "metadata": {},
   "outputs": [
    {
     "name": "stdout",
     "output_type": "stream",
     "text": [
      "[[522   8]\n",
      " [  0 301]]\n",
      "test accuracy 0.9903730445246691\n"
     ]
    }
   ],
   "source": [
    "# Predicting gradient boosting model on the test data\n",
    "boost_predict_test=boost.predict(X_test)\n",
    "cm1 = confusion_matrix(y_test, boost_predict_test)\n",
    "print(cm1)\n",
    "\n",
    "accuracy_test = f1_score(y_test, boost_predict_test, average='micro')\n",
    "print(\"test accuracy\", accuracy_test)"
   ]
  },
  {
   "cell_type": "code",
   "execution_count": null,
   "id": "435ab828",
   "metadata": {},
   "outputs": [],
   "source": []
  }
 ],
 "metadata": {
  "kernelspec": {
   "display_name": "Python 3 (ipykernel)",
   "language": "python",
   "name": "python3"
  },
  "language_info": {
   "codemirror_mode": {
    "name": "ipython",
    "version": 3
   },
   "file_extension": ".py",
   "mimetype": "text/x-python",
   "name": "python",
   "nbconvert_exporter": "python",
   "pygments_lexer": "ipython3",
   "version": "3.11.4"
  }
 },
 "nbformat": 4,
 "nbformat_minor": 5
}
